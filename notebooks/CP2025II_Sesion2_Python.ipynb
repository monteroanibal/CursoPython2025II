{
  "nbformat": 4,
  "nbformat_minor": 0,
  "metadata": {
    "colab": {
      "provenance": [],
      "collapsed_sections": [
        "Tli3svIQ0wRt",
        "kqXE42FNXGQq",
        "oVeUkWE20l47",
        "IyEGt5Il7pOF",
        "aRxScJ07hEIr",
        "Z96popLDpI5N",
        "es4vF6VvhL6U",
        "qbEtuuNQgvbX",
        "eeo74HTX3Fpk",
        "0KS57Eh_FCq1",
        "MFCBpGV4IjSf",
        "lawLD_Fas5SI",
        "sDPUpaEywJU1",
        "t2Yn9k0ivs9N",
        "pklQZvjuP0YJ",
        "AhqfymjE6wGY"
      ],
      "authorship_tag": "ABX9TyPrmmQgjRkTkkjcgCcXtZGj",
      "include_colab_link": true
    },
    "kernelspec": {
      "name": "python3",
      "display_name": "Python 3"
    },
    "language_info": {
      "name": "python"
    }
  },
  "cells": [
    {
      "cell_type": "markdown",
      "metadata": {
        "id": "view-in-github",
        "colab_type": "text"
      },
      "source": [
        "<a href=\"https://colab.research.google.com/github/monteroanibal/CursoPython2025II/blob/main/notebooks/CP2025II_Sesion2_Python.ipynb\" target=\"_parent\"><img src=\"https://colab.research.google.com/assets/colab-badge.svg\" alt=\"Open In Colab\"/></a>"
      ]
    },
    {
      "cell_type": "markdown",
      "source": [
        "<figure>\n",
        "<center>\n",
        "<img src='https://upload.wikimedia.org/wikipedia/commons/a/a2/Colombia_Dane_logo_%282%29.svg', height=\"75\">\n",
        "<figcaption>Departamento Administrativo Nacional de Estadística - DANE<br> Dirección de Censos y Demografía - DCD<br>GIT Investigación y Desarrollo</figcaption></center>\n",
        "</figure>"
      ],
      "metadata": {
        "id": "ZQgUzskoWp_y"
      }
    },
    {
      "cell_type": "markdown",
      "source": [
        "**Sesión 2 - Un primer código en Python - 05sep2025**"
      ],
      "metadata": {
        "id": "Nw5VzXsFX8Ap"
      }
    },
    {
      "cell_type": "markdown",
      "source": [
        "# 0. Hola mundo"
      ],
      "metadata": {
        "id": "Tli3svIQ0wRt"
      }
    },
    {
      "cell_type": "markdown",
      "source": [
        "Iniciamos con el clásico \"Hola mundo\", la forma tradicional de probar que todo está listo para empezar a programar en un nuevo lenguaje. Aquí imprimimos un mensaje en el notebook."
      ],
      "metadata": {
        "id": "arIX6aGeZ5hC"
      }
    },
    {
      "cell_type": "code",
      "source": [
        "print(\"Hola, mundo\")"
      ],
      "metadata": {
        "id": "rEG3fw2NXJQ4"
      },
      "execution_count": null,
      "outputs": []
    },
    {
      "cell_type": "markdown",
      "source": [
        "Lo escrito en citación, sea comilla simple o doble es el valor un tipo de dato llamado *string* o *cadena de caracteres*."
      ],
      "metadata": {
        "id": "tWmTYUvBaBRp"
      }
    },
    {
      "cell_type": "code",
      "source": [
        "\"Hola, mundo\""
      ],
      "metadata": {
        "id": "hA0l4WaBYb-U"
      },
      "execution_count": null,
      "outputs": []
    },
    {
      "cell_type": "markdown",
      "source": [
        "# 1. Creación de variables"
      ],
      "metadata": {
        "id": "kqXE42FNXGQq"
      }
    },
    {
      "cell_type": "markdown",
      "source": [
        "En Python, una variable es un *nombre* que se asocia a un valor en memoria. En principio, no es necesario declarar su tipo de antemano: basta con asignar el valor, y Python se encarga del resto."
      ],
      "metadata": {
        "id": "PjSBALOnab_r"
      }
    },
    {
      "cell_type": "markdown",
      "source": [
        "## Creación de Variables y tipos de variables"
      ],
      "metadata": {
        "id": "oVeUkWE20l47"
      }
    },
    {
      "cell_type": "markdown",
      "source": [
        "Aquí se asigna un nombre al valor antes mencionado."
      ],
      "metadata": {
        "id": "SLMVjkiVaxgD"
      }
    },
    {
      "cell_type": "code",
      "source": [
        "frase = \"Hola, mundo\"\n",
        "frase"
      ],
      "metadata": {
        "id": "2tQAwHokYfvh"
      },
      "execution_count": null,
      "outputs": []
    },
    {
      "cell_type": "markdown",
      "source": [
        "Utilizamos la función *print* para mostrar el valor de la variable."
      ],
      "metadata": {
        "id": "XLk_Jx5tbBRa"
      }
    },
    {
      "cell_type": "code",
      "source": [
        "print(frase)"
      ],
      "metadata": {
        "id": "zl-5s0C-Ypab"
      },
      "execution_count": null,
      "outputs": []
    },
    {
      "cell_type": "markdown",
      "source": [
        "Lo siguiente es el valor un tipo de dato llamado *int* o *entero*. El tipo de datos es verificable mediante la función *type()*."
      ],
      "metadata": {
        "id": "ntXue_e0bTP6"
      }
    },
    {
      "cell_type": "code",
      "source": [
        "numero_0 = 1234\n",
        "type(numero_0)"
      ],
      "metadata": {
        "id": "ZZNKElavpmaF"
      },
      "execution_count": null,
      "outputs": []
    },
    {
      "cell_type": "markdown",
      "source": [
        "Un valor numérico puede estar almacenado como string."
      ],
      "metadata": {
        "id": "ATzc-jpYbmx1"
      }
    },
    {
      "cell_type": "code",
      "source": [
        "numero_1 = \"1234\"\n",
        "type(numero_1)"
      ],
      "metadata": {
        "id": "YnL-b84ppb3v"
      },
      "execution_count": null,
      "outputs": []
    },
    {
      "cell_type": "markdown",
      "source": [
        "El tipo de dato que permite dar cuenta de los valores lógicos *Verdadero* y *Falso* se llama *bool*."
      ],
      "metadata": {
        "id": "eq8ZMuawbz46"
      }
    },
    {
      "cell_type": "code",
      "source": [
        "booleano_0 = False\n",
        "booleano_1 = True\n",
        "print(booleano_0)\n",
        "print(booleano_1)"
      ],
      "metadata": {
        "id": "NLCNIcAe0pFE"
      },
      "execution_count": null,
      "outputs": []
    },
    {
      "cell_type": "code",
      "source": [
        "print( \"Tipo de dato de la variable 'booleano_0':\", type(booleano_0) )"
      ],
      "metadata": {
        "id": "doVzmksPch6z"
      },
      "execution_count": null,
      "outputs": []
    },
    {
      "cell_type": "markdown",
      "source": [
        "## Limpiar variables creadas en la sesión"
      ],
      "metadata": {
        "id": "IyEGt5Il7pOF"
      }
    },
    {
      "cell_type": "markdown",
      "source": [
        "El siguiente comando permite revisar las variables que como usuarios en la sesión hemos creado, sea de forma automática o declaratoria."
      ],
      "metadata": {
        "id": "N6stnYYccx96"
      }
    },
    {
      "cell_type": "code",
      "source": [
        "%who"
      ],
      "metadata": {
        "id": "4uCCzqun71FN"
      },
      "execution_count": null,
      "outputs": []
    },
    {
      "cell_type": "markdown",
      "source": [
        "A continuación observamos cómo se libera el nombre de una variable particular."
      ],
      "metadata": {
        "id": "yFGYOIvXdBU7"
      }
    },
    {
      "cell_type": "code",
      "source": [
        "del numero_0"
      ],
      "metadata": {
        "id": "I9CN_jqo7l-M"
      },
      "execution_count": null,
      "outputs": []
    },
    {
      "cell_type": "code",
      "source": [
        "%who"
      ],
      "metadata": {
        "id": "snYccYQ38V4N"
      },
      "execution_count": null,
      "outputs": []
    },
    {
      "cell_type": "markdown",
      "source": [
        "A continuación observamos cómo se liberan varios nombres de variables a la vez."
      ],
      "metadata": {
        "id": "4N9YAs6bdSnb"
      }
    },
    {
      "cell_type": "code",
      "source": [
        "del numero_1, booleano_0, booleano_1, frase"
      ],
      "metadata": {
        "id": "cCcFLZZy7zLU"
      },
      "execution_count": null,
      "outputs": []
    },
    {
      "cell_type": "code",
      "source": [
        "%who"
      ],
      "metadata": {
        "id": "eNqPZ2BC8WiM"
      },
      "execution_count": null,
      "outputs": []
    },
    {
      "cell_type": "markdown",
      "source": [
        "## Algunos tipos de errores"
      ],
      "metadata": {
        "id": "aRxScJ07hEIr"
      }
    },
    {
      "cell_type": "markdown",
      "source": [
        "A continuación, podemos observar el despliegue de algunos errores que nos es pertiniente revisar, tanto desde la intencionalidad de la sentencia, como del mensaje del error y el cómo se resolvería.\n",
        "\n",
        "El caracter de numeral que precede la sentencia nos sirve para comentar una línea de código para que no sea ejecutada, por favor descomentar las siguientes y ejecutar cada caja una por una."
      ],
      "metadata": {
        "id": "wsOnoy7LdoxC"
      }
    },
    {
      "cell_type": "code",
      "source": [
        "#print(Hola, mundo)"
      ],
      "metadata": {
        "id": "q1FmYYoTYslw"
      },
      "execution_count": null,
      "outputs": []
    },
    {
      "cell_type": "code",
      "source": [
        "#print(True)"
      ],
      "metadata": {
        "id": "krKMIjG41Mnc"
      },
      "execution_count": null,
      "outputs": []
    },
    {
      "cell_type": "code",
      "source": [
        "#print(true)"
      ],
      "metadata": {
        "id": "2dPoVf271Qo8"
      },
      "execution_count": null,
      "outputs": []
    },
    {
      "cell_type": "code",
      "source": [
        "#frase = \"Hola, mundo\"\n",
        "#print(Frase)"
      ],
      "metadata": {
        "id": "F02dNQpsZAMj"
      },
      "execution_count": null,
      "outputs": []
    },
    {
      "cell_type": "code",
      "source": [
        "#print(\"Hola, mundo)"
      ],
      "metadata": {
        "id": "f-FPKiN1Ziv1"
      },
      "execution_count": null,
      "outputs": []
    },
    {
      "cell_type": "code",
      "source": [
        "#pedazo_frase_1 = \"Hola,\"\n",
        "#pedazo_frase_2 = \"mundo\""
      ],
      "metadata": {
        "id": "xdlrfmu6ZvBY"
      },
      "execution_count": null,
      "outputs": []
    },
    {
      "cell_type": "code",
      "source": [
        "#print(pedazo_frase_1 pedazo_frase_2)"
      ],
      "metadata": {
        "id": "jTT-l3EopyWo"
      },
      "execution_count": null,
      "outputs": []
    },
    {
      "cell_type": "markdown",
      "source": [
        "# 2. Cadenas de caracteres"
      ],
      "metadata": {
        "id": "Z96popLDpI5N"
      }
    },
    {
      "cell_type": "markdown",
      "source": [
        "Las cadenas o strings son secuencias de texto. Pueden ir entre comillas simples, dobles o triples. Son muy útiles para representar palabras, frases o cualquier información textual."
      ],
      "metadata": {
        "id": "zskiWwEseN4k"
      }
    },
    {
      "cell_type": "markdown",
      "source": [
        "## Longitud de cadenas de caracteres"
      ],
      "metadata": {
        "id": "es4vF6VvhL6U"
      }
    },
    {
      "cell_type": "markdown",
      "source": [
        "En primera medida, la función *len()* nos permite saber el número de caracteres de un string."
      ],
      "metadata": {
        "id": "6zaoSClUeaaK"
      }
    },
    {
      "cell_type": "code",
      "source": [
        "pedazo_frase_1 = \"Hola,\"\n",
        "pedazo_frase_2 = \"mundo\"\n",
        "len(pedazo_frase_1)"
      ],
      "metadata": {
        "id": "ByHOhZmbbyQQ"
      },
      "execution_count": null,
      "outputs": []
    },
    {
      "cell_type": "code",
      "source": [
        "len(\"Hola,\")"
      ],
      "metadata": {
        "id": "ayD1qBOKcrio"
      },
      "execution_count": null,
      "outputs": []
    },
    {
      "cell_type": "markdown",
      "source": [
        "## Concatenado de cadenas de caracteres"
      ],
      "metadata": {
        "id": "qbEtuuNQgvbX"
      }
    },
    {
      "cell_type": "markdown",
      "source": [
        "El operador suma permite hacer el concatenado de cadenas de caracteres."
      ],
      "metadata": {
        "id": "h5Jx9ZK-fQ1H"
      }
    },
    {
      "cell_type": "code",
      "source": [
        "print(pedazo_frase_1 + pedazo_frase_2)"
      ],
      "metadata": {
        "id": "yJfYoLoYe1et"
      },
      "execution_count": null,
      "outputs": []
    },
    {
      "cell_type": "code",
      "source": [
        "print('Buenos' + ' ' + 'días.')"
      ],
      "metadata": {
        "id": "IsHgFUwDhOBh"
      },
      "execution_count": null,
      "outputs": []
    },
    {
      "cell_type": "markdown",
      "source": [
        "## Indexado en cadenas de caracteres"
      ],
      "metadata": {
        "id": "dApSRDPug4n7"
      }
    },
    {
      "cell_type": "markdown",
      "source": [
        "A continuación se presentan algunos ejemplos de extracción de una subcadena a partir de una cadena:\n",
        "* contando de atrás hacia adelante y viceversa\n",
        "* si es un caracter individual o múltiples caracteres"
      ],
      "metadata": {
        "id": "ScfWYWhqfcjU"
      }
    },
    {
      "cell_type": "code",
      "source": [
        "ejemplo = 'Buenos días.'"
      ],
      "metadata": {
        "id": "MOpGP5DWqKf9"
      },
      "execution_count": null,
      "outputs": []
    },
    {
      "cell_type": "markdown",
      "source": [
        "### Caracter individual"
      ],
      "metadata": {
        "id": "yadhnqd6jUE8"
      }
    },
    {
      "cell_type": "markdown",
      "source": [
        "![indexin1.jpg](data:image/jpeg;base64,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)"
      ],
      "metadata": {
        "id": "miemAstYii19"
      }
    },
    {
      "cell_type": "code",
      "source": [
        "print(ejemplo[2])"
      ],
      "metadata": {
        "id": "I5rQvC31gKvX"
      },
      "execution_count": null,
      "outputs": []
    },
    {
      "cell_type": "code",
      "source": [
        "print(ejemplo[-3])"
      ],
      "metadata": {
        "id": "eoyrV-3KgNnE"
      },
      "execution_count": null,
      "outputs": []
    },
    {
      "cell_type": "code",
      "source": [
        "#print(ejemplo[17])"
      ],
      "metadata": {
        "id": "UjTOZlk3lYlq"
      },
      "execution_count": null,
      "outputs": []
    },
    {
      "cell_type": "code",
      "source": [
        "#print(ejemplo[-14])"
      ],
      "metadata": {
        "id": "HuWc0N4JqTf2"
      },
      "execution_count": null,
      "outputs": []
    },
    {
      "cell_type": "markdown",
      "source": [
        "### Multiples caracteres"
      ],
      "metadata": {
        "id": "1BpY2IpKjepU"
      }
    },
    {
      "cell_type": "markdown",
      "source": [
        "![indexin2.jpg](data:image/jpeg;base64,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)"
      ],
      "metadata": {
        "id": "KDGwqfO4ir7r"
      }
    },
    {
      "cell_type": "code",
      "source": [
        "print(ejemplo[-3:-2])"
      ],
      "metadata": {
        "id": "n0rOkEEjgQR_"
      },
      "execution_count": null,
      "outputs": []
    },
    {
      "cell_type": "code",
      "source": [
        "print(ejemplo[-3:-1])"
      ],
      "metadata": {
        "id": "SG2kvBksgVRe"
      },
      "execution_count": null,
      "outputs": []
    },
    {
      "cell_type": "code",
      "source": [
        "print(ejemplo[2:3])"
      ],
      "metadata": {
        "id": "-_RCb_R2fmty"
      },
      "execution_count": null,
      "outputs": []
    },
    {
      "cell_type": "code",
      "source": [
        "print(ejemplo[2:7])"
      ],
      "metadata": {
        "id": "UNagpECQfA45"
      },
      "execution_count": null,
      "outputs": []
    },
    {
      "cell_type": "code",
      "source": [
        "print(ejemplo[14:20])"
      ],
      "metadata": {
        "id": "_H7-GLiXp_te"
      },
      "execution_count": null,
      "outputs": []
    },
    {
      "cell_type": "code",
      "source": [
        "print(ejemplo[-14:-10])"
      ],
      "metadata": {
        "id": "pzvi6bOrqCU1"
      },
      "execution_count": null,
      "outputs": []
    },
    {
      "cell_type": "markdown",
      "source": [
        "## Salto de línea"
      ],
      "metadata": {
        "id": "8eW-iDCzXJm_"
      }
    },
    {
      "cell_type": "markdown",
      "source": [
        "A continuación, algunos ejemplos sobre cómo funciona el salto de línea dentro de una cadena de caracteres."
      ],
      "metadata": {
        "id": "zkee3xe-kkyz"
      }
    },
    {
      "cell_type": "code",
      "source": [
        "cadena_larga_1 = \"\"\"Esta cadena de caracteres multilínea\n",
        "es impresa en varias líneas\"\"\"\n",
        "cadena_larga_2 = '''Esta cadena de caracteres multilínea\n",
        "es impresa en varias líneas'''"
      ],
      "metadata": {
        "id": "t4CjzzzjbJCo"
      },
      "execution_count": null,
      "outputs": []
    },
    {
      "cell_type": "code",
      "source": [
        "cadena_larga_1"
      ],
      "metadata": {
        "id": "p-s1bwugblNh"
      },
      "execution_count": null,
      "outputs": []
    },
    {
      "cell_type": "code",
      "source": [
        "print(cadena_larga_2)"
      ],
      "metadata": {
        "id": "hPSioTpSbmz0"
      },
      "execution_count": null,
      "outputs": []
    },
    {
      "cell_type": "code",
      "source": [
        "print(\"Esta cadena de caracteres multilínea\\nes impresa en varias líneas\")"
      ],
      "metadata": {
        "id": "jHLfnTY-b8vk"
      },
      "execution_count": null,
      "outputs": []
    },
    {
      "cell_type": "markdown",
      "source": [
        "## Citación"
      ],
      "metadata": {
        "id": "oxM01LTVqf-X"
      }
    },
    {
      "cell_type": "markdown",
      "source": [
        "A continuación, algunos ejemplos sobre cómo se desambigua la citación al declarar el valor de una variable de cadena de caracteres."
      ],
      "metadata": {
        "id": "DceaFe8Dkyu7"
      }
    },
    {
      "cell_type": "code",
      "source": [
        "#texto = \"Me preguntó: \"¿Qué hora es?\"\""
      ],
      "metadata": {
        "id": "PVH-edApdsFN"
      },
      "execution_count": null,
      "outputs": []
    },
    {
      "cell_type": "code",
      "source": [
        "texto_1 = \"Me preguntó: '¿Qué hora es?'\"\n",
        "texto_1"
      ],
      "metadata": {
        "id": "4psfdZqTd6HI"
      },
      "execution_count": null,
      "outputs": []
    },
    {
      "cell_type": "code",
      "source": [
        "texto_2 = 'Me preguntó: \"¿Qué hora es?\"'\n",
        "texto_2"
      ],
      "metadata": {
        "id": "yotbthXdkVr8"
      },
      "execution_count": null,
      "outputs": []
    },
    {
      "cell_type": "markdown",
      "source": [
        "## Conversión en mayúsculas y minúsculas"
      ],
      "metadata": {
        "id": "TWGeH-W7yX0N"
      }
    },
    {
      "cell_type": "markdown",
      "source": [
        "A continuación, se muestran los métodos que permiten modificar las cadenas de caracteres entre minúsculas y mayúsculas."
      ],
      "metadata": {
        "id": "jt3sIDT4lGdE"
      }
    },
    {
      "cell_type": "code",
      "source": [
        "texto_1.lower()"
      ],
      "metadata": {
        "id": "t8F4Hsabybdk"
      },
      "execution_count": null,
      "outputs": []
    },
    {
      "cell_type": "code",
      "source": [
        "texto_mayus = texto_1.upper()\n",
        "texto_mayus"
      ],
      "metadata": {
        "id": "BCCmE0hgygXL"
      },
      "execution_count": null,
      "outputs": []
    },
    {
      "cell_type": "code",
      "source": [
        "texto_1.capitalize()"
      ],
      "metadata": {
        "id": "4USc-a4fzI-7"
      },
      "execution_count": null,
      "outputs": []
    },
    {
      "cell_type": "code",
      "source": [
        "texto_mayus.capitalize()"
      ],
      "metadata": {
        "id": "mlC9wVSFzOCk"
      },
      "execution_count": null,
      "outputs": []
    },
    {
      "cell_type": "code",
      "source": [
        "texto_1.title()"
      ],
      "metadata": {
        "id": "9JFp0DvPzvUb"
      },
      "execution_count": null,
      "outputs": []
    },
    {
      "cell_type": "code",
      "source": [
        "texto_mayus.title()"
      ],
      "metadata": {
        "id": "3VgWuWMdzy_j"
      },
      "execution_count": null,
      "outputs": []
    },
    {
      "cell_type": "markdown",
      "source": [
        "## Remover espacios a la derecha o a la izquierda"
      ],
      "metadata": {
        "id": "9jh0wdfZyvfb"
      }
    },
    {
      "cell_type": "markdown",
      "source": [
        "A continuación, se muestran los métodos que permiten eliminar espacios en blanco a la derecha e izquierda de las cadenas de caracteres."
      ],
      "metadata": {
        "id": "0g1GR6-Gl4zN"
      }
    },
    {
      "cell_type": "code",
      "source": [
        "nombre = \"   Pepito Pérez  \""
      ],
      "metadata": {
        "id": "AFjyG0T-y57U"
      },
      "execution_count": null,
      "outputs": []
    },
    {
      "cell_type": "code",
      "source": [
        "nombre.lstrip()"
      ],
      "metadata": {
        "id": "0CWbHwwPz_GV"
      },
      "execution_count": null,
      "outputs": []
    },
    {
      "cell_type": "code",
      "source": [
        "nombre.rstrip()"
      ],
      "metadata": {
        "id": "Me7xdaGJ0MVe"
      },
      "execution_count": null,
      "outputs": []
    },
    {
      "cell_type": "code",
      "source": [
        "nombre.strip()"
      ],
      "metadata": {
        "id": "ZZ4kDCM70Pqy"
      },
      "execution_count": null,
      "outputs": []
    },
    {
      "cell_type": "markdown",
      "source": [
        "## Remplazar una subcadena dentro de una cadena de caracteres"
      ],
      "metadata": {
        "id": "InFu6JKkDZF9"
      }
    },
    {
      "cell_type": "markdown",
      "source": [
        "A continuación, se muestra el método que permiten remplazar subcadenas de caracteres."
      ],
      "metadata": {
        "id": "GnAb8hFRmKu8"
      }
    },
    {
      "cell_type": "code",
      "source": [
        "ej1 = 'Rafael Núñez  '"
      ],
      "metadata": {
        "id": "PBgVPzqnDW18"
      },
      "execution_count": null,
      "outputs": []
    },
    {
      "cell_type": "code",
      "source": [
        "ej1.replace('ñ','ny')"
      ],
      "metadata": {
        "id": "QImIdpmwDuz_"
      },
      "execution_count": null,
      "outputs": []
    },
    {
      "cell_type": "code",
      "source": [
        "ej1.replace('ñ','ny').replace('ú','u').lower().strip()"
      ],
      "metadata": {
        "id": "BIAYsAEHD7R3"
      },
      "execution_count": null,
      "outputs": []
    },
    {
      "cell_type": "markdown",
      "source": [
        "# 3. Operadores aritméticos y de strings"
      ],
      "metadata": {
        "id": "eeo74HTX3Fpk"
      }
    },
    {
      "cell_type": "markdown",
      "source": [
        "Los operadores permiten realizar acciones con valores.\n",
        "\n",
        "* Aritméticos: suma (+), resta (-), multiplicación (*), división (/), etc.\n",
        "* En cadenas: podemos concatenar con + o repetir con *.\n",
        "\n",
        "Esto demuestra cómo un mismo operador cambia de efecto según el tipo de datos con el que se use.\n",
        "\n",
        "Por favor ejecutar las siguientes celdas y descomentar para ejecutar aquellas que estén comentadas para revisar los resultados."
      ],
      "metadata": {
        "id": "jXTYF4bCOBjB"
      }
    },
    {
      "cell_type": "markdown",
      "source": [
        "Por favor consultar en paralelo las notas de clase para comprender los resultados de las operaciones realizadas a continuacion."
      ],
      "metadata": {
        "id": "XXXcT4OfaKUA"
      }
    },
    {
      "cell_type": "code",
      "source": [
        "%who"
      ],
      "metadata": {
        "id": "XGSmicp59JVc"
      },
      "execution_count": null,
      "outputs": []
    },
    {
      "cell_type": "code",
      "source": [
        "del cadena_larga_1, cadena_larga_2, ej1, ejemplo, nombre, pedazo_frase_1, pedazo_frase_2, texto_1, texto_2, texto_mayus"
      ],
      "metadata": {
        "id": "XzyVe4iz3TxM"
      },
      "execution_count": null,
      "outputs": []
    },
    {
      "cell_type": "code",
      "source": [
        "16+3"
      ],
      "metadata": {
        "id": "lde8TZ_bB7vd"
      },
      "execution_count": null,
      "outputs": []
    },
    {
      "cell_type": "code",
      "source": [
        "16-3"
      ],
      "metadata": {
        "id": "ke7JjPy_Gu11"
      },
      "execution_count": null,
      "outputs": []
    },
    {
      "cell_type": "code",
      "source": [
        "16*3"
      ],
      "metadata": {
        "id": "gprAwA9_CEld"
      },
      "execution_count": null,
      "outputs": []
    },
    {
      "cell_type": "code",
      "source": [
        "16**3"
      ],
      "metadata": {
        "id": "JORK-LH8G3xW"
      },
      "execution_count": null,
      "outputs": []
    },
    {
      "cell_type": "code",
      "source": [
        "16/3"
      ],
      "metadata": {
        "id": "OrIwgwCzCGkE"
      },
      "execution_count": null,
      "outputs": []
    },
    {
      "cell_type": "code",
      "source": [
        "#16/0"
      ],
      "metadata": {
        "id": "B9RSk9eJGy6-"
      },
      "execution_count": null,
      "outputs": []
    },
    {
      "cell_type": "code",
      "source": [
        "16//3"
      ],
      "metadata": {
        "id": "udBWMME-CLaV"
      },
      "execution_count": null,
      "outputs": []
    },
    {
      "cell_type": "code",
      "source": [
        "16%3"
      ],
      "metadata": {
        "id": "csoRhyDQCVN3"
      },
      "execution_count": null,
      "outputs": []
    },
    {
      "cell_type": "code",
      "source": [
        "#16//0"
      ],
      "metadata": {
        "id": "nL1Dxw9JG-Wv"
      },
      "execution_count": null,
      "outputs": []
    },
    {
      "cell_type": "code",
      "source": [
        "#16%0"
      ],
      "metadata": {
        "id": "44NUjFFrHBp2"
      },
      "execution_count": null,
      "outputs": []
    },
    {
      "cell_type": "code",
      "source": [
        "num = \"2\"\n",
        "num + num"
      ],
      "metadata": {
        "id": "VVuifLi69UU9"
      },
      "execution_count": null,
      "outputs": []
    },
    {
      "cell_type": "code",
      "source": [
        "#\"3\" + 3"
      ],
      "metadata": {
        "id": "zv8oj4769sBU"
      },
      "execution_count": null,
      "outputs": []
    },
    {
      "cell_type": "code",
      "source": [
        "num = \"12\"\n",
        "num * 3"
      ],
      "metadata": {
        "id": "YkhmCgkL9hJM"
      },
      "execution_count": null,
      "outputs": []
    },
    {
      "cell_type": "code",
      "source": [
        "3 * num"
      ],
      "metadata": {
        "id": "CbLIDwvc9kWF"
      },
      "execution_count": null,
      "outputs": []
    },
    {
      "cell_type": "code",
      "source": [
        "#\"12\" * \"3\""
      ],
      "metadata": {
        "id": "zTYi3Iz09nVt"
      },
      "execution_count": null,
      "outputs": []
    },
    {
      "cell_type": "code",
      "source": [
        "definir_float = 12.9"
      ],
      "metadata": {
        "id": "eJG0jV-A9y6V"
      },
      "execution_count": null,
      "outputs": []
    },
    {
      "cell_type": "code",
      "source": [
        "type(definir_float)"
      ],
      "metadata": {
        "id": "jArWUc3t98qE"
      },
      "execution_count": null,
      "outputs": []
    },
    {
      "cell_type": "code",
      "source": [
        "int(definir_float)"
      ],
      "metadata": {
        "id": "JMU8ReAI9_T1"
      },
      "execution_count": null,
      "outputs": []
    },
    {
      "cell_type": "code",
      "source": [
        "float(\"12.0\")"
      ],
      "metadata": {
        "id": "B3e7C9po-I5F"
      },
      "execution_count": null,
      "outputs": []
    },
    {
      "cell_type": "code",
      "source": [
        "num_funcionarios = 1398483"
      ],
      "metadata": {
        "id": "c-VOwn1R-QLc"
      },
      "execution_count": null,
      "outputs": []
    },
    {
      "cell_type": "code",
      "source": [
        "#enunciado = 'Según datos oficiales de 2025 de Función Pública, hay aproximadamente ' + num_funcionarios + ' servidores públicos en Colombia.'"
      ],
      "metadata": {
        "id": "jL38Eh4t_xjN"
      },
      "execution_count": null,
      "outputs": []
    },
    {
      "cell_type": "code",
      "source": [
        "enunciado = 'Según datos oficiales de 2025 de Función Pública, hay aproximadamente ' + str(num_funcionarios) + ' servidores públicos en Colombia.'"
      ],
      "metadata": {
        "id": "_o5GPmjt_x_d"
      },
      "execution_count": null,
      "outputs": []
    },
    {
      "cell_type": "code",
      "source": [
        "enunciado"
      ],
      "metadata": {
        "id": "-Cg5JNms_2Ls"
      },
      "execution_count": null,
      "outputs": []
    },
    {
      "cell_type": "code",
      "source": [
        "num_formato = \"{:,}\".format(num_funcionarios)\n",
        "enunciado = 'Según datos oficiales de 2025 de Función Pública, hay aproximadamente ' + num_formato + ' servidores públicos en Colombia.'"
      ],
      "metadata": {
        "id": "wAh8Q0DTAOzl"
      },
      "execution_count": null,
      "outputs": []
    },
    {
      "cell_type": "code",
      "source": [
        "enunciado"
      ],
      "metadata": {
        "id": "mnV7wkEDAYt9"
      },
      "execution_count": null,
      "outputs": []
    },
    {
      "cell_type": "markdown",
      "source": [
        "# 4. Números"
      ],
      "metadata": {
        "id": "0KS57Eh_FCq1"
      }
    },
    {
      "cell_type": "markdown",
      "source": [
        "Python maneja diferentes tipos numéricos:\n",
        "\n",
        "* Enteros (int)\n",
        "* Decimales (float)\n",
        "* Complejos (complex) [*no se abarca esta parte*]\n",
        "\n",
        "Con ellos podemos realizar cálculos y operaciones matemáticas básicas.\n",
        "\n",
        "Por favor ejecutar las siguientes celdas para revisar los resultados."
      ],
      "metadata": {
        "id": "GhV2mQUcQEAP"
      }
    },
    {
      "cell_type": "markdown",
      "source": [
        "Por favor consultar en paralelo las notas de clase para comprender los resultados de las operaciones realizadas a continuacion."
      ],
      "metadata": {
        "id": "_Az3u2_-aIen"
      }
    },
    {
      "cell_type": "code",
      "source": [
        "1000000"
      ],
      "metadata": {
        "id": "s0tFwFvUFMJG"
      },
      "execution_count": null,
      "outputs": []
    },
    {
      "cell_type": "code",
      "source": [
        "1_000_000"
      ],
      "metadata": {
        "id": "53I-B2mjFNHv"
      },
      "execution_count": null,
      "outputs": []
    },
    {
      "cell_type": "code",
      "source": [
        "type(1_000_000)"
      ],
      "metadata": {
        "id": "ifTstx1DGmsw"
      },
      "execution_count": null,
      "outputs": []
    },
    {
      "cell_type": "code",
      "source": [
        "1_000-000.00"
      ],
      "metadata": {
        "id": "8bvAOIb2FUK-"
      },
      "execution_count": null,
      "outputs": []
    },
    {
      "cell_type": "code",
      "source": [
        "1e6"
      ],
      "metadata": {
        "id": "kXZwgcegFRS3"
      },
      "execution_count": null,
      "outputs": []
    },
    {
      "cell_type": "code",
      "source": [
        "type(1e6)"
      ],
      "metadata": {
        "id": "WpRrSKwPGSNG"
      },
      "execution_count": null,
      "outputs": []
    },
    {
      "cell_type": "code",
      "source": [
        "print(3e-7)"
      ],
      "metadata": {
        "id": "3AfM4hXaFYm3"
      },
      "execution_count": null,
      "outputs": []
    },
    {
      "cell_type": "code",
      "source": [
        "'%20f' % 3e-4"
      ],
      "metadata": {
        "id": "hU7g9KKCFrQ1"
      },
      "execution_count": null,
      "outputs": []
    },
    {
      "cell_type": "code",
      "source": [
        "ratio = 0.9\n",
        "f\"{ratio:.1%}\""
      ],
      "metadata": {
        "id": "4_EMTagIJtBf"
      },
      "execution_count": null,
      "outputs": []
    },
    {
      "cell_type": "code",
      "source": [
        "2e400"
      ],
      "metadata": {
        "id": "_CAfJGE-F8mu"
      },
      "execution_count": null,
      "outputs": []
    },
    {
      "cell_type": "code",
      "source": [
        "-2e400"
      ],
      "metadata": {
        "id": "-7xt88LcGIJ_"
      },
      "execution_count": null,
      "outputs": []
    },
    {
      "cell_type": "code",
      "source": [
        "type(-2e400)"
      ],
      "metadata": {
        "id": "RzJIDtrwGQSn"
      },
      "execution_count": null,
      "outputs": []
    },
    {
      "cell_type": "code",
      "source": [
        "2*3 - 1"
      ],
      "metadata": {
        "id": "5Ig_z_DuHVd_"
      },
      "execution_count": null,
      "outputs": []
    },
    {
      "cell_type": "code",
      "source": [
        "-1 + (-3*2 + 4)"
      ],
      "metadata": {
        "id": "Kp1O4l2DHbL2"
      },
      "execution_count": null,
      "outputs": []
    },
    {
      "cell_type": "code",
      "source": [
        "4/2 + 2**3"
      ],
      "metadata": {
        "id": "Ta3W-tptHZhX"
      },
      "execution_count": null,
      "outputs": []
    },
    {
      "cell_type": "code",
      "source": [
        "0.1 + 0.2"
      ],
      "metadata": {
        "id": "PgS148OpHmYH"
      },
      "execution_count": null,
      "outputs": []
    },
    {
      "cell_type": "code",
      "source": [
        "import numpy as np\n",
        "np.__version__"
      ],
      "metadata": {
        "id": "XmFsa4nQH602"
      },
      "execution_count": null,
      "outputs": []
    },
    {
      "cell_type": "code",
      "source": [
        "np.float64(0.1) + np.float64(0.2)"
      ],
      "metadata": {
        "id": "Dqvno-EUIAfg"
      },
      "execution_count": null,
      "outputs": []
    },
    {
      "cell_type": "markdown",
      "source": [
        "## Funciones y métodos"
      ],
      "metadata": {
        "id": "MFCBpGV4IjSf"
      }
    },
    {
      "cell_type": "markdown",
      "source": [
        "Por favor ejecutar las siguientes celdas para revisar los resultados."
      ],
      "metadata": {
        "id": "NT4_JhkgSsWf"
      }
    },
    {
      "cell_type": "code",
      "source": [
        "round(2.34)"
      ],
      "metadata": {
        "id": "nVMn1G08IiUf"
      },
      "execution_count": null,
      "outputs": []
    },
    {
      "cell_type": "code",
      "source": [
        "round(2.34, 1)"
      ],
      "metadata": {
        "id": "ZkJyeRy0IqXn"
      },
      "execution_count": null,
      "outputs": []
    },
    {
      "cell_type": "code",
      "source": [
        "round(2.7)"
      ],
      "metadata": {
        "id": "MI86utMlIu9_"
      },
      "execution_count": null,
      "outputs": []
    },
    {
      "cell_type": "code",
      "source": [
        "round(3.5)"
      ],
      "metadata": {
        "id": "XqBoJRz7Izi3"
      },
      "execution_count": null,
      "outputs": []
    },
    {
      "cell_type": "code",
      "source": [
        "abs(5)"
      ],
      "metadata": {
        "id": "ZHv16yLlI7Cl"
      },
      "execution_count": null,
      "outputs": []
    },
    {
      "cell_type": "code",
      "source": [
        "abs(-5.0)"
      ],
      "metadata": {
        "id": "4tMm1o1FI6N3"
      },
      "execution_count": null,
      "outputs": []
    },
    {
      "cell_type": "code",
      "source": [
        "2**(-2)"
      ],
      "metadata": {
        "id": "iiOuGTegJAL5"
      },
      "execution_count": null,
      "outputs": []
    },
    {
      "cell_type": "code",
      "source": [
        "2**3.5"
      ],
      "metadata": {
        "id": "YKomZJGLJHuH"
      },
      "execution_count": null,
      "outputs": []
    },
    {
      "cell_type": "code",
      "source": [
        "pow(2, 3.5)"
      ],
      "metadata": {
        "id": "aFiPgaD1JNtX"
      },
      "execution_count": null,
      "outputs": []
    },
    {
      "cell_type": "markdown",
      "source": [
        "# 5. Tuplas, listas, diccionarios y conjuntos"
      ],
      "metadata": {
        "id": "lawLD_Fas5SI"
      }
    },
    {
      "cell_type": "markdown",
      "source": [
        "Estas son las estructuras de datos más comunes en Python:\n",
        "\n",
        "* Listas: colecciones ordenadas y modificables. [ ]\n",
        "* Tuplas: colecciones ordenadas pero inmutables. ( )\n",
        "* Diccionarios: pares clave-valor que almacenan información. { }\n",
        "* Conjuntos: colecciones desordenadas de elementos únicos. { }\n",
        "\n",
        "Son la base para organizar, manipular y explorar datos en programación con Python."
      ],
      "metadata": {
        "id": "qAjyThvXam8_"
      }
    },
    {
      "cell_type": "markdown",
      "source": [
        "## Listas"
      ],
      "metadata": {
        "id": "sDPUpaEywJU1"
      }
    },
    {
      "cell_type": "markdown",
      "source": [
        "Por favor consultar en paralelo las notas de clase para comprender los resultados de las operaciones realizadas a continuacion."
      ],
      "metadata": {
        "id": "wWplHdxkbB3Y"
      }
    },
    {
      "cell_type": "code",
      "source": [
        "colors = [\"red\", \"yellow\", \"green\", \"blue\"]"
      ],
      "metadata": {
        "id": "nMXtVXrSvr0-"
      },
      "execution_count": null,
      "outputs": []
    },
    {
      "cell_type": "code",
      "source": [
        "list((1, 2, 3))"
      ],
      "metadata": {
        "id": "m8gpgzBuwLcu"
      },
      "execution_count": null,
      "outputs": []
    },
    {
      "cell_type": "code",
      "source": [
        "list(\"Python\")"
      ],
      "metadata": {
        "id": "hluCv3vSwOpm"
      },
      "execution_count": null,
      "outputs": []
    },
    {
      "cell_type": "code",
      "source": [
        "mercado = \"huevos, leche, queso, maní, cat chow, jabón manos\"\n",
        "lista_mercado = mercado.split(\", \")\n",
        "lista_mercado"
      ],
      "metadata": {
        "id": "b9blB8RFwTo-"
      },
      "execution_count": null,
      "outputs": []
    },
    {
      "cell_type": "code",
      "source": [
        "\"Usaquén 20000 Norte 6\".split(\" \")"
      ],
      "metadata": {
        "id": "4lhooRH6wuGG"
      },
      "execution_count": null,
      "outputs": []
    },
    {
      "cell_type": "code",
      "source": [
        "multiplos_de_3 = [0, 3, 6, 9, 12, 15, 18, 21, 24, 27]"
      ],
      "metadata": {
        "id": "ohGEXvLvxf4G"
      },
      "execution_count": null,
      "outputs": []
    },
    {
      "cell_type": "code",
      "source": [
        "multiplos_de_3[1:3]"
      ],
      "metadata": {
        "id": "OvzSsa8Jxs3l"
      },
      "execution_count": null,
      "outputs": []
    },
    {
      "cell_type": "code",
      "source": [
        "colors = [\"red\", \"yellow\", \"green\", \"blue\"]\n",
        "colors[0] = \"burgundy\"\n",
        "colors"
      ],
      "metadata": {
        "id": "SNpXKr6yx7Mf"
      },
      "execution_count": null,
      "outputs": []
    },
    {
      "cell_type": "code",
      "source": [
        "colors = [\"red\", \"yellow\", \"green\", \"blue\"]\n",
        "colors[1:3] = [\"orange\", \"magenta\"]\n",
        "colors"
      ],
      "metadata": {
        "id": "aPoAguatyBY1"
      },
      "execution_count": null,
      "outputs": []
    },
    {
      "cell_type": "code",
      "source": [
        "colors = [\"red\", \"yellow\", \"green\", \"blue\"]\n",
        "colors.insert(0, \"orange\")\n",
        "colors"
      ],
      "metadata": {
        "id": "A-K_8ilJyVSe"
      },
      "execution_count": null,
      "outputs": []
    },
    {
      "cell_type": "code",
      "source": [
        "colors = [\"red\", \"yellow\", \"green\", \"blue\"]\n",
        "colors.insert(3, \"orange\")\n",
        "colors"
      ],
      "metadata": {
        "id": "xiv7r-VeyeF9"
      },
      "execution_count": null,
      "outputs": []
    },
    {
      "cell_type": "code",
      "source": [
        "colors = [\"red\", \"yellow\", \"green\", \"blue\"]\n",
        "colors.append(\"orange\")\n",
        "colors"
      ],
      "metadata": {
        "id": "WNtTVcEKyhyd"
      },
      "execution_count": null,
      "outputs": []
    },
    {
      "cell_type": "code",
      "source": [
        "colors = [\"red\", \"yellow\", \"green\", \"blue\"]\n",
        "colors.pop(3)"
      ],
      "metadata": {
        "id": "MqJCYJYLypLQ"
      },
      "execution_count": null,
      "outputs": []
    },
    {
      "cell_type": "code",
      "source": [
        "colors = [\"red\", \"yellow\", \"green\", \"blue\"]\n",
        "colors.extend([\"violet\", \"ultraviolet\"])\n",
        "colors"
      ],
      "metadata": {
        "id": "GHq5ROslzZQ_"
      },
      "execution_count": null,
      "outputs": []
    },
    {
      "cell_type": "code",
      "source": [
        "[\"Aníbal\", 123]"
      ],
      "metadata": {
        "id": "M8NGzbFW0Nw-"
      },
      "execution_count": null,
      "outputs": []
    },
    {
      "cell_type": "code",
      "source": [
        "(\"Aníbal\", 123)"
      ],
      "metadata": {
        "id": "ZTxDX0Ev0S0X"
      },
      "execution_count": null,
      "outputs": []
    },
    {
      "cell_type": "code",
      "source": [
        "colors = [\"red\", \"yellow\", \"green\", \"blue\"]\n",
        "colors.sort()\n",
        "colors"
      ],
      "metadata": {
        "id": "GQVgAgvc19n4"
      },
      "execution_count": null,
      "outputs": []
    },
    {
      "cell_type": "code",
      "source": [
        "numbers = [1, 10, 5, 3]\n",
        "numbers.sort()\n",
        "numbers"
      ],
      "metadata": {
        "id": "4T1stkYV2BGf"
      },
      "execution_count": null,
      "outputs": []
    },
    {
      "cell_type": "code",
      "source": [
        "animals = [\"lion\", \"tiger\", \"cheetah\"]\n",
        "large_cats = animals\n",
        "large_cats.append(\"leopard\")\n",
        "animals"
      ],
      "metadata": {
        "id": "VyKEzo__2y6P"
      },
      "execution_count": null,
      "outputs": []
    },
    {
      "cell_type": "code",
      "source": [
        "animals = [\"lion\", \"tiger\", \"cheetah\"]\n",
        "large_cats = animals[:]\n",
        "large_cats.append(\"leopard\")"
      ],
      "metadata": {
        "id": "r6ASyRO624Z-"
      },
      "execution_count": null,
      "outputs": []
    },
    {
      "cell_type": "code",
      "source": [
        "large_cats"
      ],
      "metadata": {
        "id": "gbQBsyXR292X"
      },
      "execution_count": null,
      "outputs": []
    },
    {
      "cell_type": "code",
      "source": [
        "animals"
      ],
      "metadata": {
        "id": "ur4O4YNr2_Oe"
      },
      "execution_count": null,
      "outputs": []
    },
    {
      "cell_type": "code",
      "source": [
        "list(range(20))"
      ],
      "metadata": {
        "id": "bE0_17Me9iXW"
      },
      "execution_count": null,
      "outputs": []
    },
    {
      "cell_type": "code",
      "source": [
        "list(range(10,20))"
      ],
      "metadata": {
        "id": "9nMq4sRo9qhL"
      },
      "execution_count": null,
      "outputs": []
    },
    {
      "cell_type": "code",
      "source": [
        "list(range(10,20,2))"
      ],
      "metadata": {
        "id": "mauchZhf9tkf"
      },
      "execution_count": null,
      "outputs": []
    },
    {
      "cell_type": "code",
      "source": [
        "suma_enteros_no_neg = 0\n",
        "for entero in range(20):\n",
        "  suma_enteros_no_neg += entero\n",
        "\n",
        "suma_enteros_no_neg"
      ],
      "metadata": {
        "id": "XjnTHZ5t-Tzg"
      },
      "execution_count": null,
      "outputs": []
    },
    {
      "cell_type": "code",
      "source": [
        "sum(range(20))"
      ],
      "metadata": {
        "id": "LCww0IBL-13P"
      },
      "execution_count": null,
      "outputs": []
    },
    {
      "cell_type": "code",
      "source": [
        "max(range(20))"
      ],
      "metadata": {
        "id": "d4UTqM_w-34h"
      },
      "execution_count": null,
      "outputs": []
    },
    {
      "cell_type": "code",
      "source": [
        "min(range(20))"
      ],
      "metadata": {
        "id": "q4RClDrq-7PI"
      },
      "execution_count": null,
      "outputs": []
    },
    {
      "cell_type": "code",
      "source": [
        "comprension_lista = [entero**2 for entero in range(20)]\n",
        "comprension_lista"
      ],
      "metadata": {
        "id": "RYPR56oL9xyw"
      },
      "execution_count": null,
      "outputs": []
    },
    {
      "cell_type": "markdown",
      "source": [
        "## Tuplas"
      ],
      "metadata": {
        "id": "t2Yn9k0ivs9N"
      }
    },
    {
      "cell_type": "markdown",
      "source": [
        "Por favor consultar en paralelo las notas de clase para comprender los resultados de las operaciones realizadas a continuacion."
      ],
      "metadata": {
        "id": "AdxT7MB1a8dX"
      }
    },
    {
      "cell_type": "code",
      "source": [
        "tupla_0 = (1, 2, 3)"
      ],
      "metadata": {
        "id": "CGtq_EKrs4cX"
      },
      "execution_count": null,
      "outputs": []
    },
    {
      "cell_type": "code",
      "source": [
        "type(tupla_0)"
      ],
      "metadata": {
        "id": "G2n0M6Its4eB"
      },
      "execution_count": null,
      "outputs": []
    },
    {
      "cell_type": "code",
      "source": [
        "tupla_vacia = ()"
      ],
      "metadata": {
        "id": "IkXutvt0tSz9"
      },
      "execution_count": null,
      "outputs": []
    },
    {
      "cell_type": "code",
      "source": [
        "tuple()"
      ],
      "metadata": {
        "id": "VBI7_WnAt_Ns"
      },
      "execution_count": null,
      "outputs": []
    },
    {
      "cell_type": "code",
      "source": [
        "tupla_intento = (1)\n",
        "type(tupla_intento)"
      ],
      "metadata": {
        "id": "OoC0qP37tbH1"
      },
      "execution_count": null,
      "outputs": []
    },
    {
      "cell_type": "code",
      "source": [
        "tupla_1 = (1,)\n",
        "type(tupla_1)"
      ],
      "metadata": {
        "id": "cKf1TjfTtiDs"
      },
      "execution_count": null,
      "outputs": []
    },
    {
      "cell_type": "code",
      "source": [
        "tupla_desde_string = tuple(\"Python\")\n",
        "tupla_desde_string"
      ],
      "metadata": {
        "id": "oDhNiXCJt1Oe"
      },
      "execution_count": null,
      "outputs": []
    },
    {
      "cell_type": "code",
      "source": [
        "tupla_desde_string[2]"
      ],
      "metadata": {
        "id": "OGZmsDu78BwQ"
      },
      "execution_count": null,
      "outputs": []
    },
    {
      "cell_type": "code",
      "source": [
        "#tuple(1,2,3)"
      ],
      "metadata": {
        "id": "5IfMRE6QwB8N"
      },
      "execution_count": null,
      "outputs": []
    },
    {
      "cell_type": "code",
      "source": [
        "tuple([1,2,3])"
      ],
      "metadata": {
        "id": "_8COGNf8t2V1"
      },
      "execution_count": null,
      "outputs": []
    },
    {
      "cell_type": "code",
      "source": [
        "coordenadas = 4.21, 9.29, 7,76\n",
        "coordenadas"
      ],
      "metadata": {
        "id": "ZGb4w7kUu1_c"
      },
      "execution_count": null,
      "outputs": []
    },
    {
      "cell_type": "code",
      "source": [
        "nombre, edad, ocupacion = \"Alejandro\", 51, \"Ingeniero\""
      ],
      "metadata": {
        "id": "SupcvM1uvGf8"
      },
      "execution_count": null,
      "outputs": []
    },
    {
      "cell_type": "code",
      "source": [
        "nombre"
      ],
      "metadata": {
        "id": "fmwg1b0TvWN9"
      },
      "execution_count": null,
      "outputs": []
    },
    {
      "cell_type": "code",
      "source": [
        "edad"
      ],
      "metadata": {
        "id": "3SsrrjDKvY2t"
      },
      "execution_count": null,
      "outputs": []
    },
    {
      "cell_type": "code",
      "source": [
        "ocupacion"
      ],
      "metadata": {
        "id": "tcNw0TQiva2-"
      },
      "execution_count": null,
      "outputs": []
    },
    {
      "cell_type": "code",
      "source": [
        "#a, b, c, d = 1, 2, 3"
      ],
      "metadata": {
        "id": "chpJe9X4vf6u"
      },
      "execution_count": null,
      "outputs": []
    },
    {
      "cell_type": "markdown",
      "source": [
        "## Conjuntos"
      ],
      "metadata": {
        "id": "pklQZvjuP0YJ"
      }
    },
    {
      "cell_type": "markdown",
      "source": [
        "Por favor consultar en paralelo las notas de clase para comprender los resultados de las operaciones realizadas a continuacion."
      ],
      "metadata": {
        "id": "ACM1xqUZbPXR"
      }
    },
    {
      "cell_type": "code",
      "source": [
        "Simpsons = {'Marge', 'Homer', 'Lisa', 'Bart', 'Maggie'}\n",
        "Simpsons"
      ],
      "metadata": {
        "id": "jqAMxotPPzhq"
      },
      "execution_count": null,
      "outputs": []
    },
    {
      "cell_type": "code",
      "source": [
        "type(Simpsons)"
      ],
      "metadata": {
        "id": "yLn8O5MSQMLl"
      },
      "execution_count": null,
      "outputs": []
    },
    {
      "cell_type": "code",
      "source": [
        "Simpsons.add('Bart')\n",
        "Simpsons"
      ],
      "metadata": {
        "id": "puuX88o9QSdB"
      },
      "execution_count": null,
      "outputs": []
    },
    {
      "cell_type": "code",
      "source": [
        "Simpsons.add('Abraham')\n",
        "Simpsons"
      ],
      "metadata": {
        "id": "2-ENX-9XQZyC"
      },
      "execution_count": null,
      "outputs": []
    },
    {
      "cell_type": "code",
      "source": [
        "Women = {'Lisa', 'Maggie', 'Marge','Patty', 'Selma', 'Jaqueline'}"
      ],
      "metadata": {
        "id": "B5W6NqGbRG76"
      },
      "execution_count": null,
      "outputs": []
    },
    {
      "cell_type": "code",
      "source": [
        "'Homer' in Simpsons"
      ],
      "metadata": {
        "id": "ECPKj0AVQwSp"
      },
      "execution_count": null,
      "outputs": []
    },
    {
      "cell_type": "code",
      "source": [
        "'Patty' in Simpsons or 'Selma' in Simpsons"
      ],
      "metadata": {
        "id": "ljsIC-OBQ6_J"
      },
      "execution_count": null,
      "outputs": []
    },
    {
      "cell_type": "code",
      "source": [
        "Women.issubset(Simpsons)"
      ],
      "metadata": {
        "id": "MZju3SwmSasa"
      },
      "execution_count": null,
      "outputs": []
    },
    {
      "cell_type": "code",
      "source": [
        "Simpsons.union(Women)"
      ],
      "metadata": {
        "id": "s9iXT1GdR7ci"
      },
      "execution_count": null,
      "outputs": []
    },
    {
      "cell_type": "code",
      "source": [
        "Simpsons.intersection(Women)"
      ],
      "metadata": {
        "id": "X2an2ewQSBjp"
      },
      "execution_count": null,
      "outputs": []
    },
    {
      "cell_type": "code",
      "source": [
        "Simpsons.difference(Women)"
      ],
      "metadata": {
        "id": "cYxejlsASIPB"
      },
      "execution_count": null,
      "outputs": []
    },
    {
      "cell_type": "code",
      "source": [
        "Simpsons.symmetric_difference(Women)"
      ],
      "metadata": {
        "id": "xbWXcZSvSM_x"
      },
      "execution_count": null,
      "outputs": []
    },
    {
      "cell_type": "markdown",
      "source": [
        "## Diccionarios"
      ],
      "metadata": {
        "id": "AhqfymjE6wGY"
      }
    },
    {
      "cell_type": "markdown",
      "source": [
        "Por favor consultar en paralelo las notas de clase para comprender los resultados de las operaciones realizadas a continuacion."
      ],
      "metadata": {
        "id": "vHS-bgiybNUg"
      }
    },
    {
      "cell_type": "code",
      "source": [
        "diccionario_0 = {1:\"Masculino\",2:\"Femenino\"}"
      ],
      "metadata": {
        "id": "jrnntbHY6Qvn"
      },
      "execution_count": null,
      "outputs": []
    },
    {
      "cell_type": "code",
      "source": [
        "diccionario_0"
      ],
      "metadata": {
        "id": "b5rLCKqa6lRn"
      },
      "execution_count": null,
      "outputs": []
    },
    {
      "cell_type": "code",
      "source": [
        "diccionario_0[1]"
      ],
      "metadata": {
        "id": "gjLIv9L-6nbH"
      },
      "execution_count": null,
      "outputs": []
    },
    {
      "cell_type": "code",
      "source": [
        "diccionario_0[2]"
      ],
      "metadata": {
        "id": "-w8ewgaN6rEg"
      },
      "execution_count": null,
      "outputs": []
    },
    {
      "cell_type": "code",
      "source": [
        "dptos = ['Amazonas',\n",
        "'Antioquia',\n",
        "'Arauca',\n",
        "'Atlántico',\n",
        "'Bogotá, Distrito Capital',\n",
        "'Bolívar',\n",
        "'Boyacá',\n",
        "'Caldas',\n",
        "'Caquetá',\n",
        "'Casanare',\n",
        "'Cauca',\n",
        "'Cesar',\n",
        "'Chocó',\n",
        "'Córdoba',\n",
        "'Cundinamarca',\n",
        "'Guainía',\n",
        "'Guaviare',\n",
        "'Huila',\n",
        "'La Guajira',\n",
        "'Magdalena',\n",
        "'Meta',\n",
        "'Nariño',\n",
        "'Norte de Santander',\n",
        "'Putumayo',\n",
        "'Quindío',\n",
        "'Risaralda',\n",
        "'San Andrés y Providencia',\n",
        "'Santander',\n",
        "'Sucre',\n",
        "'Tolima',\n",
        "'Valle del Cauca',\n",
        "'Vaupés',\n",
        "'Vichada']"
      ],
      "metadata": {
        "id": "YNvzEYuu4Efv"
      },
      "execution_count": null,
      "outputs": []
    },
    {
      "cell_type": "code",
      "source": [
        "capitales = ['Leticia',\n",
        "'Medellín',\n",
        "'Arauca',\n",
        "'Barranquilla',\n",
        "'Bogotá',\n",
        "'Cartagena',\n",
        "'Tunja',\n",
        "'Manizales',\n",
        "'Florencia',\n",
        "'Yopal',\n",
        "'Popayán',\n",
        "'Valledupar',\n",
        "'Quibdó',\n",
        "'Montería',\n",
        "'Bogotá',\n",
        "'Inírida',\n",
        "'San José del Guaviare',\n",
        "'Neiva',\n",
        "'Riohacha',\n",
        "'Santa Marta',\n",
        "'Villavicencio',\n",
        "'Pasto',\n",
        "'Cúcuta',\n",
        "'Mocoa',\n",
        "'Armenia',\n",
        "'Pereira',\n",
        "'San Andrés',\n",
        "'Bucaramanga',\n",
        "'Sincelejo',\n",
        "'Ibagué',\n",
        "'Cali',\n",
        "'Mitú',\n",
        "'Puerto Carreño']"
      ],
      "metadata": {
        "id": "eAX0Jff85zSo"
      },
      "execution_count": null,
      "outputs": []
    },
    {
      "cell_type": "code",
      "source": [
        "list(zip(dptos,capitales))[3]"
      ],
      "metadata": {
        "id": "sUfyJrpl7Mq_"
      },
      "execution_count": null,
      "outputs": []
    },
    {
      "cell_type": "code",
      "source": [
        "dic_capitales = {llave:valor for llave,valor  in zip(dptos,capitales)}"
      ],
      "metadata": {
        "id": "zDSy56EY691W"
      },
      "execution_count": null,
      "outputs": []
    },
    {
      "cell_type": "code",
      "source": [
        "dic_capitales"
      ],
      "metadata": {
        "id": "-Wxn5jVP7LKX"
      },
      "execution_count": null,
      "outputs": []
    },
    {
      "cell_type": "code",
      "source": [
        "dic_capitales['Cesar']"
      ],
      "metadata": {
        "id": "cBSh7LRD7oT4"
      },
      "execution_count": null,
      "outputs": []
    },
    {
      "cell_type": "markdown",
      "source": [
        "#"
      ],
      "metadata": {
        "id": "AAw-NpIj272Q"
      }
    }
  ]
}