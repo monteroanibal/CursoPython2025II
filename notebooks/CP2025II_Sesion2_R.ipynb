{
  "cells": [
    {
      "cell_type": "markdown",
      "metadata": {
        "id": "view-in-github",
        "colab_type": "text"
      },
      "source": [
        "<a href=\"https://colab.research.google.com/github/monteroanibal/CursoPython2025II/blob/main/notebooks/CP2025II_Sesion2_R.ipynb\" target=\"_parent\"><img src=\"https://colab.research.google.com/assets/colab-badge.svg\" alt=\"Open In Colab\"/></a>"
      ]
    },
    {
      "cell_type": "markdown",
      "metadata": {
        "id": "ZQgUzskoWp_y"
      },
      "source": [
        "<figure>\n",
        "<center>\n",
        "<img src='https://upload.wikimedia.org/wikipedia/commons/a/a2/Colombia_Dane_logo_%282%29.svg', height=\"75\">\n",
        "<figcaption>Departamento Administrativo Nacional de Estadística - DANE<br> Dirección de Censos y Demografía - DCD<br>GIT Investigación y Desarrollo</figcaption></center>\n",
        "</figure>"
      ]
    },
    {
      "cell_type": "markdown",
      "metadata": {
        "id": "Nw5VzXsFX8Ap"
      },
      "source": [
        "**Sesión 2 - Un primer código en R - 05sep2025**"
      ]
    },
    {
      "cell_type": "markdown",
      "metadata": {
        "id": "Tli3svIQ0wRt"
      },
      "source": [
        "# 0. Hola mundo"
      ]
    },
    {
      "cell_type": "markdown",
      "metadata": {
        "id": "arIX6aGeZ5hC"
      },
      "source": [
        "Iniciamos con el clásico \"Hola mundo\", la forma tradicional de probar que todo está listo para empezar a programar en un nuevo lenguaje. Aquí imprimimos un mensaje en el notebook."
      ]
    },
    {
      "cell_type": "code",
      "execution_count": null,
      "metadata": {
        "id": "rEG3fw2NXJQ4"
      },
      "outputs": [],
      "source": [
        "print(\"Hola, mundo\")"
      ]
    },
    {
      "cell_type": "markdown",
      "metadata": {
        "id": "tWmTYUvBaBRp"
      },
      "source": [
        "Lo escrito en citación, sea comilla simple o doble es el valor un tipo de dato llamado *string* o *cadena de caracteres*."
      ]
    },
    {
      "cell_type": "code",
      "execution_count": null,
      "metadata": {
        "id": "hA0l4WaBYb-U"
      },
      "outputs": [],
      "source": [
        "\"Hola, mundo\""
      ]
    },
    {
      "cell_type": "markdown",
      "metadata": {
        "id": "kqXE42FNXGQq"
      },
      "source": [
        "# 1. Creación de variables"
      ]
    },
    {
      "cell_type": "markdown",
      "metadata": {
        "id": "PjSBALOnab_r"
      },
      "source": [
        "En R, una variable es un *nombre* que se asocia a un valor en memoria. En principio, no es necesario declarar su tipo de antemano: basta con asignar el valor, y R se encarga del resto."
      ]
    },
    {
      "cell_type": "markdown",
      "metadata": {
        "id": "oVeUkWE20l47"
      },
      "source": [
        "## Creación de Variables y tipos de variables"
      ]
    },
    {
      "cell_type": "markdown",
      "metadata": {
        "id": "SLMVjkiVaxgD"
      },
      "source": [
        "Aquí se asigna un nombre al valor antes mencionado."
      ]
    },
    {
      "cell_type": "code",
      "execution_count": null,
      "metadata": {
        "id": "2tQAwHokYfvh"
      },
      "outputs": [],
      "source": [
        "frase <- \"Hola, mundo\"\n",
        "frase"
      ]
    },
    {
      "cell_type": "markdown",
      "metadata": {
        "id": "XLk_Jx5tbBRa"
      },
      "source": [
        "Utilizamos la función *print* para mostrar el valor de la variable."
      ]
    },
    {
      "cell_type": "code",
      "execution_count": null,
      "metadata": {
        "id": "zl-5s0C-Ypab"
      },
      "outputs": [],
      "source": [
        "print(frase)"
      ]
    },
    {
      "cell_type": "markdown",
      "metadata": {
        "id": "ntXue_e0bTP6"
      },
      "source": [
        "Lo siguiente es el valor un tipo de dato llamado *numeric*. El tipo de datos es verificable mediante la función *class()*."
      ]
    },
    {
      "cell_type": "code",
      "execution_count": null,
      "metadata": {
        "id": "ZZNKElavpmaF"
      },
      "outputs": [],
      "source": [
        "numero_0 <- 1234\n",
        "class(numero_0)"
      ]
    },
    {
      "cell_type": "markdown",
      "metadata": {
        "id": "ATzc-jpYbmx1"
      },
      "source": [
        "Un valor numérico puede estar almacenado como string."
      ]
    },
    {
      "cell_type": "code",
      "execution_count": null,
      "metadata": {
        "id": "YnL-b84ppb3v"
      },
      "outputs": [],
      "source": [
        "numero_1 <- \"1234\"\n",
        "class(numero_1)"
      ]
    },
    {
      "cell_type": "markdown",
      "metadata": {
        "id": "eq8ZMuawbz46"
      },
      "source": [
        "El tipo de dato que permite dar cuenta de los valores lógicos *Verdadero* y *Falso* se llama *logical*."
      ]
    },
    {
      "cell_type": "code",
      "execution_count": null,
      "metadata": {
        "id": "NLCNIcAe0pFE"
      },
      "outputs": [],
      "source": [
        "booleano_0 <- FALSE\n",
        "booleano_1 <- TRUE\n",
        "print(booleano_0)\n",
        "print(booleano_1)"
      ]
    },
    {
      "cell_type": "code",
      "execution_count": null,
      "metadata": {
        "id": "SVDPMuFpdFg4"
      },
      "outputs": [],
      "source": [
        "booleano_0 <- F\n",
        "booleano_1 <- T\n",
        "print(booleano_0)\n",
        "print(booleano_1)"
      ]
    },
    {
      "cell_type": "code",
      "execution_count": null,
      "metadata": {
        "id": "doVzmksPch6z"
      },
      "outputs": [],
      "source": [
        "print(paste0( \"Tipo de dato de la variable 'booleano_0': \", class(booleano_0) ))"
      ]
    },
    {
      "cell_type": "markdown",
      "metadata": {
        "id": "IyEGt5Il7pOF"
      },
      "source": [
        "## Limpiar variables creadas en la sesión"
      ]
    },
    {
      "cell_type": "markdown",
      "metadata": {
        "id": "N6stnYYccx96"
      },
      "source": [
        "El siguiente comando permite revisar las variables que como usuarios en la sesión hemos creado, sea de forma automática o declaratoria."
      ]
    },
    {
      "cell_type": "code",
      "execution_count": null,
      "metadata": {
        "id": "4uCCzqun71FN"
      },
      "outputs": [],
      "source": [
        "ls()"
      ]
    },
    {
      "cell_type": "markdown",
      "metadata": {
        "id": "yFGYOIvXdBU7"
      },
      "source": [
        "A continuación observamos cómo se libera el nombre de una variable particular."
      ]
    },
    {
      "cell_type": "code",
      "execution_count": null,
      "metadata": {
        "id": "I9CN_jqo7l-M"
      },
      "outputs": [],
      "source": [
        "rm(numero_0)"
      ]
    },
    {
      "cell_type": "code",
      "execution_count": null,
      "metadata": {
        "id": "snYccYQ38V4N"
      },
      "outputs": [],
      "source": [
        "ls()"
      ]
    },
    {
      "cell_type": "markdown",
      "metadata": {
        "id": "4N9YAs6bdSnb"
      },
      "source": [
        "A continuación observamos cómo se liberan varios nombres de variables a la vez."
      ]
    },
    {
      "cell_type": "code",
      "execution_count": null,
      "metadata": {
        "id": "cCcFLZZy7zLU"
      },
      "outputs": [],
      "source": [
        "rm(list=ls())"
      ]
    },
    {
      "cell_type": "code",
      "execution_count": null,
      "metadata": {
        "id": "eNqPZ2BC8WiM"
      },
      "outputs": [],
      "source": [
        "ls()"
      ]
    },
    {
      "cell_type": "markdown",
      "metadata": {
        "id": "aRxScJ07hEIr"
      },
      "source": [
        "## Algunos tipos de errores"
      ]
    },
    {
      "cell_type": "markdown",
      "metadata": {
        "id": "wsOnoy7LdoxC"
      },
      "source": [
        "A continuación, podemos observar el despliegue de algunos errores que nos es pertiniente revisar, tanto desde la intencionalidad de la sentencia, como del mensaje del error y el cómo se resolvería.\n",
        "\n",
        "El caracter de numeral que precede la sentencia nos sirve para comentar una línea de código para que no sea ejecutada, por favor descomentar las siguientes y ejecutar cada caja una por una."
      ]
    },
    {
      "cell_type": "code",
      "execution_count": null,
      "metadata": {
        "id": "q1FmYYoTYslw"
      },
      "outputs": [],
      "source": [
        "#print(Hola, mundo)"
      ]
    },
    {
      "cell_type": "code",
      "execution_count": null,
      "metadata": {
        "id": "krKMIjG41Mnc"
      },
      "outputs": [],
      "source": [
        "#print(true)"
      ]
    },
    {
      "cell_type": "code",
      "execution_count": null,
      "metadata": {
        "id": "2dPoVf271Qo8"
      },
      "outputs": [],
      "source": [
        "print(TRUE)"
      ]
    },
    {
      "cell_type": "code",
      "execution_count": null,
      "metadata": {
        "id": "F02dNQpsZAMj"
      },
      "outputs": [],
      "source": [
        "frase = \"Hola, mundo\"\n",
        "#print(Frase)"
      ]
    },
    {
      "cell_type": "code",
      "execution_count": null,
      "metadata": {
        "id": "f-FPKiN1Ziv1"
      },
      "outputs": [],
      "source": [
        "#print(\"Hola, mundo)"
      ]
    },
    {
      "cell_type": "code",
      "execution_count": null,
      "metadata": {
        "id": "xdlrfmu6ZvBY"
      },
      "outputs": [],
      "source": [
        "pedazo_frase_1 <- \"Hola,\"\n",
        "pedazo_frase_2 <- \"mundo\""
      ]
    },
    {
      "cell_type": "code",
      "execution_count": null,
      "metadata": {
        "id": "jTT-l3EopyWo"
      },
      "outputs": [],
      "source": [
        "#print(pedazo_frase_1 pedazo_frase_2)"
      ]
    },
    {
      "cell_type": "markdown",
      "metadata": {
        "id": "Z96popLDpI5N"
      },
      "source": [
        "# 2. Cadenas de caracteres"
      ]
    },
    {
      "cell_type": "markdown",
      "metadata": {
        "id": "zskiWwEseN4k"
      },
      "source": [
        "Las cadenas o strings son secuencias de texto. Pueden ir entre comillas simples o dobles. Son muy útiles para representar palabras, frases o cualquier información textual."
      ]
    },
    {
      "cell_type": "markdown",
      "metadata": {
        "id": "es4vF6VvhL6U"
      },
      "source": [
        "## Longitud de cadenas de caracteres"
      ]
    },
    {
      "cell_type": "markdown",
      "metadata": {
        "id": "6zaoSClUeaaK"
      },
      "source": [
        "En primera medida, la función *nchar()* nos permite saber el número de caracteres de un string."
      ]
    },
    {
      "cell_type": "code",
      "execution_count": null,
      "metadata": {
        "id": "ByHOhZmbbyQQ"
      },
      "outputs": [],
      "source": [
        "pedazo_frase_1 <- \"Hola,\"\n",
        "pedazo_frase_2 <- 'mundo'\n",
        "nchar(pedazo_frase_1)"
      ]
    },
    {
      "cell_type": "code",
      "execution_count": null,
      "metadata": {
        "id": "ayD1qBOKcrio"
      },
      "outputs": [],
      "source": [
        "nchar('Hola,')"
      ]
    },
    {
      "cell_type": "markdown",
      "metadata": {
        "id": "qbEtuuNQgvbX"
      },
      "source": [
        "## Concatenado de cadenas de caracteres"
      ]
    },
    {
      "cell_type": "markdown",
      "metadata": {
        "id": "h5Jx9ZK-fQ1H"
      },
      "source": [
        "La función *paste0()* permite hacer el concatenado de cadenas de caracteres."
      ]
    },
    {
      "cell_type": "code",
      "execution_count": null,
      "metadata": {
        "id": "yJfYoLoYe1et"
      },
      "outputs": [],
      "source": [
        "print(paste0(pedazo_frase_1,pedazo_frase_2))"
      ]
    },
    {
      "cell_type": "code",
      "execution_count": null,
      "metadata": {
        "id": "IsHgFUwDhOBh"
      },
      "outputs": [],
      "source": [
        "paste0('Buenos' , ' ' , 'días.')"
      ]
    },
    {
      "cell_type": "markdown",
      "metadata": {
        "id": "dApSRDPug4n7"
      },
      "source": [
        "## Indexado en cadenas de caracteres"
      ]
    },
    {
      "cell_type": "markdown",
      "metadata": {
        "id": "ScfWYWhqfcjU"
      },
      "source": [
        "A continuación se presentan algunos ejemplos de extracción de una subcadena a partir de una cadena:\n",
        "* contando de atrás hacia adelante y viceversa\n",
        "* si es un caracter individual o múltiples caracteres"
      ]
    },
    {
      "cell_type": "markdown",
      "metadata": {
        "id": "MnUVP-RwnM5i"
      },
      "source": [
        "![indexin3.jpg](data:image/jpeg;base64,/9j/4AAQSkZJRgABAQEAeAB4AAD/2wBDAAMCAgMCAgMDAwMEAwMEBQgFBQQEBQoHBwYIDAoMDAsKCwsNDhIQDQ4RDgsLEBYQERMUFRUVDA8XGBYUGBIUFRT/2wBDAQMEBAUEBQkFBQkUDQsNFBQUFBQUFBQUFBQUFBQUFBQUFBQUFBQUFBQUFBQUFBQUFBQUFBQUFBQUFBQUFBQUFBT/wAARCABOA24DASIAAhEBAxEB/8QAHwAAAQUBAQEBAQEAAAAAAAAAAAECAwQFBgcICQoL/8QAtRAAAgEDAwIEAwUFBAQAAAF9AQIDAAQRBRIhMUEGE1FhByJxFDKBkaEII0KxwRVS0fAkM2JyggkKFhcYGRolJicoKSo0NTY3ODk6Q0RFRkdISUpTVFVWV1hZWmNkZWZnaGlqc3R1dnd4eXqDhIWGh4iJipKTlJWWl5iZmqKjpKWmp6ipqrKztLW2t7i5usLDxMXGx8jJytLT1NXW19jZ2uHi4+Tl5ufo6erx8vP09fb3+Pn6/8QAHwEAAwEBAQEBAQEBAQAAAAAAAAECAwQFBgcICQoL/8QAtREAAgECBAQDBAcFBAQAAQJ3AAECAxEEBSExBhJBUQdhcRMiMoEIFEKRobHBCSMzUvAVYnLRChYkNOEl8RcYGRomJygpKjU2Nzg5OkNERUZHSElKU1RVVldYWVpjZGVmZ2hpanN0dXZ3eHl6goOEhYaHiImKkpOUlZaXmJmaoqOkpaanqKmqsrO0tba3uLm6wsPExcbHyMnK0tPU1dbX2Nna4uPk5ebn6Onq8vP09fb3+Pn6/9oADAMBAAIRAxEAPwD9U6K8A/b41K80f9j/AOJ95YXU9jdw6ZujuLaQxyIfMTkMCCPwr4a/ZM+K+g2v7Tnwe0L4YfEPxZdWer6PI3jPS/F+ov8AYZp/IBUWiT4Z5TJuI2Z4A2nG+il+9qOn6fipP7vd380FT3KfP6/hb8ddF5M/WSiiigAooooAKKKKACiiigAorxb4z/Hu++F/xi+D/gu20q3vrbxzqNzZXF1LIyvarFEHDIBwxJOOaPgl8e774q/Fj4weEbrSrewt/A+qwafb3MMjM90skZcs4PAIIxxRH3726X/DlT/9KQS9y3N1t+N7f+ks9pooooAKKKKACiiigAooooAKK+Lvjp/wUC1D4d/FDxv4W8LeGfDmrWvge1hudZuNe8TxaZPdO6eYYLOFlJldU75PPGM43fVPwu+IWm/Fn4deHPGWjiRdM1yxiv4EmADorqDtbHcHIPuKI+/DnW3+d7ffZ2CXuy5Hv/w35XR1FFFFABRRRQAUUUUAFFFc38SfFMvgb4eeJ/EcECXU2kaZc36QSEhZGiiZwpI6A7cVE5qnFzlstS4Rc5KMd2dJRXxL8Jv27/iB4lvvhFfeNvhbp/hvwh8SLptO0zU7HW/tM4n2kpI0PljbG5GAC24ck9gftqtXFx372+a6fivvMlJS27X+T/4ZhRRRUlBRRRQAUUUUAFFFeLftM/tC3XwL0/wlY6H4c/4S3xj4u1ePRtG0p7oWsTSsMtJLLtbaiDk4BJyOnUJu1l3aXzei/EaV7+V38lqz2mivBv2fP2i9b+JPjzxv8O/HHhW38I+PfCQt5rm3sL/7ZaXdvOm6OaKQohHoVI4yOeoHvNVbRPoyb6tdUFFFFIYUUUUAFFFFABRRXyD+0V+2p4q+GXxzk+Gng7wp4f1TUrTRk1iR/EmurpragXYhbazDDEkpwcDPJzxxyrq6j3/yb/JDtdN9v87fmz6+orF8Fa7eeJ/COjavqOj3Ph6/vbSOe40q8YNNaSMoLROV4JU5GR1xW1VSTi2mSmpK6CiiikMKKKKACiiigAooooAKKKKACiiigAooooAKKKKACivHP2o/2hD+zt4D03VLLQm8UeItb1a20PRtHFwLcXN3MSFDSEHaoAJJx6DjOR8+fs7eOfiR4m/4KA+O7L4i6NH4W1C18GW+NH0/VGvbFx9oTbcRnAALBiDkZG00Q/eT5V5/hHm+elvvuKp+7hzPy/GSj+d/usfc1FFFAwooooAKKKKACiiigAor5c/4KJa5Hp3wS0TSrxb6bSPEPijTdG1G1sbwWrXNtLId8TvsZtjbQGC7SRxuAJr6S8O+H9M8J6FYaNo1hBpmk2EKW9rZ2qBIoY1GFVVHQAUR95N9nb8E3+a/EcvdaXdX/Fpfk/wNGiiigQUUUUAFFFFABRRRQAUV8XfEL9ufx38NfG0T6/8ADTStI8Ef8JLH4eJuvEKHWpI5H2peraKvER67SSfcda+0aI+9BTWz/wAk/wAmgl7snB7/APBa/NMKKKKACiiigAooooAKKK8w/aX+NQ/Z5+CPij4gf2RJrraPArpYRyeX5jvIsa7mwdqguCTg4ANTKSguZlRi5yUVuz0+ivnX9lb9ojxv8bbvVIvE/hLRLTTIrWG7sfEnhTW01PTbguBut2YcpMmQSD79MDP0VWkouO5nGSlsFFFFSUFFFFABRRRQAUUUUAFFFFAHk37Vvwu1j40/s8+N/BPh97WPWNZsfs9s17IY4Q29W+ZgCQMA9jXzboH7MPx6+JPin4NW3xQbwHoXhL4a3MF9by+GpbmbUL2SCNUjQtIu1VOwFsEfQ8Y+66KIe5PnW90/nG9n8rhL348r818pWuvnYKKKKACiiigAooooAKKKKAPm/wDa5+Cvjrx74i+F3jr4cJpF74p8C6tLeppetzvDb3kMsex13qDhhgYzgcnnjBp/sffBL4k/Dbxl8W/FvxM/4R9NX8banb6ikHh6eWWGHbGylP3igjGVHU5wTX05RRD93zW63/Hlv9/Kgn7/AC36W/C9v/SmFFFFABRRRQAUUUUAFFFFAHwn8Zv2NvGlv8bPiD418F+Cfhr8RLTxvBCdnjyzjln0K9SPy/Ph3wyK8ZGGZOCSAMcc/X/wm8H3XgD4aeGvDt6+ny3um2MVvcPpNjHZWjSAfOYoI1VI0znCgDArraKI+5DkW2n4Xsvx/Lsgl70ud7/52/y/PuwooooAKKKKACiiigArlvir4Zu/Gnwx8XeH7AxLfarpN3YwGZiqCSSFkXcQDgZYZODXU0VE4KpBwls9C4TdOSmt1qfGll+yN43t/h1+y5obT6R9s+GurRXutkXL7HjVSD5B2fOeehC19l0UVs5OXM31bl82kv0RjGCjZLokvkm3+rCiiioLCiiigAooooAK+fP2uvgd4q+KNt4E8U+AZ9PXx14F1pNY0611ZmS1vFxtlgdlBK7lxg+oxxnI+g6KTV2n1TTXqndDT3XRpr5NWZ81/sz/AAV8eaT8V/iJ8XPigmk6d4t8VpbWFvouiTtPb2FnAuFDSMBvdjgnHHHvgfSlFFV0UUrJf1+er8ybauT3f/DfloFFFFIYUUUUAFFFFABXx1+2B+z/APFH4x65rdlYeFvAfxA8H6jpYtdMj8RN9jv/AA/ekFWuIp0iLuvIbbvBzxjA5+xaKiUFPf8Ar+vvXQuMnHb+uv8AX3HDfAzwJqnww+D3g7wnrWrHXdV0bTILK51Alj5zooBILckdhnnAGa7miitpyc5OT3ZjCKhFRWyCiiioLCiiigAooooAKKKKACiiigAooooAKKKKACiiigDwD9sz4FeJPjb4B8Oy+C7mxg8Y+E9ftPEelR6mzLbXEsJOYpGUEgEMefUAcZyOO+AfwY+MUP7Unij4u/FC38KadHq3hyHR7fT/AA5eTTmApKjgP5ka5PDksCRyAK+sKKIe47rzfzceV/gE/wB4uV+X4PmX4hRRRQAUUUUAFFFFABRRRQB4L+2N8EPEPx48CeFtH8NyWMV3pnijT9ZnN/K0amCB2LhSFbLcjA/UV7yOBS0UkuVNLq7/ADsl+iB6tN9Fb8W/1YUUUUwCiiigAooooAKbIpeNlVihIIDDt706ik1dWA/MK7/4J7fFq50Y6CfDPw4ur6Hxh/b1z8Qb26lfXNTgNx5gQHyCY+PvKXwccD+I/p4OBS0U4+7BQWy/yS/JIJe9N1Hu/wDNv82wooooAKKKKACiiigArgPjv4e8Z+KfhZrmm/D/AFHS9M8VzRr9kk1u1W4s5QGBeKVGVhtddy52nGc4rv6KmS5lYqL5Xc+P/wBkz9mTxj8NPjl4w+IGseG/DHw20bVtLh04eEvCV489rcXCPua8YFESPjIVVHAY8Dkt9gUUVo3dJdF/w/6/otDNKzb7/wCVv0CiiipKCiiigAooooAK4P42/wDCx/8AhX93/wAKq/sH/hMfOi8j/hJPM+yeXvHmZ8vndtziu8opNXGnYhsvtH2OD7X5f2ry183yc7N+Pm255xnOM1NRRVN3dyUrKwUUUUhhRRRQAUUUUAeW/s0+NNZ+IHwjs9a1+8+36nJqWqW7T+UkeUh1C4hjG1ABwkaDOMnGTkkmvUq8S/Y2/wCSC6f/ANhjWv8A063de20dEN/E/V/mFFFFAgooooAKKKKACvLP2mPGutfD74SXOtaBefYNTTVdJtln8pJMRzalbQyrtdSPmjkdc4yM5GCAa9TrxD9sv/kgt7/2HNB/9PFnQvjgv70f/SkB7fRRRQAUUUUAFFFFABRRRQAV5bfeNNZh/ad0bwkl5jw/ceEbzVJbPyk+a5jvLaNH343jCSOMA45yRkCvUq8S1P8A5PR8Pf8AYhaj/wCnCzoj/Ggv8X/pE3+av6hL+FN/4f8A0uK/I9tooooAKKKKACiiigAooooAK8s/Z68a61450Dxdc63efbZrDxfrel2zeUkey2t72SKGPCKM7UUDJyTjJJPNep14h+yd/wAit4+/7H/xH/6cZaIazkv7r/8ASof5v7wnpBP+8v8A0mf+SPb6KKKACiiigAooooAKKKKAPMP2nPGesfDz4BeOPEnh+8/s/WtN05p7W58pJPLcEAHa4Knr0IIr0yJi0SE8kqCa8Y/bQ/5NY+JX/YJf/wBCWvZoP9RH/uj+VHcH0+f6ElFFFABRRRQAUUUUAFFFFAHlnjPxrrWk/tD/AAz8M2t55Wh6xpWt3N9a+Uh86S3+x+S24ruXb50nCkA7uc4GPU68Q+In/J2nwZ/7AfiT/wBx9e30L+HF+v8A6VIOoUUUUAFFFFABRRRQAUUUUAeW/BLxprPi/W/inb6tefa4dE8XT6XYL5SJ5NstrayKmVA3fNK5y2Tz1wBXqVeJfs2/8jJ8b/8Asfbn/wBIbKvbaI/w6T7wg/m4Jv7xy/iTX96X/pTCiiigQUUUUAFFFFABXCfHrxNqXgv4HfEPxBo1z9j1fSvD2oX1nc+WsnlTR28jxttYFWwyg4YEHHINd3XmH7Uf/JtHxZ/7FPVf/SSWufENxoza3s/yOjDpSrQT2uvzO38HX8+q+ENDvbqTzbq5sYJpZMAbnaNSxwOByT0rYrn/AIe/8iD4a/7Blt/6KWugr0MQlGtNLa7/ADODDtyowb7L8gooornNwooooAKKKKACvLfid401nw98XPhBoun3n2fTNe1LULfUoPKRvPSPT5pkG5gSuHRTlSCcYORxXqVeJfGj/kvXwB/7DGq/+mq4oH0fo/yPbaKKKBBRRRQAUUUUAFFFFABXlnwu8a614i+Lfxi0XUbz7RpmgarYW2mweUi+RHJptvM67lUFsySO2WJIzgYAAr1OvEPgp/yXr9oP/sOaX/6Z7SiPxtf3X/6VED2+iiigAooooAKKKKACiiigDF8bajcaR4N16+tJPKurWwuJ4ZNoba6xsVODkHBA61g/AzxJqPjH4K+Ade1i4+2atqmg2N7d3GxU82aS3R3baoCjLEnAAA7CtX4j/wDJPPFH/YKuv/RLVy/7Mv8Aybj8LP8AsVtM/wDSWOinr7W/Tk/H2l/vsvuQT09n58/4cn+b+89LooooAKKKKACiiigAoqvqF01jYXNyltNePDE0i21vt8yUgEhF3EDccYGSBk8kV4/+z78ZPFfxT8TfEzTfFXhu28Ky+GtWt7K106OcT3EcMtpFOPtEis0bS/vORH8q/dDPjewtW0uiv+KX6g9Em+rt+p7RRRRQAUUUUAUdG0PTfDlgtjpOn2ul2Su8i21lCsMYZ3LuwVQBlmZmJ7liTyavUUUAFFFFABRXm3xi8W+ONHuvC+heANEtr3WNdvJIZtZ1a3mm03SLeOJpHmnERUsWwsaJvTczfeGDWb8CPih4k8Z6r478LeMbbSh4m8HapHYXN/oSyJY3sctvHcRSIkjM0TBJArxl3wRncQRgj7zaXTX8v81/SYPS3n/wf8n/AE0et0UUUAFUdZ0LTfEdg1jq2n2uqWTSRym2vYFmjLo4eNtrAjKuqsD2KgjkVeooAKKKKACiiigAorwb4w/ED4teE38Za7pcPgvwv4L8NWf2mG68VNLPLrZWISS7HhnQWaDmMNIsrFgTs24z634C8TSeNPA3h7xBNp82kzarp1vfPYXH+stmljVzG3A5Utg8Dp0FEfeTa6W/G9vvs/TrYH7rSfW/4Wv911+hvUUUUAFUW0PTX1qPWG0+1bV47drRL8wqZ1hZgzRCTG4IWVSVzglQe1XqKPMAooooAKKKKACivnu0/aX1PXf2trL4ZaRpVrL4PTTr8XeuyBjJNqVt5BlggIYLsiW4jDkqcuxUEGNs/QlC1ip9Ht97X6aeQPSTj1X+V/8Ah/MKKKKACqOk6FpugRXEWmafa6dFcXEl3MlpAsQlmkYtJKwUDLsxLMx5JJJq9RQAUUUUAFFFeVftH/E7VvhZ4I0y/wBEvNF0y/1HW7HShqHiGJ5bK0jlkxLNIqSxEhIw7f6xRxycUm7WXdpfNuy/FjSvd9k39yuz1WivPPgn4r1Dxp4ZuNUu/HXg3x/bvcFLfU/BNq0NooUDcjE3dyGcHuGXAIGO9eh1TVtCU7hRRRSGUta0TTvEmlXOmavp9rqmm3SeXPZ3sKzQyr/ddGBDD2Iq4AAAAMAUtFABRRRQAUUV4X4n+JvxF8YfFfxP4K+GMfhmxTwnZW0uq6p4nt7i5Se8uEaSG0ijhkjKARhXeYs2PMUCNuaTdv6/r/h9N2NK/wDX9f1rse6UVg+A9W1vXfB2kX/iXQj4Z1+e3Vr7SPtUdyLWboyCWMlXXPII6gjIByBvVTVm0SndXCiiikMo3GhabeavZarPp9rPqllHJFa3skCtNAkm3zFRyNyhtibgCM7Vz0FXqKKACiiigAoqG8E7Wk4tWjS6KN5TTKWQPj5SwBBIzjIBH1r5m8ceOv2gvh3r3gjT7zWvhrrl14l1yDS4dNsfD2owzNFzJczB2vnCiKBJHJKkZCjHIoWslHvZfe7A9IuXa7+5XPp+iiigAooooAo6boem6NLfSafp9rYyX1wbu7e2hWM3ExVVMshUDe5VVG45OFA7Cr1FFABRRRQAUV5n+0R8VL/4PfDWTXtMtLO4vptQstMim1ORo7Kza5uEgFxcsvIhj8zc2MZxjIzkY3wd+KHivW/iV4y8CeLJdA1u90C0sr5de8LwS29qwuPNH2aWGSWYxzL5Qf8A1jbkkU4XuR969v6aSb/Br/hwl7qu/wCtbfn/AFY9looooAKq6ppdlrmmXenalZwahp95C9vc2l1EssU8bAqyOjAhlIJBBGCDVqik1fRjTtqiO3t4rS3iggiSGCJQkcUahVRQMAADgADtUlFFU3fVkpW0QUUUUhhRXhvi/wCJXxD8S/GPXPAHw5/4RfTH8O6Ra6nqOo+J7e4uxcSXLTCCCKKGWIooEDFpWZsbgAhwa7H4E/FRvjF8OLTxBcaeukapHc3Om6npyTeatteW07wTor4G5d8ZKtgZUg4oXvK/9b2v9/6d0Evddn/V1e33a/f2Z6DRRRQAVRvdD03Ur/T7670+1ur3T3eSzuZ4VeS2ZkKM0bEZQlWKkrjIJHQ1eooAKKKKACiivFP2s/jV4s+Bfwn1fxJ4R8JJ4ivbOzmu5by+nSOwsEj2/NOodZZC27CJEDkg7mQDNK9ioxc3yo9roryv47/FjVvhv4R8PDw9Y2d/4s8UavaaDpEWoMy2kdxOGYyzbTuMccccjlVILbQoIzkV/hB8TPE+rePfGfw/8cRaTJ4m8ORWd9HqWhwy29pf2V0JPKcQyySPE6vDKjKZHBwCDzgUle/lp80k2vkmn/wztnzLlUu6T+Tdk/m1b1PXKKKKRQVRstC03TL/AFC+s9PtbS91GRJb25ggVJLp1QIrSMBlyEVVBbOAoHQVeooAKKKKACiivENW+N3i2y/ab8JfD5vCUel+E9XtdTkGsX86Pc3strHC263jjkPlxDzQN0o3Mc4RQoZxayUVu7/grg9Fc9vorw/9of43eLfhTrPgy00Dwil9peq69pWm6jr+ozoLWCO6vFtzFDEsglefBLZKiNQQSWPyV7hQvejzLu180k/1QPR8r7X++6/QKKKKAIrm2hvLeW3uIknglQxyRSKGV1IwVIPBBHGKi0zTLPRNNtdP060gsLC0iWC3tbWNY4oY1ACoiKAFUAAAAYAFWqKACiiigAoqnrN/LpWkX17DY3OqTW0DzJY2ezzrhlUkRx72VdzYwNzKMkZIHNeT/s5fGDxR8WE+If8Awlnh+08NX3h3xJJpEOm2k32iSKEWttMomkBKvLmdgxjwnAA3Y3Mk7trsr/K6X6oHok+7t+Df6HslFfLr/Hv4ueH9O8J+OfE/hzQdI8FeIfEFrow8LT2t1Dr9jDdXAt7eaSV32PJuZXeDyVIUkByQa+oqpK65vO3o7J2+5r7wekuX5/K7X5pkV1cLaW007rIyRIXZYo2dyAM4CqCWPoACT2r5m/Zv8aLe/HX4xSS+G/GOl23ijWbW+0u71jwnqdhbzQxabBE5aWeBEjO+N1CuVLEcA5FfT1FKOknLyt+Kf6L8fkPVJed/0/VhRRRQAUUUUAFFFFABRRRQB4z+0x8X/Enww0HSbHwl4a1nWNb12d7ZNWsdCvNVtNGjUAvc3EVrG8jEBhsjAG9uCyqGIl/Zng8MaV4TvtM8PW3ip7wXJvtX1fxd4fvdLu9VvJsmS4Y3MEXmMduMICqKEUBQFFew0UR92993+Xb06+b32ViWtvL8+/rbTy1tu7lFFFABRRRQAUUUUAFFFFAHzB8aPEi6rqPjDwt8T/hBqfjayt5ftXgvUPDnhubUfNR4EUD7Qhf7HdpN5g81jCu3YyngmvZvgXpXinQ/g14K0/xvdNeeL7XSLaLVZ3l812uBGA+58ne2eC2fmIJ713NFEfdi13t+F197vq+tlsEvekn2v+Nvw009WFFFFABRRRQAUUUUAFc/8QIPEd14H16HwfPY23iqSxmTS59TLC2juShEbSbVZtobBOAenSugoqZR5ouL6lRfK0z4p8I/DX4tfD/44/BWxTwF4dXR9C0TV7S51Sz8Q3t3E5nltHuJ7mdtOQC5kYPIqHiVjJlk25P2tRRWjldJPz/Ft/qZpWbfp+VgoooqSgooooAKKKKACvLvj/c29loOg3WpfDiX4k6JbavDPfWtrCLq505VVyl5Fa7GNyUfYCifOA5ZQ23B9Ropdmuln939f5DXX5/j/Xp3Pnv4A6Tdax8bfin4/sfDOp+EvCOu2+mWdrb6vp76dcajdW4nE14baQLJGCskUYMiqziPOMAGvoSiiq6JLp/X9fdsT1bfX/hv6+8KKKKQwooooAKKKKACvjX4o/CTwlovx7+Iev8AxJ+GOv8AxH8NeLLWzutKl0nS7nWILW5hthbTQPaw7vJmZY4mS4ZAMMR5ibcV9lUVLV3f5ff/AF/SuilK39f1/XnqeV/su+HfFPhP4CeD9K8ZG5HiC2tWWWK9uPPngiMrmCKSTJ3OkRjRjk8qeT1r1SiitJS5pOXcziuVJBRRRUlBRRRQAUUUUAFeIeCdA1Xx7+0Z4s8da5pl5p+keF4P+EY8MQ31u8RmL7Jb++RXAyrsIYUccMsDkEhq9vooWkub1/HS/wB118weseX0/DX87P5W2YUUUUAFFFFABRRRQAUUUUAeJ/ta6BrviH4caXFpml3/AIh0SDW7S48S6FpRP2rU9JUt9ogjUMpkySjNEDmRFZOd2Dyf7Pfh+C2+NfiPVPAPgnU/h58KX0WG3l0y+0eXRYL3VhLn7Rb2Eio0e2HCPL5aCQ7R82zI+mKKIe42/X8VbXulul0eoT99W9Pwd/v6N9VoFFFFABRRRQAUUUUAFFFFAHzR+0BpnhR/ihHfeMPhR4v1qNNHEWn+KfAr6jLcXh3sZdOuo7Ao6p9xl89mhbzHyUIOex/ZH+F978JvgvaaXqOkQeHr2+1G/wBYfRLYqY9NW5uZJo7UbPl/dxsiHbxlTgkYNezUUR91NLr+V7/nb7vW5L3mm/X52t+V/v8AJWKKKKACiiigAooooAK+ff26NRnl/Zu8aeGtP0TxBr2t+INMntLC10HQ7vUS0ny8SGCJxEDngyFQecHg19BUVMldWLhLkkpLofN/xqur/wAe+Avhx4/8LeHvEGot4N8UWusXWjXGj3Nlqc9qkctvciK1uEjkZwk5dV2/OEwuSRWp8FrbUvHPx2+IXxOm0PVtB0C80zTfD+jprtjLYXdytu1xLPMbeVVkjQvcBV3qCdhOMEZ98oq07Nvzb+bSi/wX4vfS2KjaKj2SXyTcl+IUUUUiwooooAKKKKACvlz4w+PI7L9q/wCF+oL4Z8aX2meGbPWrXU7/AE7whql3bRyXMVr5GyWK3ZJQdjAshYKQQxFfUdFEdJqXa/4pr8mwe1j5s/bO8RONI8E6PZeHvFOuXtv4r0TW5jofhu/1GKK0t75JJmaSCF0DKqMfLJ3njCnIr6D8P63B4k0Wz1S1hvLe3u4xKkWoWctpcKD2eGVVkjb/AGWUEelaFFEfdi492396S/KK/H5Evekn2Vvxb/V/gFFFFABRRRQAUUUUAVtSv49K066vZUnkitommdLaB5pWCgkhI0BZ244VQSTwATXzX+y340B8d/GOO68NeMNKGu+Kp9d06bVvCmpWMU9oLK0j3CSaBVDl4nAjJDnbwtfTtFJK0nJdU197T/OK/H5Nu8VHzT+5Nfq/wPjvwn8Ul+LvxO07xf8AEXwl8QdFsNHvWHhXwfL4E1h4rSXJjGo30y2pja4Kk7FDGOBWJyzksv2JRRVaKKiv6/4P/DbIl3cnJ/15en/Du7bP/9k=)"
      ]
    },
    {
      "cell_type": "code",
      "execution_count": null,
      "metadata": {
        "id": "MOpGP5DWqKf9"
      },
      "outputs": [],
      "source": [
        "ejemplo <- 'Buenos días.'"
      ]
    },
    {
      "cell_type": "markdown",
      "metadata": {
        "id": "yadhnqd6jUE8"
      },
      "source": [
        "### Caracter individual"
      ]
    },
    {
      "cell_type": "code",
      "execution_count": null,
      "metadata": {
        "id": "I5rQvC31gKvX"
      },
      "outputs": [],
      "source": [
        "print(substr(ejemplo,2,2))"
      ]
    },
    {
      "cell_type": "code",
      "execution_count": null,
      "metadata": {
        "id": "eoyrV-3KgNnE"
      },
      "outputs": [],
      "source": [
        "print( substr(ejemplo,nchar(ejemplo)-2,nchar(ejemplo)-2) )"
      ]
    },
    {
      "cell_type": "code",
      "execution_count": null,
      "metadata": {
        "id": "UjTOZlk3lYlq"
      },
      "outputs": [],
      "source": [
        "print( substr(ejemplo,17,17) )"
      ]
    },
    {
      "cell_type": "code",
      "execution_count": null,
      "metadata": {
        "id": "HuWc0N4JqTf2"
      },
      "outputs": [],
      "source": [
        "print( substr(ejemplo,-14,-14) )"
      ]
    },
    {
      "cell_type": "markdown",
      "metadata": {
        "id": "1BpY2IpKjepU"
      },
      "source": [
        "### Multiples caracteres"
      ]
    },
    {
      "cell_type": "code",
      "execution_count": null,
      "metadata": {
        "id": "n0rOkEEjgQR_"
      },
      "outputs": [],
      "source": [
        "print( substr(ejemplo,nchar(ejemplo)-2,nchar(ejemplo)-2) )"
      ]
    },
    {
      "cell_type": "code",
      "execution_count": null,
      "metadata": {
        "id": "SG2kvBksgVRe"
      },
      "outputs": [],
      "source": [
        "print( substr(ejemplo,nchar(ejemplo)-2,nchar(ejemplo)-1) )"
      ]
    },
    {
      "cell_type": "code",
      "execution_count": null,
      "metadata": {
        "id": "-_RCb_R2fmty"
      },
      "outputs": [],
      "source": [
        "print( substr(ejemplo,3,3) )"
      ]
    },
    {
      "cell_type": "code",
      "execution_count": null,
      "metadata": {
        "id": "UNagpECQfA45"
      },
      "outputs": [],
      "source": [
        "print( substr(ejemplo,3,6) )"
      ]
    },
    {
      "cell_type": "code",
      "execution_count": null,
      "metadata": {
        "id": "_H7-GLiXp_te"
      },
      "outputs": [],
      "source": [
        "print( substr(ejemplo,14,20) )"
      ]
    },
    {
      "cell_type": "code",
      "execution_count": null,
      "metadata": {
        "id": "pzvi6bOrqCU1"
      },
      "outputs": [],
      "source": [
        "print( substr(ejemplo,-14,-10) )"
      ]
    },
    {
      "cell_type": "markdown",
      "metadata": {
        "id": "8eW-iDCzXJm_"
      },
      "source": [
        "## Salto de línea"
      ]
    },
    {
      "cell_type": "markdown",
      "metadata": {
        "id": "zkee3xe-kkyz"
      },
      "source": [
        "A continuación, algunos ejemplos sobre cómo funciona el salto de línea dentro de una cadena de caracteres."
      ]
    },
    {
      "cell_type": "code",
      "execution_count": null,
      "metadata": {
        "id": "t4CjzzzjbJCo"
      },
      "outputs": [],
      "source": [
        "cadena_larga_1 <- \"Esta cadena de caracteres multilínea\n",
        "es impresa en varias líneas\"\n",
        "cadena_larga_2 <- 'Esta cadena de caracteres multilínea\n",
        "es impresa en varias líneas'"
      ]
    },
    {
      "cell_type": "code",
      "execution_count": null,
      "metadata": {
        "id": "p-s1bwugblNh"
      },
      "outputs": [],
      "source": [
        "cadena_larga_1"
      ]
    },
    {
      "cell_type": "code",
      "execution_count": null,
      "metadata": {
        "id": "hPSioTpSbmz0"
      },
      "outputs": [],
      "source": [
        "print(cadena_larga_2)"
      ]
    },
    {
      "cell_type": "code",
      "execution_count": null,
      "metadata": {
        "id": "jHLfnTY-b8vk"
      },
      "outputs": [],
      "source": [
        "print(\"Esta cadena de caracteres multilínea\\nes impresa en varias líneas\")"
      ]
    },
    {
      "cell_type": "markdown",
      "metadata": {
        "id": "oxM01LTVqf-X"
      },
      "source": [
        "## Citación"
      ]
    },
    {
      "cell_type": "markdown",
      "metadata": {
        "id": "DceaFe8Dkyu7"
      },
      "source": [
        "A continuación, algunos ejemplos sobre cómo se desambigua la citación al declarar el valor de una variable de cadena de caracteres."
      ]
    },
    {
      "cell_type": "code",
      "execution_count": null,
      "metadata": {
        "id": "PVH-edApdsFN"
      },
      "outputs": [],
      "source": [
        "#texto <- \"Me preguntó: \"¿Qué hora es?\"\""
      ]
    },
    {
      "cell_type": "code",
      "execution_count": null,
      "metadata": {
        "id": "4psfdZqTd6HI"
      },
      "outputs": [],
      "source": [
        "texto_1 <- \"Me preguntó: '¿Qué hora es?'\"\n",
        "texto_1"
      ]
    },
    {
      "cell_type": "code",
      "execution_count": null,
      "metadata": {
        "id": "yotbthXdkVr8"
      },
      "outputs": [],
      "source": [
        "texto_2 <- 'Me preguntó: \"¿Qué hora es?\"'\n",
        "texto_2"
      ]
    },
    {
      "cell_type": "markdown",
      "metadata": {
        "id": "TWGeH-W7yX0N"
      },
      "source": [
        "## Conversión en mayúsculas y minúsculas"
      ]
    },
    {
      "cell_type": "markdown",
      "metadata": {
        "id": "jt3sIDT4lGdE"
      },
      "source": [
        "A continuación, se muestran los métodos que permiten modificar las cadenas de caracteres entre minúsculas y mayúsculas."
      ]
    },
    {
      "cell_type": "code",
      "execution_count": null,
      "metadata": {
        "id": "t8F4Hsabybdk"
      },
      "outputs": [],
      "source": [
        "tolower(texto_1)"
      ]
    },
    {
      "cell_type": "code",
      "execution_count": null,
      "metadata": {
        "id": "BCCmE0hgygXL"
      },
      "outputs": [],
      "source": [
        "texto_mayus = toupper(texto_1)\n",
        "texto_mayus"
      ]
    },
    {
      "cell_type": "code",
      "execution_count": null,
      "metadata": {
        "id": "ZGCKCe3GqOXZ"
      },
      "outputs": [],
      "source": [
        "install.packages('Hmisc')"
      ]
    },
    {
      "cell_type": "code",
      "execution_count": null,
      "metadata": {
        "id": "mlC9wVSFzOCk"
      },
      "outputs": [],
      "source": [
        "Hmisc::capitalize(texto_mayus)"
      ]
    },
    {
      "cell_type": "code",
      "execution_count": null,
      "metadata": {
        "id": "9JFp0DvPzvUb"
      },
      "outputs": [],
      "source": [
        "tools::toTitleCase(texto_1)"
      ]
    },
    {
      "cell_type": "code",
      "execution_count": null,
      "metadata": {
        "id": "3VgWuWMdzy_j"
      },
      "outputs": [],
      "source": [
        "tools::toTitleCase(tolower(texto_mayus))"
      ]
    },
    {
      "cell_type": "markdown",
      "metadata": {
        "id": "9jh0wdfZyvfb"
      },
      "source": [
        "## Remover espacios a la derecha o a la izquierda"
      ]
    },
    {
      "cell_type": "markdown",
      "metadata": {
        "id": "0g1GR6-Gl4zN"
      },
      "source": [
        "A continuación, se muestran los métodos que permiten eliminar espacios en blanco a la derecha e izquierda de las cadenas de caracteres."
      ]
    },
    {
      "cell_type": "code",
      "execution_count": null,
      "metadata": {
        "id": "AFjyG0T-y57U"
      },
      "outputs": [],
      "source": [
        "nombre <- \"   Pepito Pérez  \""
      ]
    },
    {
      "cell_type": "code",
      "execution_count": null,
      "metadata": {
        "id": "0CWbHwwPz_GV"
      },
      "outputs": [],
      "source": [
        "trimws(nombre, which=\"left\")"
      ]
    },
    {
      "cell_type": "code",
      "execution_count": null,
      "metadata": {
        "id": "Me7xdaGJ0MVe"
      },
      "outputs": [],
      "source": [
        "trimws(nombre, which=\"right\")"
      ]
    },
    {
      "cell_type": "code",
      "execution_count": null,
      "metadata": {
        "id": "ZZ4kDCM70Pqy"
      },
      "outputs": [],
      "source": [
        "trimws(nombre)"
      ]
    },
    {
      "cell_type": "markdown",
      "metadata": {
        "id": "InFu6JKkDZF9"
      },
      "source": [
        "## Remplazar una subcadena dentro de una cadena de caracteres"
      ]
    },
    {
      "cell_type": "markdown",
      "metadata": {
        "id": "GnAb8hFRmKu8"
      },
      "source": [
        "A continuación, se muestra el método que permiten remplazar subcadenas de caracteres."
      ]
    },
    {
      "cell_type": "code",
      "execution_count": null,
      "metadata": {
        "id": "PBgVPzqnDW18"
      },
      "outputs": [],
      "source": [
        "ej1 <- 'Rafael Núñez  '"
      ]
    },
    {
      "cell_type": "code",
      "execution_count": null,
      "metadata": {
        "id": "QImIdpmwDuz_"
      },
      "outputs": [],
      "source": [
        "gsub('ñ','ny', ej1)"
      ]
    },
    {
      "cell_type": "code",
      "execution_count": null,
      "metadata": {
        "id": "BIAYsAEHD7R3"
      },
      "outputs": [],
      "source": [
        "gsub('ñ','ny', gsub('ú','u', tolower(trimws(ej1))) )"
      ]
    },
    {
      "cell_type": "markdown",
      "metadata": {
        "id": "eeo74HTX3Fpk"
      },
      "source": [
        "# 3. Operadores aritméticos y de strings"
      ]
    },
    {
      "cell_type": "markdown",
      "metadata": {
        "id": "jXTYF4bCOBjB"
      },
      "source": [
        "Los operadores permiten realizar acciones con valores.\n",
        "\n",
        "* Aritméticos: suma (+), resta (-), multiplicación (*), división (/), etc.\n",
        "* En cadenas: no existen como en Python\n",
        "\n",
        "Por favor ejecutar las siguientes celdas y descomentar para ejecutar aquellas que estén comentadas para revisar los resultados."
      ]
    },
    {
      "cell_type": "markdown",
      "metadata": {
        "id": "XXXcT4OfaKUA"
      },
      "source": [
        "Por favor consultar en paralelo las notas de clase para comprender los resultados de las operaciones realizadas a continuacion."
      ]
    },
    {
      "cell_type": "code",
      "execution_count": null,
      "metadata": {
        "id": "XGSmicp59JVc"
      },
      "outputs": [],
      "source": [
        "ls()"
      ]
    },
    {
      "cell_type": "code",
      "execution_count": null,
      "metadata": {
        "id": "XzyVe4iz3TxM"
      },
      "outputs": [],
      "source": [
        "rm(list=ls())"
      ]
    },
    {
      "cell_type": "code",
      "execution_count": null,
      "metadata": {
        "id": "lde8TZ_bB7vd"
      },
      "outputs": [],
      "source": [
        "16+3"
      ]
    },
    {
      "cell_type": "code",
      "execution_count": null,
      "metadata": {
        "id": "ke7JjPy_Gu11"
      },
      "outputs": [],
      "source": [
        "16-3"
      ]
    },
    {
      "cell_type": "code",
      "execution_count": null,
      "metadata": {
        "id": "gprAwA9_CEld"
      },
      "outputs": [],
      "source": [
        "16*3"
      ]
    },
    {
      "cell_type": "code",
      "execution_count": null,
      "metadata": {
        "id": "JORK-LH8G3xW"
      },
      "outputs": [],
      "source": [
        "16**3"
      ]
    },
    {
      "cell_type": "code",
      "execution_count": null,
      "metadata": {
        "id": "OrIwgwCzCGkE"
      },
      "outputs": [],
      "source": [
        "16/3"
      ]
    },
    {
      "cell_type": "code",
      "execution_count": null,
      "metadata": {
        "id": "B9RSk9eJGy6-"
      },
      "outputs": [],
      "source": [
        "16/0"
      ]
    },
    {
      "cell_type": "code",
      "execution_count": null,
      "metadata": {
        "id": "udBWMME-CLaV"
      },
      "outputs": [],
      "source": [
        "16 %/% 3"
      ]
    },
    {
      "cell_type": "code",
      "execution_count": null,
      "metadata": {
        "id": "csoRhyDQCVN3"
      },
      "outputs": [],
      "source": [
        "16%%3"
      ]
    },
    {
      "cell_type": "code",
      "execution_count": null,
      "metadata": {
        "id": "nL1Dxw9JG-Wv"
      },
      "outputs": [],
      "source": [
        "16%/%0"
      ]
    },
    {
      "cell_type": "code",
      "execution_count": null,
      "metadata": {
        "id": "44NUjFFrHBp2"
      },
      "outputs": [],
      "source": [
        "16%%0"
      ]
    },
    {
      "cell_type": "code",
      "execution_count": null,
      "metadata": {
        "id": "VVuifLi69UU9"
      },
      "outputs": [],
      "source": [
        "num <- \"2\"\n",
        "#num + num"
      ]
    },
    {
      "cell_type": "code",
      "execution_count": null,
      "metadata": {
        "id": "zv8oj4769sBU"
      },
      "outputs": [],
      "source": [
        "#\"3\" + 3"
      ]
    },
    {
      "cell_type": "code",
      "execution_count": null,
      "metadata": {
        "id": "YkhmCgkL9hJM"
      },
      "outputs": [],
      "source": [
        "num = \"12\"\n",
        "#num * 3\n",
        "paste(replicate(3, \"12\"), collapse = \"\")"
      ]
    },
    {
      "cell_type": "code",
      "execution_count": null,
      "metadata": {
        "id": "zTYi3Iz09nVt"
      },
      "outputs": [],
      "source": [
        "#\"12\" * \"3\""
      ]
    },
    {
      "cell_type": "code",
      "execution_count": null,
      "metadata": {
        "id": "eJG0jV-A9y6V"
      },
      "outputs": [],
      "source": [
        "definir_numeric <- 12.9"
      ]
    },
    {
      "cell_type": "code",
      "execution_count": null,
      "metadata": {
        "id": "jArWUc3t98qE"
      },
      "outputs": [],
      "source": [
        "class(definir_numeric)"
      ]
    },
    {
      "cell_type": "code",
      "execution_count": null,
      "metadata": {
        "id": "JMU8ReAI9_T1"
      },
      "outputs": [],
      "source": [
        "class(definir_numeric)"
      ]
    },
    {
      "cell_type": "code",
      "execution_count": null,
      "metadata": {
        "id": "B3e7C9po-I5F"
      },
      "outputs": [],
      "source": [
        "as.numeric(\"12.0\")"
      ]
    },
    {
      "cell_type": "code",
      "execution_count": null,
      "metadata": {
        "id": "c-VOwn1R-QLc"
      },
      "outputs": [],
      "source": [
        "num_funcionarios <- 1398483"
      ]
    },
    {
      "cell_type": "code",
      "execution_count": null,
      "metadata": {
        "id": "_o5GPmjt_x_d"
      },
      "outputs": [],
      "source": [
        "enunciado <- paste0('Según datos oficiales de 2025 de Función Pública, hay aproximadamente ', num_funcionarios, ' servidores públicos en Colombia.')"
      ]
    },
    {
      "cell_type": "code",
      "execution_count": null,
      "metadata": {
        "id": "-Cg5JNms_2Ls"
      },
      "outputs": [],
      "source": [
        "enunciado"
      ]
    },
    {
      "cell_type": "code",
      "execution_count": null,
      "metadata": {
        "id": "wAh8Q0DTAOzl"
      },
      "outputs": [],
      "source": [
        "num_formato <- format(num_funcionarios, big.mark = \",\")\n",
        "enunciado <- paste0('Según datos oficiales de 2025 de Función Pública, hay aproximadamente ', num_formato, ' servidores públicos en Colombia.')"
      ]
    },
    {
      "cell_type": "code",
      "execution_count": null,
      "metadata": {
        "id": "mnV7wkEDAYt9"
      },
      "outputs": [],
      "source": [
        "enunciado"
      ]
    },
    {
      "cell_type": "markdown",
      "metadata": {
        "id": "0KS57Eh_FCq1"
      },
      "source": [
        "# 4. Números"
      ]
    },
    {
      "cell_type": "markdown",
      "metadata": {
        "id": "GhV2mQUcQEAP"
      },
      "source": [
        "Python maneja diferentes tipos numéricos:\n",
        "\n",
        "* Enteros (int)\n",
        "* Decimales (float)\n",
        "* Complejos (complex) [*no se abarca esta parte*]\n",
        "\n",
        "Con ellos podemos realizar cálculos y operaciones matemáticas básicas.\n",
        "\n",
        "Por favor ejecutar las siguientes celdas para revisar los resultados."
      ]
    },
    {
      "cell_type": "markdown",
      "metadata": {
        "id": "_Az3u2_-aIen"
      },
      "source": [
        "Por favor consultar en paralelo las notas de clase para comprender los resultados de las operaciones realizadas a continuacion."
      ]
    },
    {
      "cell_type": "code",
      "execution_count": null,
      "metadata": {
        "id": "s0tFwFvUFMJG"
      },
      "outputs": [],
      "source": [
        "1000000"
      ]
    },
    {
      "cell_type": "code",
      "execution_count": null,
      "metadata": {
        "id": "kXZwgcegFRS3"
      },
      "outputs": [],
      "source": [
        "1e6"
      ]
    },
    {
      "cell_type": "code",
      "execution_count": null,
      "metadata": {
        "id": "WpRrSKwPGSNG"
      },
      "outputs": [],
      "source": [
        "class(1e6)"
      ]
    },
    {
      "cell_type": "code",
      "execution_count": null,
      "metadata": {
        "id": "3AfM4hXaFYm3"
      },
      "outputs": [],
      "source": [
        "print(3e-7)"
      ]
    },
    {
      "cell_type": "code",
      "execution_count": null,
      "metadata": {
        "id": "hU7g9KKCFrQ1"
      },
      "outputs": [],
      "source": [
        "sprintf(3e-4, fmt = '%#.6f')"
      ]
    },
    {
      "cell_type": "code",
      "execution_count": null,
      "metadata": {
        "id": "4_EMTagIJtBf"
      },
      "outputs": [],
      "source": [
        "ratio = 0.9\n",
        "paste0( sprintf(ratio*100, fmt = '%#.1f'), \"%\" )"
      ]
    },
    {
      "cell_type": "code",
      "execution_count": null,
      "metadata": {
        "id": "_CAfJGE-F8mu"
      },
      "outputs": [],
      "source": [
        "2e400"
      ]
    },
    {
      "cell_type": "code",
      "execution_count": null,
      "metadata": {
        "id": "-7xt88LcGIJ_"
      },
      "outputs": [],
      "source": [
        "-2e400"
      ]
    },
    {
      "cell_type": "code",
      "execution_count": null,
      "metadata": {
        "id": "RzJIDtrwGQSn"
      },
      "outputs": [],
      "source": [
        "class(-2e400)"
      ]
    },
    {
      "cell_type": "code",
      "execution_count": null,
      "metadata": {
        "id": "5Ig_z_DuHVd_"
      },
      "outputs": [],
      "source": [
        "2*3 - 1"
      ]
    },
    {
      "cell_type": "code",
      "execution_count": null,
      "metadata": {
        "id": "Kp1O4l2DHbL2"
      },
      "outputs": [],
      "source": [
        "-1 + (-3*2 + 4)"
      ]
    },
    {
      "cell_type": "code",
      "execution_count": null,
      "metadata": {
        "id": "Ta3W-tptHZhX"
      },
      "outputs": [],
      "source": [
        "4/2 + 2**3"
      ]
    },
    {
      "cell_type": "code",
      "execution_count": null,
      "metadata": {
        "id": "PgS148OpHmYH"
      },
      "outputs": [],
      "source": [
        "0.1 + 0.2"
      ]
    },
    {
      "cell_type": "markdown",
      "metadata": {
        "id": "MFCBpGV4IjSf"
      },
      "source": [
        "## Funciones y métodos"
      ]
    },
    {
      "cell_type": "markdown",
      "metadata": {
        "id": "NT4_JhkgSsWf"
      },
      "source": [
        "Por favor ejecutar las siguientes celdas para revisar los resultados."
      ]
    },
    {
      "cell_type": "code",
      "execution_count": null,
      "metadata": {
        "id": "nVMn1G08IiUf"
      },
      "outputs": [],
      "source": [
        "round(2.34)"
      ]
    },
    {
      "cell_type": "code",
      "execution_count": null,
      "metadata": {
        "id": "ZkJyeRy0IqXn"
      },
      "outputs": [],
      "source": [
        "round(2.34, 1)"
      ]
    },
    {
      "cell_type": "code",
      "execution_count": null,
      "metadata": {
        "id": "MI86utMlIu9_"
      },
      "outputs": [],
      "source": [
        "round(2.7)"
      ]
    },
    {
      "cell_type": "code",
      "execution_count": null,
      "metadata": {
        "id": "XqBoJRz7Izi3"
      },
      "outputs": [],
      "source": [
        "round(3.5)"
      ]
    },
    {
      "cell_type": "code",
      "execution_count": null,
      "metadata": {
        "id": "ZHv16yLlI7Cl"
      },
      "outputs": [],
      "source": [
        "abs(5)"
      ]
    },
    {
      "cell_type": "code",
      "execution_count": null,
      "metadata": {
        "id": "4tMm1o1FI6N3"
      },
      "outputs": [],
      "source": [
        "abs(-5.0)"
      ]
    },
    {
      "cell_type": "code",
      "execution_count": null,
      "metadata": {
        "id": "iiOuGTegJAL5"
      },
      "outputs": [],
      "source": [
        "2**(-2)"
      ]
    },
    {
      "cell_type": "code",
      "execution_count": null,
      "metadata": {
        "id": "YKomZJGLJHuH"
      },
      "outputs": [],
      "source": [
        "2**3.5"
      ]
    },
    {
      "cell_type": "code",
      "execution_count": null,
      "metadata": {
        "id": "aFiPgaD1JNtX"
      },
      "outputs": [],
      "source": [
        "2^3.5"
      ]
    },
    {
      "cell_type": "markdown",
      "metadata": {
        "id": "lawLD_Fas5SI"
      },
      "source": [
        "# 5. Factores, arreglos, Data Frames y Listas"
      ]
    },
    {
      "cell_type": "markdown",
      "metadata": {
        "id": "qAjyThvXam8_"
      },
      "source": [
        "Por favor consultar en paralelo las notas de clase para comprender los resultados de las operaciones realizadas a continuacion."
      ]
    },
    {
      "cell_type": "markdown",
      "metadata": {
        "id": "GxkhybeXRwYf"
      },
      "source": [
        "## Factores"
      ]
    },
    {
      "cell_type": "code",
      "execution_count": null,
      "metadata": {
        "id": "KBW_A-W3RHnH"
      },
      "outputs": [],
      "source": [
        "credit_rating <- c(\"AAA\", \"AA\", \"A\", \"BBB\", \"AA\", \"BBB\", \"A\")\n",
        "\n",
        "credit_factor_ordered <- factor(credit_rating, ordered = TRUE, levels = c(\"AAA\", \"AA\", \"A\", \"BBB\"))\n",
        "\n",
        "credit_factor_ordered"
      ]
    },
    {
      "cell_type": "markdown",
      "metadata": {
        "id": "vb73lJ2XRykA"
      },
      "source": [
        "## Arreglos"
      ]
    },
    {
      "cell_type": "code",
      "execution_count": null,
      "metadata": {
        "id": "NlcmQy6iRkxP"
      },
      "outputs": [],
      "source": [
        "numeros1 <- c(1, 2, 3, 4, 5)\n",
        "colores <- c(\"rojo\", \"verde\", \"azul\")\n",
        "\n",
        "numeros1"
      ]
    },
    {
      "cell_type": "code",
      "execution_count": null,
      "metadata": {
        "id": "2GgtBvgnR21O"
      },
      "outputs": [],
      "source": [
        "numeros1 + 20"
      ]
    },
    {
      "cell_type": "code",
      "execution_count": null,
      "metadata": {
        "id": "ULS_SqZeR4T2"
      },
      "outputs": [],
      "source": [
        "numeros1 * 20"
      ]
    },
    {
      "cell_type": "code",
      "execution_count": null,
      "metadata": {
        "id": "2PT24tTvRuK_"
      },
      "outputs": [],
      "source": [
        "numeros1 + numeros1"
      ]
    },
    {
      "cell_type": "code",
      "execution_count": null,
      "metadata": {
        "id": "eAiCPsmTR0wg"
      },
      "outputs": [],
      "source": [
        "numeros1 * numeros1"
      ]
    },
    {
      "cell_type": "code",
      "execution_count": null,
      "metadata": {
        "id": "kGhRzWn3SFpP"
      },
      "outputs": [],
      "source": [
        "a <- array(1:12, dim = c(2, 6))\n",
        "a"
      ]
    },
    {
      "cell_type": "code",
      "execution_count": null,
      "metadata": {
        "id": "TrmKyfvbTISZ"
      },
      "outputs": [],
      "source": [
        "b <- matrix(1:12, nrow = 2, ncol = 6)\n",
        "b"
      ]
    },
    {
      "cell_type": "code",
      "execution_count": null,
      "metadata": {
        "id": "bsefq_sTTUcI"
      },
      "outputs": [],
      "source": [
        "a+b"
      ]
    },
    {
      "cell_type": "code",
      "execution_count": null,
      "metadata": {
        "id": "LDrG0zAzS4EX"
      },
      "outputs": [],
      "source": [
        "dim(a)"
      ]
    },
    {
      "cell_type": "code",
      "execution_count": null,
      "metadata": {
        "id": "ldv8fPAySwOf"
      },
      "outputs": [],
      "source": [
        "numeros2 <- array(c(5,4,3,2,1), dim=c(5))\n",
        "numeros2"
      ]
    },
    {
      "cell_type": "code",
      "execution_count": null,
      "metadata": {
        "id": "idL6gOP7S6LI"
      },
      "outputs": [],
      "source": [
        "dim(numeros2)"
      ]
    },
    {
      "cell_type": "code",
      "execution_count": null,
      "metadata": {
        "id": "MK6-NqPbTf-3"
      },
      "outputs": [],
      "source": [
        "numeros1 + numeros2"
      ]
    },
    {
      "cell_type": "markdown",
      "metadata": {
        "id": "slHdtrd4Se9I"
      },
      "source": [
        "## Data frames"
      ]
    },
    {
      "cell_type": "code",
      "execution_count": null,
      "metadata": {
        "id": "z_-0FJbNSeR3"
      },
      "outputs": [],
      "source": [
        "df <- data.frame(\n",
        "  nombre = c(\"Ana\", \"Luis\", \"María\"),\n",
        "  edad = c(23, 35, 29),\n",
        "  estudiante = c(TRUE, FALSE, TRUE)\n",
        ")"
      ]
    },
    {
      "cell_type": "code",
      "execution_count": null,
      "metadata": {
        "id": "S1VaZvM2Sh4P"
      },
      "outputs": [],
      "source": [
        "df"
      ]
    },
    {
      "cell_type": "markdown",
      "metadata": {
        "id": "QFS1HcOHT3VA"
      },
      "source": [
        "## Listas"
      ]
    },
    {
      "cell_type": "code",
      "execution_count": null,
      "metadata": {
        "id": "U_1Qt67zT5iI"
      },
      "outputs": [],
      "source": [
        "mi_lista <- list(\n",
        "  numeros = c(1, 2, 3),\n",
        "  texto = \"R es poderoso\",\n",
        "  tabla = df\n",
        ")"
      ]
    },
    {
      "cell_type": "code",
      "execution_count": null,
      "metadata": {
        "id": "CSQphuikT7cn"
      },
      "outputs": [],
      "source": [
        "mi_lista"
      ]
    },
    {
      "cell_type": "code",
      "execution_count": null,
      "metadata": {
        "id": "mIZn5IzXT9P4"
      },
      "outputs": [],
      "source": [
        "mi_lista$texto"
      ]
    },
    {
      "cell_type": "code",
      "execution_count": null,
      "metadata": {
        "id": "SkUg94PrT_gU"
      },
      "outputs": [],
      "source": [
        "mi_lista$tabla$edad"
      ]
    }
  ],
  "metadata": {
    "colab": {
      "collapsed_sections": [
        "Tli3svIQ0wRt",
        "kqXE42FNXGQq",
        "oVeUkWE20l47",
        "IyEGt5Il7pOF",
        "aRxScJ07hEIr",
        "Z96popLDpI5N",
        "es4vF6VvhL6U",
        "qbEtuuNQgvbX",
        "dApSRDPug4n7",
        "8eW-iDCzXJm_",
        "oxM01LTVqf-X",
        "9jh0wdfZyvfb",
        "InFu6JKkDZF9",
        "eeo74HTX3Fpk",
        "0KS57Eh_FCq1",
        "lawLD_Fas5SI"
      ],
      "provenance": [],
      "authorship_tag": "ABX9TyM8IMrw7h/IuAeLA1nQcDOA",
      "include_colab_link": true
    },
    "kernelspec": {
      "display_name": "R",
      "name": "ir"
    },
    "language_info": {
      "name": "R"
    }
  },
  "nbformat": 4,
  "nbformat_minor": 0
}