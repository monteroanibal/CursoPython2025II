{
 "cells": [
  {
   "cell_type": "markdown",
   "metadata": {},
   "source": [
    "# Manipulación de datos con numpy\n",
    "\n",
    "**Arrays, operaciones, Exploracion de datos, Analítica de datos.**"
   ]
  },
  {
   "cell_type": "markdown",
   "metadata": {},
   "source": [
    "```{image} Imagenes/fragmentation.png\n",
    ":width: 175px\n",
    ":align: center\n",
    ":alt: numpy\n",
    "```\n",
    "<p style=\"text-align: center; font-size: 8px;\">\n",
    "    <a href=\"https://www.flaticon.com/free-icons/fragmentation\" title=\"fragmentation icons\">Fragmentation icons created by Karyative - Flaticon</a>\n",
    "</p>"
   ]
  },
  {
   "cell_type": "markdown",
   "metadata": {},
   "source": [
    "## Análisis del Problema"
   ]
  },
  {
   "cell_type": "markdown",
   "metadata": {},
   "source": [
    "NumPy es una librería fundamental sobre la que se construye el ecosistema científico de Python. NumPy (Numerical Python) es una de las bibliotecas más uitilizadas del ecosistema de Python para trabajar con datos numéricos. Proporciona una estructura de datos central llamada array multidimensional (ndarray), que permite almacenar y manipular arreglos datos mediante sus funcionalidades diversas. Esta estructura de datos permite:\n",
    "\n",
    " -  Almacenar datos de manera eficiente: Los arrays de NumPy son homogéneos (todos los elementos son del mismo tipo) y se almacenan en bloques contiguos de memoria, lo que permite un acceso y una manipulación ultrarrápidos.\n",
    " -  Realizar operaciones vectorizadas: En lugar de escribir bucles for para procesar cada elemento uno por uno (lo cual es lento), NumPy nos permite aplicar operaciones matemáticas a arrays completos de una sola vez. Esta vectorización no solo hace que el código sea más conciso y legible, sino que se ejecuta a velocidades de *C*/*Fortran* gracias a su núcleo optimizado.\n",
    " -  Servir como cimiento para otras librerías: NumPy es la piedra angular sobre la que se construyen pilares del *data science* como Pandas (para análisis y manipulación de datos tabulares), SciPy (para algoritmos científicos y matemáticos), Scikit-learn (para machine learning) y Matplotlib (para visualización). Dominar NumPy es, por tanto, esencial para aprovechar al máximo todo el potencial de estas herramientas.\n",
    "\n",
    "A diferencia de las listas nativas de Python, los arreglos de NumPy están optimizados para operaciones vectorizadas y matriciales, lo que significa que pueden realizar cálculos complejos sobre conjuntos de datos completos sin necesidad de bucles explícitos. Esto no solo mejora el rendimiento, sino que también simplifica el código.\n",
    "\n",
    "Además de sus eficientes estructuras de datos, NumPy incluye un amplio conjunto de funciones matemáticas, estadísticas y de álgebra lineal, lo que lo convierte en una herramienta esencial para tareas como el preprocesamiento de datos, la transformación de formatos, el análisis exploratorio y la preparación de datos para modelos de machine learning.\n",
    "\n",
    "A lo largo de este material, exploraremos lo puntos mencionados en la lista de objetivos a continuación."
   ]
  },
  {
   "cell_type": "markdown",
   "metadata": {},
   "source": [
    "```{image} Imagenes/array.png\n",
    ":width: 175px\n",
    ":align: center\n",
    ":alt: numpy\n",
    "```\n",
    "<p style=\"text-align: center; font-size: 8px;\">\n",
    "    <a href=\"https://www.flaticon.com/free-icons/fragment\" title=\"fragment icons\">Fragment icons created by kerismaker - Flaticon</a>\n",
    "</p>"
   ]
  },
  {
   "cell_type": "markdown",
   "metadata": {},
   "source": [
    "```{admonition} Objetivos de la sesión\n",
    ":class: tip\n",
    " -  Conocer algunas formas de declaración y exploración de arrays\n",
    " -  Aplicar métodos y operaciones dentro de arrays\n",
    " -  Aplicar operaciones entre arrays\n",
    "```"
   ]
  },
  {
   "cell_type": "markdown",
   "metadata": {},
   "source": [
    "```{admonition} Actividad \n",
    ":class: important\n",
    "Abrir el enlace al recurso de esta sesión y ejecutarlo en Google Colab de acuerdo a las indicaciones del profesor.\n",
    "```"
   ]
  },
  {
   "cell_type": "markdown",
   "metadata": {},
   "source": [
    "```{admonition} Recursos\n",
    ":class: nota\n",
    "- Notebook en Python: [Enlace a GitHub](https://github.com/monteroanibal/CursoPython2025II/blob/main/notebooks/CP2025II_Sesion3_Python.ipynb)\n",
    "```"
   ]
  },
  {
   "cell_type": "markdown",
   "metadata": {},
   "source": [
    "## Formas de declaración y exploración de arrays\n",
    "\n",
    "A continuación, se mencionan las maneras de crear arrays desde sentencias de código o importando un archivo ráster."
   ]
  },
  {
   "cell_type": "markdown",
   "metadata": {},
   "source": [
    "### Creación de arrays\n",
    "\n",
    "NumPy ofrece varias formas de declarar y crear arrays (**ndarray**), según el tipo de datos que necesitemos y el contexto del procesamiento. A continuación se presentan las principales:\n",
    "\n",
    "* **A partir de listas o secuencias de Python**: La forma más directa es convertir listas o tuplas en arrays usando `numpy.array()`."
   ]
  },
  {
   "cell_type": "code",
   "execution_count": null,
   "metadata": {},
   "outputs": [],
   "source": [
    "import numpy as np\n",
    "\n",
    "# A partir de una lista\n",
    "arr1 = np.array([1, 2, 3, 4])\n",
    "\n",
    "# A partir de una lista de listas (matriz 2D)\n",
    "arr2 = np.array([[1, 2, 3], [4, 5, 6]])"
   ]
  },
  {
   "cell_type": "markdown",
   "metadata": {},
   "source": [
    "* **Arrays de ceros, unos o valores constantes**: Cuando se requiere inicializar un array con valores predeterminados:"
   ]
  },
  {
   "cell_type": "code",
   "execution_count": null,
   "metadata": {},
   "outputs": [],
   "source": [
    "# Array de ceros\n",
    "zeros = np.zeros((3, 4))  # 3 filas, 4 columnas\n",
    "\n",
    "# Array de unos\n",
    "ones = np.ones((2, 5))    # 2 filas, 5 columnas\n",
    "\n",
    "# Array con un valor constante\n",
    "full = np.full((3, 3), 7) # Matriz 3x3 llena de sietes"
   ]
  },
  {
   "cell_type": "markdown",
   "metadata": {},
   "source": [
    "* **Secuencias numéricas**: NumPy facilita la creación de rangos o secuencias numéricas:"
   ]
  },
  {
   "cell_type": "code",
   "execution_count": null,
   "metadata": {},
   "outputs": [],
   "source": [
    "# Secuencia de números enteros\n",
    "rango = np.arange(0, 10, 2)  # De 0 a 8, paso 2\n",
    "\n",
    "# Secuencia con número fijo de puntos\n",
    "lin = np.linspace(0, 1, 5)   # 5 valores entre 0 y 1 (inclusive)"
   ]
  },
  {
   "cell_type": "markdown",
   "metadata": {},
   "source": [
    "* **Arrays aleatorios**: Útiles para simulaciones, inicialización de modelos o pruebas:"
   ]
  },
  {
   "cell_type": "code",
   "execution_count": null,
   "metadata": {},
   "outputs": [],
   "source": [
    "# Valores aleatorios uniformes entre 0 y 1\n",
    "rand = np.random.rand(3, 3)\n",
    "\n",
    "# Enteros aleatorios entre 0 y 9\n",
    "randint = np.random.randint(0, 10, (2, 4))\n",
    "\n",
    "# Distribución normal\n",
    "normal = np.random.randn(5)"
   ]
  },
  {
   "cell_type": "markdown",
   "metadata": {},
   "source": [
    "* **Arrays identidad y diagonales**: Para operaciones de álgebra lineal:"
   ]
  },
  {
   "cell_type": "code",
   "execution_count": null,
   "metadata": {},
   "outputs": [],
   "source": [
    "# Matriz identidad 4x4\n",
    "identity = np.eye(4)\n",
    "\n",
    "# Matriz diagonal a partir de una lista\n",
    "diagonal = np.diag([1, 2, 3, 4])"
   ]
  },
  {
   "cell_type": "markdown",
   "metadata": {},
   "source": [
    "* **Creación a partir de formas de otros arrays**: Permite generar nuevos arrays con las mismas dimensiones que otro:"
   ]
  },
  {
   "cell_type": "code",
   "execution_count": null,
   "metadata": {},
   "outputs": [],
   "source": [
    "base = np.array([[1, 2], [3, 4]])\n",
    "\n",
    "# Array de ceros con misma forma que 'base'\n",
    "zeros_like = np.zeros_like(base)\n",
    "\n",
    "# Array de unos con misma forma que 'base'\n",
    "ones_like = np.ones_like(base)"
   ]
  },
  {
   "cell_type": "markdown",
   "metadata": {},
   "source": [
    "* **Reshape y creación desde buffers**: También es posible reorganizar datos existentes o usar buffers de memoria:"
   ]
  },
  {
   "cell_type": "code",
   "execution_count": null,
   "metadata": {},
   "outputs": [],
   "source": [
    "# Reorganizar un rango en forma de matriz\n",
    "arr = np.arange(12).reshape(3, 4)"
   ]
  },
  {
   "cell_type": "markdown",
   "metadata": {},
   "source": [
    "* **En resumen**: <br>\n",
    "*`array()`*: convierte listas/tuplas en arrays. <br>\n",
    "*`zeros()`, `ones()`, `full()`*: inicializan arrays con valores fijos.  <br>\n",
    "*`arange()`, `linspace()`*: generan secuencias numéricas.  <br>\n",
    "*`random`*: crea arrays con valores aleatorios. <br>\n",
    "*`eye()`, `diag()`*: producen matrices identidad o diagonales.  <br>\n",
    "*`*_like()`*: imitan la forma de otro array.  <br>\n",
    "*`reshape()`*: reorganiza datos existentes."
   ]
  },
  {
   "cell_type": "markdown",
   "metadata": {},
   "source": [
    "### Datos deste un archivo ráster\n",
    "\n",
    "En análisis geoespacial, los archivos ráster (como GeoTIFF) contienen información en forma de celdas organizadas en filas y columnas, asociadas a una referencia espacial. La librería *rasterio* en Python permite la lectura, escritura y manipulación de datos ráster, integrándose con *NumPy* para el procesamiento de datos.\n",
    "\n",
    "* **Importar Rasterio y abrir un archivo ráster**: Para trabajar con un ráster, se utiliza un administrador de contexto (`with`) que garantiza el cierre seguro del archivo:"
   ]
  },
  {
   "cell_type": "code",
   "execution_count": null,
   "metadata": {},
   "outputs": [],
   "source": [
    "import rasterio\n",
    "\n",
    "# Abrir el archivo ráster\n",
    "ruta = \"ruta/al/archivo.tif\"\n",
    "with rasterio.open(ruta) as src:\n",
    "    print(src.name)       # Nombre del archivo\n",
    "    print(src.count)      # Número de bandas\n",
    "    print(src.crs)        # Sistema de referencia de coordenadas\n",
    "    print(src.transform)  # Transformación afín (ubicación espacial)"
   ]
  },
  {
   "cell_type": "markdown",
   "metadata": {},
   "source": [
    "* **Leer los datos en un array de NumPy**: Una vez abierto el archivo, puedes extraer sus bandas como arrays:"
   ]
  },
  {
   "cell_type": "code",
   "execution_count": null,
   "metadata": {},
   "outputs": [],
   "source": [
    "with rasterio.open(ruta) as src:\n",
    "    # Leer la primera banda (índice 1)\n",
    "    banda1 = src.read(1)  \n",
    "    print(banda1.shape)   # Dimensiones del array (filas, columnas)"
   ]
  },
  {
   "cell_type": "markdown",
   "metadata": {},
   "source": [
    "`src.read(1)` devuelve un *ndarray* de NumPy, lo que permite aplicar fácilmente operaciones numéricas o estadísticas. Si el ráster tiene varias bandas, puedes leerlas todas:"
   ]
  },
  {
   "cell_type": "code",
   "execution_count": null,
   "metadata": {},
   "outputs": [],
   "source": [
    "with rasterio.open(ruta) as src:\n",
    "    todas_bandas = src.read()  # Devuelve un array 3D: (bandas, filas, columnas)"
   ]
  },
  {
   "cell_type": "markdown",
   "metadata": {},
   "source": [
    "### Propiedades\n",
    "\n",
    "El método *shape* aplicado a una matriz devuelve una tupla con el tamaño de cada dimensión de la matriz:"
   ]
  },
  {
   "cell_type": "code",
   "execution_count": null,
   "metadata": {},
   "outputs": [],
   "source": [
    "a = np.array([[1, 2, 3], [4, 5, 6]], float)\n",
    "a.shape"
   ]
  },
  {
   "cell_type": "markdown",
   "metadata": {},
   "source": [
    "A continuación, se encuentra la explicación de las propiedades de un ráster: <br>\n",
    "\n",
    "`src.name`: Ruta del archivo ráster. <br>\n",
    "`src.mode`: Modo de apertura del archivo (p. ej., \"r\" para lectura). <br>\n",
    "`src.driver`: Controlador GDAL utilizado para abrir el archivo (p. ej., \"GTiff\"). <br>\n",
    "`src.width`: Número de columnas del ráster. <br>\n",
    "`src.height`: Número de filas del ráster. <br>\n",
    "`src.count`: Número de bandas del ráster. <br>\n",
    "`src.dtypes`: Tupla que contiene el tipo de dato de cada banda (p. ej., \"uint8\", \"float32\"). <br>\n",
    "`src.nodatavals`: Tupla que contiene el valor \"NoData\" de cada banda. <br>\n",
    "`src.crs`: Sistema de Referencia de Coordenadas del ráster. <br>\n",
    "`src.transform`: Matriz de transformación afín que asigna las coordenadas de los píxeles a las coordenadas espaciales. <br>\n",
    "`src.bounds`: La extensión geográfica del ráster como un objeto BoundingBox. <br>\n",
    "`src.res`: Una tupla que representa la resolución x e y de los píxeles. <br>\n",
    "`src.meta`: Un diccionario que contiene todos los metadatos asociados al dataset ráster."
   ]
  },
  {
   "cell_type": "markdown",
   "metadata": {},
   "source": [
    "```{image} Imagenes/design.png\n",
    ":width: 175px\n",
    ":align: center\n",
    ":alt: numpy\n",
    "```\n",
    "<p style=\"text-align: center; font-size: 8px;\">\n",
    "    <a href=\"https://www.flaticon.com/free-icons/pixel\" title=\"pixel icons\">Pixel icons created by Xinh Studio - Flaticon</a>\n",
    "</p>"
   ]
  },
  {
   "cell_type": "markdown",
   "metadata": {},
   "source": [
    "## Métodos y funciones aplicables dentro de los arrays\n",
    "\n",
    "A continuación, se abarca la explicación de los métodos y funciones más comunes aplicables a un array."
   ]
  },
  {
   "cell_type": "markdown",
   "metadata": {},
   "source": [
    "### Indexación\n",
    "\n",
    "La indexación permite acceder, seleccionar o modificar elementos específicos de un array. NumPy amplía las capacidades de las listas de Python, permitiendo indexación avanzada y eficiente tanto en arreglos unidimensionales como bidimensionales.\n",
    "\n",
    "* **En arreglos unidimensionales**: Un arreglo unidimensional es similar a una lista:"
   ]
  },
  {
   "cell_type": "code",
   "execution_count": null,
   "metadata": {},
   "outputs": [],
   "source": [
    "import numpy as np\n",
    "\n",
    "# Crear un array 1D\n",
    "arr = np.array([10, 20, 30, 40, 50])"
   ]
  },
  {
   "cell_type": "markdown",
   "metadata": {},
   "source": [
    "Acceso por índice: los índices empiezan en `0`."
   ]
  },
  {
   "cell_type": "code",
   "execution_count": null,
   "metadata": {},
   "outputs": [],
   "source": [
    "print(arr[0])  # 10 (primer elemento)\n",
    "print(arr[3])  # 40 (cuarto elemento)"
   ]
  },
  {
   "cell_type": "markdown",
   "metadata": {},
   "source": [
    "Indexación negativa: permite contar desde el final."
   ]
  },
  {
   "cell_type": "code",
   "execution_count": null,
   "metadata": {},
   "outputs": [],
   "source": [
    "print(arr[-1])  # 50 (último elemento)\n",
    "print(arr[-3])  # 30 (tercer elemento desde el final)"
   ]
  },
  {
   "cell_type": "markdown",
   "metadata": {},
   "source": [
    "Rebanado (slicing): accede a rangos de valores:"
   ]
  },
  {
   "cell_type": "code",
   "execution_count": null,
   "metadata": {},
   "outputs": [],
   "source": [
    "print(arr[1:4])  # [20 30 40] (del índice 1 al 3)\n",
    "print(arr[:3])   # [10 20 30] (del inicio al índice 2)\n",
    "print(arr[2:])   # [30 40 50] (desde índice 2 al final)"
   ]
  },
  {
   "cell_type": "markdown",
   "metadata": {},
   "source": [
    "Saltos en el slicing:"
   ]
  },
  {
   "cell_type": "code",
   "execution_count": null,
   "metadata": {},
   "outputs": [],
   "source": [
    "print(arr[::2])  # [10 30 50] (paso de 2 en 2)"
   ]
  },
  {
   "cell_type": "markdown",
   "metadata": {},
   "source": [
    "* **En arreglos bidimensionales**: Un arreglo bidimensional puede verse como una *matriz (filas y columnas)*:"
   ]
  },
  {
   "cell_type": "code",
   "execution_count": null,
   "metadata": {},
   "outputs": [],
   "source": [
    "mat = np.array([\n",
    "    [1, 2, 3],\n",
    "    [4, 5, 6],\n",
    "    [7, 8, 9]\n",
    "])"
   ]
  },
  {
   "cell_type": "markdown",
   "metadata": {},
   "source": [
    "Acceso por fila y columna: se usa la forma `[fila, columna]`:"
   ]
  },
  {
   "cell_type": "code",
   "execution_count": null,
   "metadata": {},
   "outputs": [],
   "source": [
    "print(mat[0, 2])  # 3 (fila 0, columna 2)\n",
    "print(mat[2, 1])  # 8 (fila 2, columna 1)"
   ]
  },
  {
   "cell_type": "markdown",
   "metadata": {},
   "source": [
    "Acceso a filas o columnas completas: `:` significa \"todos los elementos\" en esa dimensión."
   ]
  },
  {
   "cell_type": "code",
   "execution_count": null,
   "metadata": {},
   "outputs": [],
   "source": [
    "print(mat[1])     # [4 5 6] (fila completa)\n",
    "print(mat[:, 0])  # [1 4 7] (columna completa)"
   ]
  },
  {
   "cell_type": "markdown",
   "metadata": {},
   "source": [
    "Rebanado en 2D: Selección de submatrices (Filas de la 0 a la 1 y columnas de la 1 a la 2.):"
   ]
  },
  {
   "cell_type": "code",
   "execution_count": null,
   "metadata": {},
   "outputs": [],
   "source": [
    "print(mat[0:2, 1:3])\n",
    "# Resultado:\n",
    "# [[2 3]\n",
    "#  [5 6]]"
   ]
  },
  {
   "cell_type": "markdown",
   "metadata": {},
   "source": [
    "### Redimensionamiento (reshape)\n",
    "\n",
    "El redimensionamiento cambia la forma (número de filas y columnas) de un array sin alterar sus datos. Es requerido que el número total de elementos debe mantenerse constante."
   ]
  },
  {
   "cell_type": "code",
   "execution_count": null,
   "metadata": {},
   "outputs": [],
   "source": [
    "import numpy as np\n",
    "\n",
    "arr = np.arange(12)  # [0,1,2,...,11]\n",
    "\n",
    "# Redimensionar a una matriz de 3 filas x 4 columnas\n",
    "mat = arr.reshape(3, 4)\n",
    "print(mat)\n",
    "# Resultado:\n",
    "# [[ 0  1  2  3]\n",
    "#  [ 4  5  6  7]\n",
    "#  [ 8  9 10 11]]\n",
    "\n",
    "# Uso de -1 para calcular automáticamente una dimensión\n",
    "mat2 = arr.reshape(2, -1)  # 2 filas, calcula columnas\n",
    "print(mat2)"
   ]
  },
  {
   "cell_type": "markdown",
   "metadata": {},
   "source": [
    "También es posible “aplanar” un array:"
   ]
  },
  {
   "cell_type": "code",
   "execution_count": null,
   "metadata": {},
   "outputs": [],
   "source": [
    "flat = mat.flatten()  # Devuelve un array 1D"
   ]
  },
  {
   "cell_type": "markdown",
   "metadata": {},
   "source": [
    "### Concatenamiento de arrays\n",
    "\n",
    "Permite unir varios arrays en una sola estructura.\n",
    "* **Concatenar unidimensionales**:"
   ]
  },
  {
   "cell_type": "code",
   "execution_count": null,
   "metadata": {},
   "outputs": [],
   "source": [
    "a = np.array([1, 2, 3])\n",
    "b = np.array([4, 5, 6])\n",
    "\n",
    "concat = np.concatenate((a, b))\n",
    "print(concat)  # [1 2 3 4 5 6]"
   ]
  },
  {
   "cell_type": "markdown",
   "metadata": {},
   "source": [
    "* **Concatenar matrices (bidimensionales)**:\n",
    "\n",
    "Por filas (`axis=0`) o por columnas (`axis=1`):"
   ]
  },
  {
   "cell_type": "code",
   "execution_count": null,
   "metadata": {},
   "outputs": [],
   "source": [
    "m1 = np.array([[1, 2], [3, 4]])\n",
    "m2 = np.array([[5, 6], [7, 8]])\n",
    "\n",
    "# Por filas (agrega nuevas filas)\n",
    "por_filas = np.concatenate((m1, m2), axis=0)\n",
    "\n",
    "# Por columnas (agrega nuevas columnas)\n",
    "por_columnas = np.concatenate((m1, m2), axis=1)"
   ]
  },
  {
   "cell_type": "markdown",
   "metadata": {},
   "source": [
    "También existen funciones especializadas:\n",
    "\n",
    "* `np.vstack((a, b))` → apila verticalmente (filas).\n",
    "* `np.hstack((a, b))` → apila horizontalmente (columnas)."
   ]
  },
  {
   "cell_type": "markdown",
   "metadata": {},
   "source": [
    "### Copiado de arrays\n",
    "\n",
    "NumPy distingue entre *copias* y *vistas*.\n",
    "\n",
    "* **Asignación directa**: crea solo una referencia, no una copia real:"
   ]
  },
  {
   "cell_type": "code",
   "execution_count": null,
   "metadata": {},
   "outputs": [],
   "source": [
    "x = np.array([10, 20, 30])\n",
    "y = x          # y apunta al mismo objeto\n",
    "y[0] = 99\n",
    "print(x)       # [99 20 30] (cambió también x)"
   ]
  },
  {
   "cell_type": "markdown",
   "metadata": {},
   "source": [
    "* **Copia independiente** (modificaciones no afectan al original):"
   ]
  },
  {
   "cell_type": "code",
   "execution_count": null,
   "metadata": {},
   "outputs": [],
   "source": [
    "x = np.array([10, 20, 30])\n",
    "y = x.copy()   # Copia profunda\n",
    "y[0] = 99\n",
    "print(x)       # [10 20 30] (no cambió)\n",
    "print(y)       # [99 20 30]"
   ]
  },
  {
   "cell_type": "markdown",
   "metadata": {},
   "source": [
    "### Creación de listas desde arrays\n",
    "\n",
    "Para convertir un array de NumPy en una lista de Python estándar. Útil para exportar datos o trabajar con funciones que requieren listas nativas.:"
   ]
  },
  {
   "cell_type": "code",
   "execution_count": null,
   "metadata": {},
   "outputs": [],
   "source": [
    "arr = np.array([[1, 2, 3], [4, 5, 6]])\n",
    "\n",
    "lista = arr.tolist()\n",
    "print(lista)   # [[1, 2, 3], [4, 5, 6]]\n",
    "print(type(lista))  # <class 'list'>"
   ]
  },
  {
   "cell_type": "markdown",
   "metadata": {},
   "source": [
    "```{image} Imagenes/grid.png\n",
    ":width: 175px\n",
    ":align: center\n",
    ":alt: numpy\n",
    "```\n",
    "<p style=\"text-align: center; font-size: 8px;\">\n",
    "    <a href=\"https://www.flaticon.com/free-icons/array\" title=\"array icons\">Array icons created by meaicon - Flaticon</a>\n",
    "</p>"
   ]
  },
  {
   "cell_type": "markdown",
   "metadata": {},
   "source": [
    "## Operaciones dentro de los arrays\n",
    "\n",
    "Estas operaciones permiten realizar cálculos, transformaciones o extracciones directamente sobre los arrays, de modo vectorizado, aprovechando la eficiencia de NumPy. Aquí van algunas de las funciones/métodos más comunes, junto con su explicación, sintaxis, ejemplos y cuándo usarlos.\n",
    "\n",
    "### Métodos de agregación o reducción\n",
    "\n",
    "Estas funciones operan sobre uno o varios ejes del array, devolviendo un valor o un array con dimensiones reducidas:\n",
    "\n",
    "* `np.sum(arr, axis=…)`: Suma todos los elementos del array, o los de un eje específico."
   ]
  },
  {
   "cell_type": "code",
   "execution_count": null,
   "metadata": {},
   "outputs": [],
   "source": [
    "arr = np.array([[1,2,3],[4,5,6]])\n",
    "np.sum(arr)          # 21\n",
    "np.sum(arr, axis=0)  # array([5, 7, 9]) → suma por columnas\n",
    "np.sum(arr, axis=1)  # array([6, 15]) → suma por filas"
   ]
  },
  {
   "cell_type": "markdown",
   "metadata": {},
   "source": [
    "* `np.mean(arr, axis=…)`: Calcula el promedio (media aritmética). Funciona igual que `sum`, pero divide por el número de elementos.\n",
    "* `np.min(arr, axis=…)`, `np.max(arr, axis=…)`: Encuentra el valor mínimo o máximo. Útil para conocer rangos, extremos de datos.\n",
    "* `np.std(arr, axis=…)`, `np.var(arr, axis=…)`: Desviación estándar y varianza. Miden dispersión de los datos.\n",
    "* `np.argmin(arr)`, `np.argmax(arr)`: Devuelven el índice (o posición) del valor mínimo o máximo. En arrays multidimensionales puede usarse con un eje."
   ]
  },
  {
   "cell_type": "markdown",
   "metadata": {},
   "source": [
    "### Operaciones aritméticas vectorizadas\n",
    "\n",
    "Estas son operaciones que se aplican elemento a elemento sin necesidad de bucles explícitos:\n",
    "\n",
    "* Suma, resta, multiplicación, división: `arr1 + arr2`, `arr * scalar`, etc."
   ]
  },
  {
   "cell_type": "code",
   "execution_count": null,
   "metadata": {},
   "outputs": [],
   "source": [
    "a = np.array([1,2,3])\n",
    "b = np.array([10,20,30])\n",
    "c = a + b   # [11,22,33]\n",
    "d = a * 2   # [2,4,6]"
   ]
  },
  {
   "cell_type": "markdown",
   "metadata": {},
   "source": [
    "* Potencia: `arr ** 2`, `np.power(arr, exponent)`.\n",
    "\n",
    "* Funciones universales (ufuncs), por ejemplo `np.sin(arr)`, `np.log(arr)`, `np.exp(arr)` — aplican la función matemática a cada elemento."
   ]
  },
  {
   "cell_type": "markdown",
   "metadata": {},
   "source": [
    "### Comparaciones y máscaras\n",
    "\n",
    "Permiten generar condiciones, filtrar elementos, etc.:\n",
    "\n",
    "* Comparadores: `arr > value`, `arr == value`, etc. Devuelven un array booleano de la misma forma.\n",
    "* Uso de la máscara booleana para filtrar:"
   ]
  },
  {
   "cell_type": "code",
   "execution_count": null,
   "metadata": {},
   "outputs": [],
   "source": [
    "arr = np.array([1,5,10,3])\n",
    "mask = arr > 4         # [False, True, True, False]\n",
    "arr[mask]              # [5, 10]"
   ]
  },
  {
   "cell_type": "markdown",
   "metadata": {},
   "source": [
    "* Métodos como `np.where(condition, x, y)` para construir un nuevo array usando una condición.\n",
    "\n",
    "### Operaciones especiales sobre ejes\n",
    "\n",
    "Algunas funciones tienen parámetros para indicar sobre qué eje se operan:\n",
    "\n",
    "* `axis`: como en `sum`, `mean`, `max`, para operar filas o columnas en matrices.\n",
    "* `keepdims`: para mantener la dimensión reducida. Ejemplo:"
   ]
  },
  {
   "cell_type": "code",
   "execution_count": null,
   "metadata": {},
   "outputs": [],
   "source": [
    "arr = np.array([[1,2,3],[4,5,6]])\n",
    "s = np.sum(arr, axis=1, keepdims=True)\n",
    "# s tendrá forma (2,1) en lugar de (2,)"
   ]
  },
  {
   "cell_type": "markdown",
   "metadata": {},
   "source": [
    "### Otras funciones útiles\n",
    "\n",
    "* `np.unique(arr)` → obtiene los valores únicos en el array; útil para encontrar categorías.\n",
    "\n",
    "* `np.sort(arr)` y `arr.sort()` → ordenar los elementos.\n",
    "\n",
    "* `np.clip(arr, min_val, max_val)` → limita los valores del array a un rango dado (los que están por debajo se fijan al mínimo, por encima al máximo).\n",
    "\n",
    "* `np.round(arr, decimals=…)` → redondear los elementos a un número de decimales dado."
   ]
  },
  {
   "cell_type": "markdown",
   "metadata": {},
   "source": [
    "```{image} Imagenes/matrix.png\n",
    ":width: 175px\n",
    ":align: center\n",
    ":alt: numpy\n",
    "```\n",
    "<p style=\"text-align: center; font-size: 8px;\">\n",
    "    <a href=\"https://www.flaticon.com/free-icons/matrix\" title=\"matrix icons\">Matrix icons created by Freepik - Flaticon</a>\n",
    "</p>"
   ]
  },
  {
   "cell_type": "markdown",
   "metadata": {},
   "source": [
    "## Operaciones entre arrays\n",
    "\n",
    "Las operaciones entre arrays permiten combinar, comparar o manipular dos o más arrays simultáneamente. Estas operaciones se realizan de forma vectorizada, lo que significa que NumPy aplica operaciones elemento a elemento cuando es posible, lo que da eficiencia y expresividad. Aquí te explico las más habituales:\n",
    "\n",
    "### Operaciones aritméticas elemento a elemento\n",
    "\n",
    "Estas operaciones funcionan entre arrays del mismo tamaño (o compatibles mediante *broadcasting*).\n",
    "\n",
    "* **Suma (`+`)**: suma elemento por elemento."
   ]
  },
  {
   "cell_type": "code",
   "execution_count": null,
   "metadata": {},
   "outputs": [],
   "source": [
    "a = np.array([1, 2, 3])\n",
    "b = np.array([4, 5, 6])\n",
    "c = a + b  # array([5, 7, 9])"
   ]
  },
  {
   "cell_type": "markdown",
   "metadata": {},
   "source": [
    "* **Resta (`-`)**, **multiplicación (`*`)**, **división (`/`)**: igual que la suma pero con sus respectivos operadores."
   ]
  },
  {
   "cell_type": "code",
   "execution_count": null,
   "metadata": {},
   "outputs": [],
   "source": [
    "d = b - a   # array([3, 3, 3])\n",
    "e = a * b   # array([4, 10, 18])\n",
    "f = b / a   # array([4.0, 2.5, 2.0])"
   ]
  },
  {
   "cell_type": "markdown",
   "metadata": {},
   "source": [
    "* **Potencia (`**`)**, raíces, etc."
   ]
  },
  {
   "cell_type": "code",
   "execution_count": null,
   "metadata": {},
   "outputs": [],
   "source": [
    "g = a ** 2  # array([1, 4, 9])"
   ]
  },
  {
   "cell_type": "markdown",
   "metadata": {},
   "source": [
    "### Operaciones con *broadcasting*\n",
    "\n",
    "El *broadcasting* es el mecanismo que permite operar arrays de diferentes formas siempre que cumplan ciertas reglas (una dimensión debe ser igual o uno de los tamaños debe ser 1, etc.). Ejemplo: sumar un escalar o añadir un vector corto a uno más grande. Aquí `v` se “broadcast” a cada fila de `A` para hacer la operación.:"
   ]
  },
  {
   "cell_type": "code",
   "execution_count": null,
   "metadata": {},
   "outputs": [],
   "source": [
    "A = np.array([[1, 2, 3],\n",
    "              [4, 5, 6]])\n",
    "v = np.array([10, 20, 30])\n",
    "B = A + v  \n",
    "# Resultado:\n",
    "# [[11, 22, 33],\n",
    "#  [14, 25, 36]]"
   ]
  },
  {
   "cell_type": "markdown",
   "metadata": {},
   "source": [
    "### Funciones universales (*ufuncs*) en combinaciones\n",
    "\n",
    "NumPy tiene muchas funciones matemáticas que operan elemento a elemento y pueden aplicarse a uno o varios arrays:\n",
    "\n",
    "* `np.add(a, b)` es equivalente a `a + b`.\n",
    "* `np.multiply(a, b)`, `np.subtract(a, b)`, etc.\n",
    "\n",
    "También funciones como `np.maximum(a, b)` que produce un array con los máximos entre los elementos correspondientes de `a` y `b`:"
   ]
  },
  {
   "cell_type": "code",
   "execution_count": null,
   "metadata": {},
   "outputs": [],
   "source": [
    "a = np.array([5, 2, 9])\n",
    "b = np.array([3, 7, 4])\n",
    "c = np.maximum(a, b)  # array([5, 7, 9])"
   ]
  },
  {
   "cell_type": "markdown",
   "metadata": {},
   "source": [
    "### Comparaciones entre arrays\n",
    "\n",
    "Permiten generar arrays booleanos comparando elemento a elemento:\n",
    "\n",
    "* `a == b`, `a > b`, `a < b`, `a != b`, etc.\n",
    "* Esto se usa para filtrar, máscaras, contar, etc.\n",
    "\n",
    "Ejemplo:"
   ]
  },
  {
   "cell_type": "code",
   "execution_count": null,
   "metadata": {},
   "outputs": [],
   "source": [
    "mask = a > b\n",
    "# si a = [5,2,9], b = [3,7,4] → mask = [True, False, True]"
   ]
  },
  {
   "cell_type": "markdown",
   "metadata": {},
   "source": [
    "Con la máscara:"
   ]
  },
  {
   "cell_type": "code",
   "execution_count": null,
   "metadata": {},
   "outputs": [],
   "source": [
    "a[mask]  # array([5, 9]) → sólo los elementos donde la condición es True"
   ]
  },
  {
   "cell_type": "markdown",
   "metadata": {},
   "source": [
    "### Operaciones lógicas y combinadas\n",
    "\n",
    "Operaciones booleanas, que combinan comparaciones con lógicas (`&`, `|`, `~`):\n",
    "\n",
    "* `np.logical_and(condition1, condition2)`, `np.logical_or(...)`, etc.\n",
    "* O usar operadores `&` o `|`, teniendo cuidado con los paréntesis para respetar precedencia.\n",
    "\n",
    "Ejemplo:"
   ]
  },
  {
   "cell_type": "code",
   "execution_count": null,
   "metadata": {},
   "outputs": [],
   "source": [
    "mask2 = (a > 3) & (b < 5)"
   ]
  },
  {
   "cell_type": "markdown",
   "metadata": {},
   "source": [
    "### Otros métodos aplicados entre arrays o con arrays\n",
    "\n",
    "* **`np.clip(a, min_val, max_val)`**: limita los valores de `a` al rango `[min_val, max_val]`. Si un elemento es menor que `min_val`, se convierte en `min_val`; si es mayor que `max_val`, en `max_val`.\n",
    "\n",
    "* **`np.where(condition, x, y)`**: construye un nuevo array tomando valores de `x` donde `condition` es True, y de `y` donde es False. Puede usarse con arrays `x`, `y`."
   ]
  },
  {
   "cell_type": "code",
   "execution_count": null,
   "metadata": {},
   "outputs": [],
   "source": [
    "a = np.array([1, 5, 10, 0])\n",
    "b = np.array([2, 3, 4, 5])\n",
    "c = np.where(a > b, a, b)  # elemento a elemento, toma el mayor"
   ]
  },
  {
   "cell_type": "markdown",
   "metadata": {},
   "source": [
    "* **`,round()`, `.astype()`**: `round` para redondear, `astype` para cambiar tipo de datos entre arrays."
   ]
  },
  {
   "cell_type": "markdown",
   "metadata": {},
   "source": [
    "## Apéndice"
   ]
  },
  {
   "cell_type": "markdown",
   "metadata": {},
   "source": [
    "¡Gracias por su participación en el curso! Lo esperamos en una siguiente oportunidad."
   ]
  },
  {
   "cell_type": "markdown",
   "metadata": {},
   "source": [
    "### Documentación\n",
    "\n",
    "[Capítulo de introducción a la librería _NumPy_ (Capítulo 6)](https://github.com/monteroanibal/CursoPython2025II/blob/1fcc4625340e556e9a637f65e93f5f999f484695/otrxs/INFORMATICS%20PRACTICES%20Textbook%20for%20Class%20XI%20ISBN%20978-93-5292-148-5.pdf) <br>\n",
    "[Documentación de la librería NumPy](https://numpy.org/)"
   ]
  },
  {
   "cell_type": "markdown",
   "metadata": {},
   "source": [
    "### Referencias\n",
    "\n",
    "* National Council of Educational Research and Training. (2019). Informatics Practices: Textbook for Class XI (ISBN 978-93-5292-148-5). New Delhi: NCERT."
   ]
  },
  {
   "cell_type": "markdown",
   "metadata": {},
   "source": [
    "<i>Taller de Análisis y procesamiento de datos con Open Source</i> © 2025 by <a href=\"https://scholar.google.es/citations?user=PP7CT6IAAAAJ\">Aníbal Montero</a> is licensed under <a href=\"https://creativecommons.org/licenses/by-nc-nd/4.0/\">CC BY-NC-ND 4.0</a><img src=\"https://mirrors.creativecommons.org/presskit/icons/cc.svg\" style=\"max-width: 1em;max-height:1em;margin-left: .2em;\"><img src=\"https://mirrors.creativecommons.org/presskit/icons/by.svg\" style=\"max-width: 1em;max-height:1em;margin-left: .2em;\"><img src=\"https://mirrors.creativecommons.org/presskit/icons/nc.svg\" style=\"max-width: 1em;max-height:1em;margin-left: .2em;\"><img src=\"https://mirrors.creativecommons.org/presskit/icons/nd.svg\" style=\"max-width: 1em;max-height:1em;margin-left: .2em;\">"
   ]
  }
 ],
 "metadata": {
  "kernelspec": {
   "display_name": "Python 3 (ipykernel)",
   "language": "python",
   "name": "python3"
  },
  "language_info": {
   "codemirror_mode": {
    "name": "ipython",
    "version": 3
   },
   "file_extension": ".py",
   "mimetype": "text/x-python",
   "name": "python",
   "nbconvert_exporter": "python",
   "pygments_lexer": "ipython3",
   "version": "3.13.5"
  }
 },
 "nbformat": 4,
 "nbformat_minor": 4
}
