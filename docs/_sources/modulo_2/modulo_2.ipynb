{
 "cells": [
  {
   "cell_type": "markdown",
   "metadata": {},
   "source": [
    "# Un primer código en Python y R\n",
    "\n",
    "**Fundamentos y operaciones básicas del lenguaje, tipos de datos.**"
   ]
  },
  {
   "cell_type": "markdown",
   "metadata": {},
   "source": [
    "```{image} Imagenes/python.png\n",
    ":width: 175px\n",
    ":align: center\n",
    ":alt: numpy\n",
    "```\n",
    "<p style=\"text-align: center; font-size: 8px;\">\n",
    "    <a href=\"https://www.flaticon.com/free-icons/coding\" title=\"coding icons\">Coding icons created by Edwinp99 - Flaticon</a>\n",
    "</p>"
   ]
  },
  {
   "cell_type": "markdown",
   "metadata": {},
   "source": [
    "## Análisis del Problema"
   ]
  },
  {
   "cell_type": "markdown",
   "metadata": {},
   "source": [
    "El aprendizaje de un lenguaje de programación constituye hoy en día un paso casi inevitable para quienes desean desenvolverse en ámbitos relacionados con el análisis de datos, la investigación aplicada o el desarrollo tecnológico. No obstante, este proceso de iniciación presenta diversos retos que van más allá de la simple memorización de comandos o sintaxis."
   ]
  },
  {
   "cell_type": "markdown",
   "metadata": {},
   "source": [
    "> La cantidad de información disponible en internet, que si bien es una ventaja, también puede resultar abrumadora. Los recursos suelen estar dispersos y, con frecuencia, carecen de una estructura que guíe al principiante paso a paso, desde los conceptos básicos hasta aplicaciones prácticas alineadas con sus necesidades profesionales o académicas."
   ]
  },
  {
   "cell_type": "markdown",
   "metadata": {},
   "source": [
    "Es importante reconocer que aprender un lenguaje de programación no consiste únicamente en adquirir destrezas técnicas, sino también en adoptar una forma de pensar: resolver problemas de manera lógica, estructurar procesos y traducir necesidades reales en soluciones implementables mediante código.\n",
    "\n",
    "En este sentido, introducirse en un lenguaje de programación implica tanto un desafío intelectual como práctico, y requiere de una orientación inicial clara que permita construir bases sólidas para avanzar con confianza en un campo en constante evolución."
   ]
  },
  {
   "cell_type": "markdown",
   "metadata": {},
   "source": [
    "```{image} Imagenes/code.png\n",
    ":width: 175px\n",
    ":align: center\n",
    ":alt: numpy\n",
    "```\n",
    "<p style=\"text-align: center; font-size: 8px;\">\n",
    "    <a href=\"https://www.flaticon.com/free-icons/code\" title=\"code icons\">Code icons created by Freepik - Flaticon</a>\n",
    "</p>"
   ]
  },
  {
   "cell_type": "markdown",
   "metadata": {},
   "source": [
    "```{admonition} Objetivos de la sesión\n",
    ":class: tip\n",
    " -  Conocer sobre los tipos de datos y creación de variables en Python y R\n",
    " -  Reconocer los operadores de los lenguajes Python y R\n",
    " -  Conocer las estructuras de datos propias de R de las librerías estándar de Python\n",
    "```"
   ]
  },
  {
   "cell_type": "markdown",
   "metadata": {},
   "source": [
    "```{admonition} Actividad \n",
    ":class: important\n",
    "Abrir los enlaces a los recursos de esta sesión y ejecutarlos en Google Colab de acuerdo a las indiocaciones del profesor.\n",
    "```"
   ]
  },
  {
   "cell_type": "markdown",
   "metadata": {},
   "source": [
    "```{admonition} Recursos\n",
    ":class: nota\n",
    "- Notebook en Python: [Enlace a GitHub](https://github.com/monteroanibal/CursoPython2025II/blob/main/notebooks/CP2025II_Sesion2_Python.ipynb)\n",
    "- Notebook en R: [Enlace a GitHub](https://github.com/monteroanibal/CursoPython2025II/blob/main/notebooks/CP2025II_Sesion2_R.ipynb)\n",
    "```"
   ]
  },
  {
   "cell_type": "markdown",
   "metadata": {},
   "source": [
    "## Tipos de datos\n",
    "\n",
    "La siguiente es una explicación de los tipos de datos tanto en Python como en R."
   ]
  },
  {
   "cell_type": "markdown",
   "metadata": {},
   "source": [
    "### en R\n",
    "\n",
    "todo análisis estadístico y proceso de programación parte del manejo adecuado de los **tipos de datos**, ya que estos determinan cómo se almacenan los valores, qué operaciones son posibles y qué funciones pueden aplicarse. A continuación, se describen los principales tipos de datos que ofrece el software R:\n",
    "\n",
    "* **Numéricos (numeric)**:\n",
    "\n",
    "    - Incluyen tanto números enteros como decimales (doble precisión).\n",
    "    - Son el tipo más común en operaciones estadísticas y matemáticas.\n",
    "    - Ejemplo: `3.14`, `42`, `-7.5`.\n",
    "\n",
    "* **Enteros (integer)**:\n",
    "\n",
    "    - Representan valores enteros exactos.\n",
    "    - Se distinguen del tipo numérico al declararlos explícitamente con la letra `L`.\n",
    "    - Ejemplo: `5L`, `100L`.\n",
    "\n",
    "* **Caracteres o cadenas de texto (character)**:\n",
    "\n",
    "    - Se utilizan para almacenar texto o cadenas alfanuméricas.\n",
    "    - Se definen entre comillas simples o dobles.\n",
    "    - Ejemplo: `\"Colombia\"`, `\"DANE\"`.\n",
    "\n",
    "* **Lógicos (logical)**:\n",
    "\n",
    "    - Representan valores booleanos: `TRUE` o `FALSE`.\n",
    "    - Son fundamentales para estructuras condicionales y filtrado de datos.\n",
    "    - Ejemplo: `x > 10` devuelve un valor lógico.\n",
    "\n",
    "* **Factores (factor)**:\n",
    "\n",
    "    - Se emplean para manejar variables categóricas (cualitativas).\n",
    "    - Pueden ser nominales (sin orden) u ordinales (con jerarquía).\n",
    "    - Internamente se representan con enteros, pero con etiquetas asociadas.\n",
    "    - Ejemplo: `factor(c(\"Alto\", \"Medio\", \"Bajo\"), ordered = TRUE)`.\n",
    "\n",
    "* **Valores especiales**:\n",
    "\n",
    "    - `NA`: representa un dato faltante o no disponible.\n",
    "    - `NaN`: resultado de operaciones indefinidas (ej. `0/0`).\n",
    "    - `Inf` y `-Inf`: valores infinitos (ej. `1/0`, `-1/0`).\n",
    "\n",
    "Estos tipos de datos básicos son la base sobre la cual R construye **estructuras de datos**, como vectores, matrices, data frames y listas, que permiten organizar y manipular información de manera eficiente para el análisis estadístico."
   ]
  },
  {
   "cell_type": "markdown",
   "metadata": {},
   "source": [
    "```{image} Imagenes/files.png\n",
    ":width: 175px\n",
    ":align: center\n",
    ":alt: numpy\n",
    "```\n",
    "<p style=\"text-align: center; font-size: 8px;\">\n",
    "    <a href=\"https://www.flaticon.com/free-icons/structure\" title=\"structure icons\">Structure icons created by Alfredo Creates - Flaticon</a>\n",
    "</p>"
   ]
  },
  {
   "cell_type": "markdown",
   "metadata": {},
   "source": [
    "### en Python\n",
    "\n",
    "En Python, al igual que en R, el manejo de los **tipos de datos** es esencial, ya que de ellos depende la forma en que se representan los valores, las operaciones que se pueden realizar y el comportamiento de las funciones o métodos aplicables. Los principales tipos de datos básicos que ofrece el lenguaje son los siguientes:\n",
    "\n",
    "* **Numéricos**:\n",
    "\n",
    "   Incluyen tres subtipos principales:\n",
    "\n",
    "    - **Enteros (`int`)**: representan números enteros sin parte decimal.\n",
    "       Ejemplo: `42`, `-7`.\n",
    "    - **Flotantes (`float`)**: números reales con parte decimal, de doble precisión.\n",
    "       Ejemplo: `3.14`, `-0.001`.\n",
    "    - **Complejos (`complex`)**: números con parte real e imaginaria.\n",
    "       Ejemplo: `2 + 3j`.\n",
    "\n",
    "* **Cadenas de texto (`str`)**:\n",
    "\n",
    "    - Se utilizan para almacenar secuencias de caracteres.\n",
    "    - Se definen entre comillas simples, dobles o triples (para textos multilínea).\n",
    "    - Ejemplo: `\"Colombia\"`, `'Python'`, `\"\"\"Texto en varias líneas\"\"\"`.\n",
    "\n",
    "* **Booleanos (`bool`)**:\n",
    "\n",
    "    - Representan valores lógicos: `True` o `False`.\n",
    "    - Son fundamentales en estructuras condicionales y en operaciones de control.\n",
    "    - Ejemplo: `x > 10` devuelve un valor booleano.\n",
    "\n",
    "* **Valores especiales**:\n",
    "\n",
    "    - `None`: representa la ausencia de valor o un valor nulo. Puede usarse para inicializar variables o como valor de retorno por defecto en funciones.\n",
    "\n",
    "Estos tipos de datos básicos constituyen la base sobre la cual Python construye estructuras de datos y son el punto de partida para las librerías *numpy* y *pandas*, para ampliar las posibilidades del lenguaje para el análisis estadístico."
   ]
  },
  {
   "cell_type": "markdown",
   "metadata": {},
   "source": [
    "```{image} Imagenes/bracket-curly.png\n",
    ":width: 175px\n",
    ":align: center\n",
    ":alt: numpy\n",
    "```\n",
    "<p style=\"text-align: center; font-size: 8px;\">\n",
    "    <a href=\"https://www.flaticon.com/free-icons/json-file\" title=\"json file icons\">Json file icons created by Assetwave - Flaticon</a>\n",
    "</p>"
   ]
  },
  {
   "cell_type": "markdown",
   "metadata": {},
   "source": [
    "## Estructuras de datos \n",
    "\n",
    "Apartir de los tipos de datos antes mencionados, se derivan las estructuras de datios básicas que se utilizan en cada uno de los dos softwares."
   ]
  },
  {
   "cell_type": "markdown",
   "metadata": {},
   "source": [
    "### de las librerías estándar Python\n",
    "\n",
    "Además de los tipos básicos como números, cadenas y booleanos, Python ofrece estructuras de datos integradas que permiten organizar y manipular información de manera eficiente. Entre las más utilizadas se encuentran las *secuencias*, los *conjuntos* y los *diccionarios*.\n",
    "\n",
    "* **Secuencias**: mantienen un *orden* de los elementos (listas y tuplas).\n",
    "* **Conjuntos**: no mantienen orden, pero garantizan *unicidad* de elementos.\n",
    "* **Diccionarios**: organizan la información mediante un esquema *clave–valor*, muy eficiente para representar estructuras más complejas.\n",
    "\n",
    "#### Tipos de secuencia\n",
    "\n",
    "Las secuencias son colecciones ordenadas de elementos, lo que significa que cada elemento ocupa una posición definida dentro de la estructura (índice).\n",
    "\n",
    "* **Listas (`list`)**:\n",
    "\n",
    "    - Colecciones ordenadas y **mutables**, lo que permite modificar, agregar o eliminar elementos.\n",
    "    - Se definen con corchetes `[]`.\n",
    "    - Ejemplo: `numeros = [1, 2, 3, 4]`.\n",
    "\n",
    "* **Tuplas (`tuple`)**:\n",
    "\n",
    "    - Colecciones ordenadas pero **inmutables**, es decir, no se pueden modificar después de creadas.\n",
    "    - Se definen con paréntesis `()`.\n",
    "    - Ejemplo: `coordenadas = (10, 20)`.\n",
    "\n",
    "* **Rangos (`range`)**:\n",
    "\n",
    "    - Representan una secuencia de enteros, comúnmente utilizada en bucles.\n",
    "    - Ejemplo: `range(0, 5)` genera los valores `0, 1, 2, 3, 4`.\n",
    "\n",
    "Estas estructuras son la base del trabajo con colecciones en Python, y resultan esenciales en tareas de iteración y manipulación de datos.\n",
    "\n",
    "#### Conjuntos (`set` y `frozenset`)\n",
    "\n",
    "Un conjunto es una colección **desordenada** de elementos **únicos**.\n",
    "\n",
    "* **Set (`set`)**:\n",
    "\n",
    "    - Mutable, permite agregar y eliminar elementos.\n",
    "    - Se define con llaves `{}` o con la función `set()`.\n",
    "    - Ejemplo: `colores = {\"rojo\", \"verde\", \"azul\"}`.\n",
    "\n",
    "* **Frozenset (`frozenset`)**:\n",
    "\n",
    "    - Es la versión **inmutable** de un conjunto, útil cuando se requiere que los datos no cambien.\n",
    "    - Ejemplo: `inmutable = frozenset([1, 2, 3])`.\n",
    "\n",
    "Los conjuntos resultan útiles para operaciones como uniones, intersecciones o diferencias de colecciones.\n",
    "\n",
    "#### Diccionarios (`dict`)\n",
    "\n",
    "Un diccionario es una colección de **pares clave–valor**, en la que cada clave es única y sirve para acceder a su valor asociado.\n",
    "\n",
    "* Se define con llaves `{}`, donde cada elemento tiene la forma `\"clave\": valor`.\n",
    "* Ejemplo:\n",
    "\n",
    "  ```python\n",
    "  persona = {\"nombre\": \"Ana\", \"edad\": 30, \"ciudad\": \"Bogotá\"}\n",
    "  ```\n",
    "* Permiten una búsqueda rápida de información y son muy flexibles en la representación de datos estructurados."
   ]
  },
  {
   "cell_type": "markdown",
   "metadata": {},
   "source": [
    "```{image} Imagenes/cells.png\n",
    ":width: 175px\n",
    ":align: center\n",
    ":alt: numpy\n",
    "```\n",
    "<p style=\"text-align: center; font-size: 8px;\">\n",
    "    <a href=\"https://www.flaticon.com/free-icons/table\" title=\"table icons\">Table icons created by Pixel perfect - Flaticon</a>\n",
    "</p>"
   ]
  },
  {
   "cell_type": "markdown",
   "metadata": {},
   "source": [
    "### en R\n",
    "\n",
    "Además de los tipos de datos básicos (numéricos, lógicos, caracteres, factores), existen *estructuras de datos* que permiten organizar y manipular conjuntos de valores. Estas estructuras son la base del trabajo estadístico y computacional en este lenguaje.\n",
    "\n",
    "* **Vectores**: colecciones homogéneas en una dimensión.\n",
    "* **Matrices y arreglos**: colecciones homogéneas en dos o más dimensiones.\n",
    "* **Data frames**: colecciones heterogéneas en forma tabular (similar a hojas de cálculo).\n",
    "* **Listas**: colecciones heterogéneas y flexibles que pueden contener cualquier tipo de objeto.\n",
    "\n",
    "#### Vectores\n",
    "\n",
    "* Son la **unidad fundamental de almacenamiento en R**.\n",
    "* Contienen elementos del **mismo tipo de dato** (numéricos, lógicos, caracteres, etc.).\n",
    "* Se crean con la función `c()`.\n",
    "* Ejemplo:\n",
    "\n",
    "  ```R\n",
    "  numeros <- c(1, 2, 3, 4, 5)\n",
    "  colores <- c(\"rojo\", \"verde\", \"azul\")\n",
    "  ```\n",
    "\n",
    "#### Matrices\n",
    "\n",
    "* Extienden el concepto de vector a **dos dimensiones**.\n",
    "* Todos los elementos deben ser del mismo tipo de dato.\n",
    "* Se crean con la función `matrix()`.\n",
    "* Ejemplo:\n",
    "\n",
    "  ```R\n",
    "  m <- matrix(1:6, nrow = 2, ncol = 3)\n",
    "  ```\n",
    "\n",
    "#### Arreglos (arrays)\n",
    "\n",
    "* Generalizan las matrices a **más de dos dimensiones**.\n",
    "* Todos los elementos son del mismo tipo de dato.\n",
    "* Se crean con la función `array()`.\n",
    "* Ejemplo:\n",
    "\n",
    "  ```R\n",
    "  a <- array(1:12, dim = c(2, 3, 2))\n",
    "  ```\n",
    "\n",
    "#### Data frames\n",
    "\n",
    "* Son una de las estructuras más utilizadas en R.\n",
    "* Almacenan datos en forma de **tabla** (filas y columnas).\n",
    "* Cada columna puede contener un tipo de dato distinto, lo que los hace especialmente útiles para datos estadísticos.\n",
    "* Se crean con la función `data.frame()`.\n",
    "* Ejemplo:\n",
    "\n",
    "  ```R\n",
    "  df <- data.frame(\n",
    "    nombre = c(\"Ana\", \"Luis\", \"María\"),\n",
    "    edad = c(23, 35, 29),\n",
    "    estudiante = c(TRUE, FALSE, TRUE)\n",
    "  )\n",
    "  ```\n",
    "\n",
    "#### Listas\n",
    "\n",
    "* Son estructuras **flexibles y heterogéneas**, capaces de almacenar objetos de diferentes tipos y tamaños (vectores, matrices, data frames, incluso otras listas).\n",
    "* Se crean con la función `list()`.\n",
    "* Ejemplo:\n",
    "\n",
    "  ```R\n",
    "  mi_lista <- list(\n",
    "    numeros = c(1, 2, 3),\n",
    "    texto = \"R es poderoso\",\n",
    "    tabla = df\n",
    "  )\n",
    "  ```"
   ]
  },
  {
   "cell_type": "markdown",
   "metadata": {},
   "source": [
    "```{image} Imagenes/data-entry.png\n",
    ":width: 175px\n",
    ":align: center\n",
    ":alt: numpy\n",
    "```\n",
    "<p style=\"text-align: center; font-size: 8px;\">\n",
    "    <a href=\"https://www.flaticon.com/free-icons/data-entry\" title=\"data entry icons\">Data entry icons created by Uniconlabs - Flaticon</a>\n",
    "</p>"
   ]
  },
  {
   "cell_type": "markdown",
   "metadata": {},
   "source": [
    "## Operadores\n",
    "\n",
    "Los operadores son símbolos especiales que permiten realizar operaciones sobre variables y valores. Tanto Python como R disponen de un conjunto de operadores aritméticos, relacionales, lógicos y de asignación, aunque con algunas diferencias en su sintaxis y uso.\n",
    "\n",
    "### aritméticos\n",
    "\n",
    "Se emplean para operaciones matemáticas básicas.\n",
    "\n",
    "| Operación       | Python | R     | Ejemplo (resultado)                   |\n",
    "| --------------- | ------ | ----- | ------------------------------------- |\n",
    "| Suma            | `+`    | `+`   | `3 + 2 → 5`                           |\n",
    "| Resta           | `-`    | `-`   | `3 - 2 → 1`                           |\n",
    "| Multiplicación  | `*`    | `*`   | `3 * 2 → 6`                           |\n",
    "| División real   | `/`    | `/`   | `3 / 2 → 1.5`                         |\n",
    "| División entera | `//`   | `%/%` | `3 // 2 → 1` (Py) ; `3 %/% 2 → 1` (R) |\n",
    "| Módulo (resto)  | `%`    | `%%`  | `7 % 3 → 1` (Py) ; `7 %% 3 → 1` (R)   |\n",
    "| Potencia        | `**`   | `^`   | `2 ** 3 → 8` (Py) ; `2 ^ 3 → 8` (R)   |\n",
    "\n",
    "### relacionales o de comparación\n",
    "\n",
    "Usados para comparar valores y devolver resultados booleanos.\n",
    "\n",
    "| Comparación   | Python | R    | Ejemplo (resultado)    |\n",
    "| ------------- | ------ | ---- | ---------------------- |\n",
    "| Igual a       | `==`   | `==` | `3 == 3 → True / TRUE` |\n",
    "| Distinto de   | `!=`   | `!=` | `3 != 2 → True / TRUE` |\n",
    "| Mayor que     | `>`    | `>`  | `5 > 3 → True / TRUE`  |\n",
    "| Menor que     | `<`    | `<`  | `2 < 4 → True / TRUE`  |\n",
    "| Mayor o igual | `>=`   | `>=` | `3 >= 3 → True / TRUE` |\n",
    "| Menor o igual | `<=`   | `<=` | `2 <= 3 → True / TRUE` |\n",
    "\n",
    "### lógicos\n",
    "\n",
    "Permiten combinar condiciones lógicas.\n",
    "\n",
    "| Operación       | Python | R                                    | Ejemplo                                           | \n",
    "| --------------- | ------ | ------------------------------------ | ------------------------------------------------- | \n",
    "| Y lógico        | `and`  | `&` (vectorizado) / `&&` (escalares) | `True and False → False` ; `TRUE & FALSE → FALSE` |\n",
    "| O lógico        | `or`   | `\\|`                                  | `TRUE \\| FALSE → TRUE` |\n",
    "| Negación lógica | `not`  | `!`                                  | `not True → False` ; `!TRUE → FALSE`              |\n",
    "\n",
    "### de asignación\n",
    "\n",
    "Se usan para almacenar valores en variables.\n",
    "\n",
    "| Python | R          | Ejemplo                               |\n",
    "| ------ | ---------- | ------------------------------------- |\n",
    "| `=`    | `<-` o `=` | `x = 5` (Py) ; `x <- 5` o `x = 5` (R) |\n",
    "\n",
    "### especiales\n",
    "\n",
    "* En Python, destacan los operadores de pertenencia (`in`, `not in`) y de identidad (`is`, `is not`), muy útiles en estructuras de datos.\n",
    "    - Ejemplo: `\"a\" in [\"a\", \"b\", \"c\"] → True`.\n",
    "* En R, existen operadores específicos para estadística y vectores, como `%in%` (pertenencia a un conjunto).\n",
    "    - Ejemplo: `\"a\" %in% c(\"a\", \"b\", \"c\") → TRUE`."
   ]
  },
  {
   "cell_type": "markdown",
   "metadata": {},
   "source": [
    "```{image} Imagenes/flow-diagram.png\n",
    ":width: 175px\n",
    ":align: center\n",
    ":alt: numpy\n",
    "```\n",
    "<p style=\"text-align: center; font-size: 8px;\">\n",
    "    <a href=\"https://www.flaticon.com/free-icons/diagram\" title=\"diagram icons\">Diagram icons created by Freepik - Flaticon</a>\n",
    "</p>"
   ]
  },
  {
   "cell_type": "markdown",
   "metadata": {},
   "source": [
    "### Jerarquía de operadores en Python\n",
    "\n",
    "En Python, cuando una expresión combina distintos operadores, el intérprete sigue un *orden de prioridad* para decidir qué operaciones realizar primero. Esta jerarquía garantiza que los resultados sean consistentes y evita ambigüedades."
   ]
  },
  {
   "cell_type": "markdown",
   "metadata": {},
   "source": [
    "```{admonition} Recomendación práctica\n",
    ":class: tip\n",
    "Aunque Python  respeta estrictamente las jerarquías explicadas a continuación, en la práctica se recomienda **usar paréntesis ()** para aclarar la intención del programador y mejorar la legibilidad del código.\n",
    "```"
   ]
  },
  {
   "cell_type": "markdown",
   "metadata": {},
   "source": [
    "#### 1. Operadores numéricos\n",
    "\n",
    "De mayor a menor prioridad, el orden es el siguiente:\n",
    "\n",
    "1. Paréntesis `( )`\n",
    "2. Exponenciación `**`\n",
    "3. Negación unaria `-x` y signo positivo `+x`\n",
    "4. Multiplicación `*`, División `/`, División entera `//`, Módulo `%`\n",
    "5. Suma `+` y Resta `-`\n",
    "\n",
    "#### 2. Operadores relacionales y lógicos\n",
    "\n",
    "En expresiones que combinan comparaciones y lógica booleana, la precedencia es:\n",
    "\n",
    "1. Operadores relacionales: `<`, `<=`, `>`, `>=`, `==`, `!=`\n",
    "2. `not` (negación lógica)\n",
    "3. `and` (conjunción lógica)\n",
    "4. `or` (disyunción lógica)"
   ]
  },
  {
   "cell_type": "markdown",
   "metadata": {},
   "source": [
    "### Jerarquía de operadores en R\n",
    "\n",
    "En R, al igual que en Python, las expresiones con múltiples operadores se evalúan según un *orden de precedencia* definido. Esto determina qué operaciones se realizan primero, salvo que el programador use *paréntesis* `( )` para modificar el orden natural."
   ]
  },
  {
   "cell_type": "markdown",
   "metadata": {},
   "source": [
    "```{admonition} Recomendación práctica\n",
    ":class: tip\n",
    "Aunque Python  respeta estrictamente las jerarquías explicadas a continuación, en la práctica se recomienda **usar paréntesis ()** para aclarar la intención del programador y mejorar la legibilidad del código.\n",
    "```"
   ]
  },
  {
   "cell_type": "markdown",
   "metadata": {},
   "source": [
    "#### 1. Operadores numéricos\n",
    "\n",
    "De mayor a menor prioridad:\n",
    "\n",
    "1. Paréntesis `( )`\n",
    "2. Exponenciación `^` o `**`\n",
    "3. Signos unarios `+x`, `-x`\n",
    "4. Multiplicación `*`, División `/`, División entera `%/%`, Módulo `%%`\n",
    "5. Suma `+` y Resta `-`\n",
    "\n",
    "#### 2. Operadores relacionales y lógicos\n",
    "\n",
    "En expresiones booleanas, R sigue esta precedencia:\n",
    "\n",
    "1. Operadores relacionales**: `<`, `<=`, `>`, `>=`, `==`, `!=`\n",
    "2. Negación lógica `!`\n",
    "3. Conjunción lógica `&` y `&&`\n",
    "4. Disyunción lógica `|` y `||`"
   ]
  },
  {
   "cell_type": "markdown",
   "metadata": {},
   "source": [
    "## Apéndice"
   ]
  },
  {
   "cell_type": "markdown",
   "metadata": {},
   "source": [
    "¡Gracias por su participación en el curso! Lo esperamos en una siguiente oportunidad."
   ]
  },
  {
   "cell_type": "markdown",
   "metadata": {},
   "source": [
    "### Documentación\n",
    "\n",
    "[Libro de introducción al lenguaje _Python_](https://github.com/chardiwall/Coding-for-beginners-and-beyond/blob/main/python-basics-a-practical-introduction-to-python-3.pdf) <br>\n",
    "[Libro de introducción al lenguaje _R_](https://cran.r-project.org/doc/manuals/R-intro.pdf)"
   ]
  },
  {
   "cell_type": "markdown",
   "metadata": {},
   "source": [
    "### Referencias\n",
    "\n",
    "* Bader, D., Jablonski, J., & Heisler, F. (2021). Python Basics: A Practical Introduction to Python 3. Real Python.\n",
    "* Venables, W. N., Smith, D. M., & R Core Team. (2025). An introduction to R (version 4.5.1). The R Project for Statistical Computing."
   ]
  },
  {
   "cell_type": "markdown",
   "metadata": {},
   "source": [
    "<i>Taller de Análisis y procesamiento de datos con Open Source</i> © 2025 by <a href=\"https://scholar.google.es/citations?user=PP7CT6IAAAAJ\">Aníbal Montero</a> is licensed under <a href=\"https://creativecommons.org/licenses/by-nc-nd/4.0/\">CC BY-NC-ND 4.0</a><img src=\"https://mirrors.creativecommons.org/presskit/icons/cc.svg\" style=\"max-width: 1em;max-height:1em;margin-left: .2em;\"><img src=\"https://mirrors.creativecommons.org/presskit/icons/by.svg\" style=\"max-width: 1em;max-height:1em;margin-left: .2em;\"><img src=\"https://mirrors.creativecommons.org/presskit/icons/nc.svg\" style=\"max-width: 1em;max-height:1em;margin-left: .2em;\"><img src=\"https://mirrors.creativecommons.org/presskit/icons/nd.svg\" style=\"max-width: 1em;max-height:1em;margin-left: .2em;\">"
   ]
  }
 ],
 "metadata": {
  "kernelspec": {
   "display_name": "Python 3 (ipykernel)",
   "language": "python",
   "name": "python3"
  },
  "language_info": {
   "codemirror_mode": {
    "name": "ipython",
    "version": 3
   },
   "file_extension": ".py",
   "mimetype": "text/x-python",
   "name": "python",
   "nbconvert_exporter": "python",
   "pygments_lexer": "ipython3",
   "version": "3.13.5"
  }
 },
 "nbformat": 4,
 "nbformat_minor": 4
}
