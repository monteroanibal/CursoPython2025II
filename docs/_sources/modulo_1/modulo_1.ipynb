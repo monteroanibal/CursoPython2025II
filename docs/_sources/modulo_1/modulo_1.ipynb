{
 "cells": [
  {
   "cell_type": "markdown",
   "metadata": {},
   "source": [
    "# Entornos de desarrollo\n",
    "\n",
    "**Introducción a las interfaces de desarrollo en Python más comunes en 2025**"
   ]
  },
  {
   "cell_type": "markdown",
   "metadata": {},
   "source": [
    "```{image} Imagenes/training-program.png\n",
    ":width: 175px\n",
    ":align: center\n",
    ":alt: numpy\n",
    "```\n",
    "<p style=\"text-align: center; font-size: 8px;\">\n",
    "    <a href=\"https://www.flaticon.com/free-icons/demo\" title=\"demo icons\">Demo icons created by Ning Nong - Flaticon</a>\n",
    "</p>"
   ]
  },
  {
   "cell_type": "markdown",
   "metadata": {},
   "source": [
    "## Análisis del Problema"
   ]
  },
  {
   "cell_type": "markdown",
   "metadata": {},
   "source": [
    "Estimados estudianes, a continuación les mencionamos algunas condiciones puntuales que hacen parte de nuestro contexto como profesionales del DANE, que en nuestro quehacer trabajamos permenentemente con diferentes volúmenes de datos, frente a nuestro primer acercamiento al software Python:\n",
    "\n",
    "* Tarde o temprano nos llega el momento que necesitamos aprender a programar en Python, debido a las funcionalidades únicas que nos puede ofrecer este software por encima de los usos típicos de sus alternativas como lo son R y SAS.\n",
    "\n",
    "* Hay una cantidad abrumadora de información en internet sobre Python, y para quienes se quieren introducir, falta una estructura que les indique sobre lo que deben aprender y en qué orden basado en sus necesidades profesionales.\n",
    "\n",
    "* Antes de iniciar en la programación con el lenguaje de programación de Python, es necesario conocer las alternativas de software de entornos de dearrollo para ciencia de datos en Python, lo cual se explica a continuación."
   ]
  },
  {
   "cell_type": "markdown",
   "metadata": {},
   "source": [
    "```{image} Imagenes/dev.png\n",
    ":width: 175px\n",
    ":align: center\n",
    ":alt: numpy\n",
    "```\n",
    "<p style=\"text-align: center; font-size: 8px;\">\n",
    "    <a href=\"https://www.flaticon.com/free-icons/it-department\" title=\"it department icons\">It department icons created by Freepik - Flaticon</a>\n",
    "</p>"
   ]
  },
  {
   "cell_type": "markdown",
   "metadata": {},
   "source": [
    "```{admonition} Objetivos de la sesión\n",
    ":class: tip\n",
    " -  Delimitar la problemática por la que se aborda Python como lenguaje de programación para el análisis y procesamiento de datos \n",
    " -  Entender el funcionamiento de Anaconda como manejador de ambientes de programación y librerías\n",
    " -  Introducir a  como software de entorno de programación en notebooks\n",
    " -  Entender los notebooks como herramienta para el desarrollo de programación y código\n",
    " -  Presentar alternativas de software de entorno de programación y ejecución para Python\n",
    "```"
   ]
  },
  {
   "cell_type": "markdown",
   "metadata": {},
   "source": [
    "## Python"
   ]
  },
  {
   "cell_type": "markdown",
   "metadata": {},
   "source": [
    "La siguiente es una explicación de Python, tanto en su dimensión como lenguaje de programación como en su forma de software (intérprete):\n",
    "\n",
    "### Como lenguaje de programación\n",
    "\n",
    "Python es un lenguaje de programación de alto nivel, interpretado, dinámico y multipropósito, diseñado para ser fácil de leer y escribir, incluso para quienes se están iniciando en la programación."
   ]
  },
  {
   "cell_type": "markdown",
   "metadata": {},
   "source": [
    "```{image} Imagenes/Python-Logo.jpg\n",
    ":width: 400px\n",
    ":align: center\n",
    ":alt: numpy\n",
    "```\n",
    "<p style=\"text-align: center; font-size: 8px;\">\n",
    "    <a href=\"https://1000logos.net/python-logo/\" title=\"demo icons\">Imagotipo de Python</a>\n",
    "</p>"
   ]
  },
  {
   "cell_type": "markdown",
   "metadata": {},
   "source": [
    "* **Características principales:**\n",
    "\n",
    "    - *Sintaxis clara y legible*:\n",
    "    \n",
    "    Python fue diseñado para parecerse al lenguaje humano, evitando símbolos innecesarios. Esto lo hace especialmente apto para educación, ciencia y desarrollo ágil.\n",
    "\n",
    "    - *Interpretado*:\n",
    "    \n",
    "    El código Python no se compila previamente en archivos ejecutables, sino que se ejecuta línea por línea mediante un intérprete. Esto favorece la experimentación, pero puede hacer que sea algo más lento que lenguajes compilados como C o Java.\n",
    "\n",
    "    - *Tipado dinámico*:\n",
    "    \n",
    "    No es necesario declarar el tipo de las variables (como `int`, `float`, etc.); Python lo determina automáticamente en tiempo de ejecución.\n",
    "\n",
    "    - *Multiparadigma*:\n",
    "    \n",
    "    Soporta varios estilos de programación:\n",
    "      * Imperativa/procedimental\n",
    "      * Orientada a objetos\n",
    "      * Funcional\n",
    "\n",
    "    - *Extensibilidad*:\n",
    "    \n",
    "    Se puede extender con bibliotecas escritas en C, C++, Fortran, entre otros, para lograr mejor rendimiento o integrar sistemas heredados.\n",
    "\n",
    "    - *Gran ecosistema de bibliotecas*:\n",
    "    \n",
    "    Existen miles de paquetes para tareas diversas: _Ciencia de datos_: `numpy`, `pandas`, `scikit-learn`, `matplotlib`, `seaborn`; _Automatización_: `os`, `shutil`, `requests`; _Inteligencia Artificial_: `tensorflow`, `pytorch`\n",
    "\n",
    "* **Ejemplo simple en Python:**"
   ]
  },
  {
   "cell_type": "code",
   "execution_count": 1,
   "metadata": {},
   "outputs": [
    {
     "name": "stdout",
     "output_type": "stream",
     "text": [
      "El área del círculo es 78.54\n"
     ]
    }
   ],
   "source": [
    "# Calcular el área de un círculo\n",
    "import math\n",
    "radio = 5\n",
    "area = math.pi * radio ** 2\n",
    "print(f\"El área del círculo es {area:.2f}\")"
   ]
  },
  {
   "cell_type": "markdown",
   "metadata": {},
   "source": [
    "### Como software\n",
    "\n",
    "Cuando se instala Python en un ordenador, en realidad se está instalando un intérprete, que es un programa que lee, analiza y ejecuta el código escrito en el lenguaje Python."
   ]
  },
  {
   "cell_type": "markdown",
   "metadata": {},
   "source": [
    "```{image} Imagenes/python.png\n",
    ":width: 175px\n",
    ":align: center\n",
    ":alt: numpy\n",
    "```\n",
    "<p style=\"text-align: center; font-size: 8px;\">\n",
    "    <a href=\"https://www.flaticon.com/free-icons/code\" title=\"code icons\">Code icons created by Freepik - Flaticon</a>\n",
    "</p>"
   ]
  },
  {
   "cell_type": "markdown",
   "metadata": {},
   "source": [
    "* **¿Qué es el intérprete de Python?**\n",
    "\n",
    "    Es el núcleo del sistema que:\n",
    "\n",
    "    - Traduce el código fuente `.py` en instrucciones que la máquina puede entender (de forma indirecta).\n",
    "    - Gestiona la memoria, los errores, la ejecución paso a paso, etc.\n",
    "    - Puede usarse de forma interactiva (línea por línea) o para ejecutar scripts completos.\n",
    "\n",
    "* **¿Qué contiene una instalación típica de Python?**\n",
    "\n",
    "    - El intérprete (por ejemplo, `python.exe` en Windows).\n",
    "    - La librería estándar, que incluye herramientas listas para usar (manejo de archivos, matemáticas, fechas, conexión a internet, etc.).\n",
    "    - Herramientas como `pip` para instalar paquetes externos.\n",
    "    - A veces incluye un entorno interactivo simple como IDLE (Python Shell con editor).\n",
    "\n",
    "* **Versiones y evolución**\n",
    "\n",
    "    - La versión más usada es Python 3, activa desde 2008. La serie Python 2 fue descontinuada oficialmente en 2020.\n",
    "    - Python se actualiza regularmente, mejorando rendimiento y añadiendo funcionalidades. La versión más reciente estable en 2025 es Python 3.12 (aunque podría haber versiones beta de 3.13).\n",
    "\n",
    "\n",
    "* **¿Quién creó Python y por qué?**\n",
    "\n",
    "    Python fue creado por Guido Van Rossum a finales de los años 80, como un sucesor del lenguaje ABC, con la intención de ser un lenguaje fácil de aprender pero poderoso."
   ]
  },
  {
   "cell_type": "markdown",
   "metadata": {},
   "source": [
    "> El nombre \"Python\" no proviene de la serpiente, sino del grupo cómico británico **\"Monty Python\"**."
   ]
  },
  {
   "cell_type": "markdown",
   "metadata": {},
   "source": [
    "```{admonition} Usos de Python hoy en día\n",
    ":class: tip\n",
    "* Ciencia de datos y análisis estadístico\n",
    "* Inteligencia artificial y aprendizaje automático\n",
    "* Desarrollo web\n",
    "* Automatización de tareas\n",
    "* Juegos y simulaciones\n",
    "* Educación en programación\n",
    "* Control de hardware y dispositivos embebidos\n",
    "* Ciberseguridad y pruebas de penetración\n",
    "```"
   ]
  },
  {
   "cell_type": "markdown",
   "metadata": {},
   "source": [
    "* **Resumen gráfico (conceptual):**\n",
    "\n",
    "| Rol              | Descripción                                                                    |\n",
    "| ---------------- | ------------------------------------------------------------------------------ |\n",
    "| Lenguaje         | Conjunto de reglas y estructuras para escribir programas (como una gramática). |\n",
    "| Intérprete       | Programa que lee y ejecuta código Python (por ejemplo, `python.exe`).          |\n",
    "| Archivos comunes | `.py` (scripts), `.ipynb` (notebooks), `.pyc` (código compilado internamente). |\n"
   ]
  },
  {
   "cell_type": "markdown",
   "metadata": {},
   "source": [
    "## Anaconda"
   ]
  },
  {
   "cell_type": "markdown",
   "metadata": {},
   "source": [
    "Es una distribución gratuita y de código abierto de Python y R que incluye:\n",
    "\n",
    "* Un intérprete de Python\n",
    "* Un gran conjunto de paquetes científicos y de análisis de datos\n",
    "* Herramientas para gestionar entornos virtuales\n",
    "* Interfaces de trabajo como Jupyter Notebook\n",
    "\n",
    "Está pensada para facilitar el trabajo con análisis de datos, machine learning, ciencia, ingeniería y visualización, sin que el usuario tenga que instalar cada componente por separado."
   ]
  },
  {
   "cell_type": "markdown",
   "metadata": {},
   "source": [
    "```{image} Imagenes/Anaconda-Logo.png\n",
    ":width: 400px\n",
    ":align: center\n",
    ":alt: numpy\n",
    "```\n",
    "<p style=\"text-align: center; font-size: 8px;\">\n",
    "    <a href=\"https://anaconda.com/app/assets/images/logos/Anaconda-Horizontal-Full-Color.webp\" title=\"demo icons\">Imagotipo de Anaconda</a>\n",
    "</p>"
   ]
  },
  {
   "cell_type": "markdown",
   "metadata": {},
   "source": [
    "* **¿Qué incluye Anaconda?**\n",
    "\n",
    "    Al instalar Anaconda, se instalan cientos de componentes preconfigurados que suelen ser necesarios para trabajar en ciencia de datos y otras áreas. Aquí los más importantes:\n",
    "    \n",
    "    - *Herramientas de desarrollo*:\n",
    "\n",
    "    1. Jupyter Notebook: Interfaz de notebooks interactivos.\n",
    "    2. JupyterLab: Versión más avanzada y modular de Jupyter.\n",
    "    3. Spyder: Entorno de desarrollo (IDE) tipo MATLAB para Python.\n",
    "    4. VS Code (opcional): Se puede integrar fácilmente.\n",
    "    \n",
    "    - *Paquetes preinstalados*:\n",
    "    \n",
    "    Incluye más de 1500 paquetes populares en ciencia de datos, como:\n",
    "    \n",
    "    | Tipo de tarea            | Paquetes incluidos               |\n",
    "    | ------------------------ | -------------------------------- |\n",
    "    | Cálculo numérico         | `numpy`, `scipy`                 |\n",
    "    | Análisis de datos        | `pandas`                         |\n",
    "    | Visualización            | `matplotlib`, `seaborn`, `bokeh` |\n",
    "    | Machine Learning         | `scikit-learn`, `xgboost`        |\n",
    "    | Deep Learning            | `tensorflow`, `pytorch`          |\n",
    "    | Web scraping             | `requests`, `beautifulsoup4`     |\n",
    "        \n",
    "    Esto ahorra muchas horas de instalación y resolución de dependencias.\n",
    "    \n",
    "    - *Gestor de paquetes y entornos*:\n",
    "    conda: Es el gestor de paquetes y entornos virtuales de Anaconda. Sirve para:\n",
    "    \n",
    "    1. Instalar y actualizar paquetes.\n",
    "    2. Crear entornos separados con versiones distintas de Python o bibliotecas."
   ]
  },
  {
   "cell_type": "markdown",
   "metadata": {},
   "source": [
    "```{image} Imagenes/pantallazo_anaconda.png\n",
    ":width: 400px\n",
    ":align: center\n",
    ":alt: numpy\n",
    "```\n",
    "<p style=\"text-align: center; font-size: 12px;\">\n",
    "    <strong> página de inicio de Anaconda </strong>\n",
    "</p>"
   ]
  },
  {
   "cell_type": "markdown",
   "metadata": {},
   "source": [
    "* **¿Por qué usar Anaconda?**\n",
    "\n",
    "    - *Todo en uno*: Viene con todo lo necesario para comenzar a trabajar en ciencia de datos o programación científica.\n",
    "    - *Gestión de entornos*: Puedes tener diferentes versiones de Python y paquetes sin conflictos.\n",
    "    - *Facilita instalación de paquetes pesados*: Algunos paquetes como `numpy` o `tensorflow` pueden ser difíciles de instalar con `pip`, pero `conda` simplifica el proceso.\n",
    "    - *Ideal para ciencia de datos y educación*: Muy popular en universidades y cursos de Python.\n",
    "\n",
    "* **¿Qué es un entorno en Anaconda?**\n",
    "\n",
    "    Un entorno es una instalación aislada de Python con su propio conjunto de paquetes. Esto evita que un proyecto interfiera con otro. Ejemplo de uso:"
   ]
  },
  {
   "cell_type": "markdown",
   "metadata": {},
   "source": [
    "```bash\n",
    "# Crear un entorno nuevo\n",
    "conda create -n mi_entorno python=3.12\n",
    "\n",
    "# Activar el entorno\n",
    "conda activate mi_entorno\n",
    "\n",
    "# Instalar paquetes en ese entorno\n",
    "conda install numpy pandas matplotlib\n",
    "```"
   ]
  },
  {
   "cell_type": "markdown",
   "metadata": {},
   "source": [
    "```{image} Imagenes/pantallazo_anacondaprompt.png\n",
    ":width: 400px\n",
    ":align: center\n",
    ":alt: numpy\n",
    "```\n",
    "<p style=\"text-align: center; font-size: 12px;\">\n",
    "    <strong> Interfaz de Anaconda Prompt </strong>\n",
    "</p>"
   ]
  },
  {
   "cell_type": "markdown",
   "metadata": {},
   "source": [
    "* **¿Dónde descargarlo?**\n",
    "\n",
    "    Desde la página oficial:\n",
    "    [https://www.anaconda.com](https://www.anaconda.com)\n",
    "\n",
    "* **¿Es necesario usar Anaconda para programar en Python?**\n",
    "\n",
    "    No. Puedes usar Python directamente desde su sitio oficial e instalar paquetes con `pip`. Sin embargo, Anaconda:\n",
    "\n",
    "    - Te ahorra mucho tiempo en la configuración inicial\n",
    "    - Es ideal si trabajarás con datos, gráficos o inteligencia artificial\n",
    "    - Es muy amigable para aprender\n",
    "\n",
    "* **Resumen**\n",
    "\n",
    "    | Aspecto            | Anaconda                                     |\n",
    "    | ------------------ | -------------------------------------------- |\n",
    "    | Tipo               | Distribución de Python + herramientas        |\n",
    "    | Gestor de paquetes | `conda`                                      |\n",
    "    | Incluye Python     | Sí                                           |\n",
    "    | Incluye Jupyter    | Sí                                           |\n",
    "    | Uso principal      | Ciencia de datos, análisis, machine learning |\n",
    "    | Alternativa        | Miniconda (más ligera)                       |"
   ]
  },
  {
   "cell_type": "markdown",
   "metadata": {},
   "source": [
    "## JupyterLab"
   ]
  },
  {
   "cell_type": "markdown",
   "metadata": {},
   "source": [
    "Es un entorno de desarrollo interactivo basado en la web, que permite trabajar con código, datos, documentos y visualizaciones de forma integrada. nFue desarrollado por **Project Jupyter**, la misma iniciativa detrás de Jupyter Notebook."
   ]
  },
  {
   "cell_type": "markdown",
   "metadata": {},
   "source": [
    "```{image} Imagenes/Jupyter-Logo.png\n",
    ":width: 400px\n",
    ":align: center\n",
    ":alt: numpy\n",
    "```\n",
    "<p style=\"text-align: center; font-size: 8px;\">\n",
    "    <a href=\"https://agent-jay.github.io/assets/images/jupyter.png\" title=\"demo icons\">Imagotipo de Project Juptyer</a>\n",
    "</p>"
   ]
  },
  {
   "cell_type": "markdown",
   "metadata": {},
   "source": [
    "* **¿Para qué sirve?**\n",
    "\n",
    "    JupyterLab sirve principalmente para:\n",
    "\n",
    "    - Ejecutar código en notebooks interactivos\n",
    "    - Documentar el trabajo con celdas de texto y ecuaciones\n",
    "    - Explorar y visualizar datos\n",
    "    - Desarrollar proyectos de análisis, simulación, aprendizaje automático, entre otros\n",
    "    - Escribir y ejecutar scripts `.py`, ver archivos `.csv`, `.json`, `.md`, imágenes, y mucho más\n",
    "\n",
    "* **¿Qué incluye JupyterLab?**\n",
    "\n",
    "    JupyterLab está compuesto por varios módulos integrados que trabajan juntos en una misma ventana web:\n",
    "\n",
    "    - **Editor de notebooks `.ipynb` con celdas de código y texto (como en Jupyter clásico)\n",
    "    - **Editor de texto/código para archivos `.py`, `.md`, `.json`, `.csv`, etc.\n",
    "    - Terminal interactiva (similar a una consola de Linux)\n",
    "    - Explorador de archivos para navegar por carpetas del sistema\n",
    "    - Vista previa de gráficos, PDFs, imágenes, hojas de cálculo**\n",
    "    - Soporte para múltiples *kernels* (ej. Python, R, Julia)\n",
    "    \n",
    "    Todo esto en un diseño de paneles acoplables (como pestañas o ventanas que puedes mover, dividir y reorganizar)."
   ]
  },
  {
   "cell_type": "markdown",
   "metadata": {},
   "source": [
    "```{image} Imagenes/pantallazo_jupyterlab.png\n",
    ":width: 400px\n",
    ":align: center\n",
    ":alt: numpy\n",
    "```\n",
    "<p style=\"text-align: center; font-size: 12px;\">\n",
    "    <strong> Interfaz gráfica de JupyterLab <br>\n",
    "    mostrando un notebook como entorno de desarrollo para Python. </strong>\n",
    "</p>"
   ]
  },
  {
   "cell_type": "markdown",
   "metadata": {},
   "source": [
    "\n",
    "* **¿Cómo se instala?**\n",
    "\n",
    "    JupyterLab se puede instalar fácilmente si ya tienes Anaconda o Python:\n",
    "\n",
    "    - Si usas Anaconda:\n",
    "\n",
    "    ```bash\n",
    "    conda install -c conda-forge jupyterlab\n",
    "    ```\n",
    "\n",
    "    - Si usas *pip* (con instalación básica de Python):\n",
    "\n",
    "    ```bash\n",
    "    pip install jupyterlab\n",
    "    ```\n",
    "\n",
    "    - para ejecutarlo:\n",
    "\n",
    "    ```bash\n",
    "    jupyter lab\n",
    "    ```\n",
    "\n",
    "    Esto abrirá la interfaz de JupyterLab en tu navegador (por defecto en `http://localhost:8888`).\n",
    "\n",
    "* **¿Qué es un *kernel* en JupyterLab?**\n",
    "\n",
    "    Un *kernel* es el motor que ejecuta el código. JupyterLab permite cambiar de kernel según el lenguaje que estés usando:\n",
    "\n",
    "    - Python (el más común)\n",
    "    - R\n",
    "    - Julia\n",
    "    - Bash\n",
    "    - C++\n",
    "    - Y otros, si instalas el kernel correspondiente\n",
    "\n",
    "    Esto hace que JupyterLab no se limite a Python.\n",
    "\n",
    "* **¿Por qué usar JupyterLab?**\n",
    "\n",
    "    - Combina código, documentación, resultados y visualizaciones en un mismo entorno\n",
    "    - Permite trabajar de forma interactiva y modular\n",
    "    - Ideal para experimentación, análisis de datos, enseñanza y ciencia reproducible\n",
    "    - Todo se guarda como archivos legibles (JSON, Markdown, Python)\n",
    "    - Está en constante desarrollo y mejora"
   ]
  },
  {
   "cell_type": "markdown",
   "metadata": {},
   "source": [
    "### Notebook"
   ]
  },
  {
   "cell_type": "markdown",
   "metadata": {},
   "source": [
    "* **¿Qué es un notebook en el contexto de los entornos de desarrollo de Python?**:\n",
    "    \n",
    "    Un notebook es un tipo especial de interfaz interactiva que permite escribir y ejecutar código en fragmentos (llamados celdas) dentro de un entorno visual, junto con texto, fórmulas matemáticas, gráficos, tablas y otros elementos multimedia. En Python, el entorno de notebooks más común es Jupyter Notebook, aunque existen variantes como JupyterLab, Google Colab o los notebooks integrados en herramientas como VS Code."
   ]
  },
  {
   "cell_type": "markdown",
   "metadata": {},
   "source": [
    "```{image} Imagenes/pantallazo_colab.png\n",
    ":width: 400px\n",
    ":align: center\n",
    ":alt: numpy\n",
    "```\n",
    "<p style=\"text-align: center; font-size: 12px;\">\n",
    "    <strong> Interfaz gráfica de Google Colab <br>\n",
    "    mostrando un notebook como entorno de desarrollo para Python. </strong>\n",
    "</p>"
   ]
  },
  {
   "cell_type": "markdown",
   "metadata": {},
   "source": [
    "* **Características principales de un notebook:**\n",
    "    \n",
    "    - *Celdas de código*:\n",
    "    \n",
    "    Permiten escribir código Python (u otros lenguajes, dependiendo del kernel). El código se ejecuta por bloques, y su salida (texto, gráficos, errores) aparece justo debajo de cada celda.\n",
    "\n",
    "    - *Celdas de texto (Markdown)*:\n",
    "    \n",
    "    Estas celdas permiten documentar el código, explicar procedimientos, agregar títulos, subtítulos, listas, ecuaciones LaTeX, etc. Son útiles para crear documentos bien estructurados y comprensibles.\n",
    "\n",
    "    - *Ejecución interactiva*:\n",
    "    \n",
    "    A diferencia de un archivo .py que se ejecuta de principio a fin, en un notebook puedes ejecutar celdas de forma independiente, en cualquier orden. Esto facilita el análisis exploratorio de datos, pruebas de código o desarrollo incremental.\n",
    "\n",
    "    - *Visualización integrada*:\n",
    "    \n",
    "    Gráficos generados con bibliotecas como matplotlib, seaborn o plotly se muestran automáticamente dentro del mismo notebook, lo que favorece la inspección visual inmediata de resultados.\n",
    "\n",
    "    - *Persistencia del estado*:\n",
    "    \n",
    "    Las variables y objetos definidos en una celda quedan disponibles para otras celdas posteriores, siempre que el kernel (el motor que ejecuta el código) siga activo. Esto facilita la continuidad del trabajo.\n",
    "\n",
    "    - *Exportabilidad*:\n",
    "    \n",
    "    Un notebook se guarda como archivo .ipynb (formato JSON). Puede exportarse a PDF, HTML, o incluso a archivos .py, permitiendo compartir análisis o informes reproducibles."
   ]
  },
  {
   "cell_type": "markdown",
   "metadata": {},
   "source": [
    "## Otras alternativas"
   ]
  },
  {
   "cell_type": "markdown",
   "metadata": {},
   "source": [
    "### Google Colab\n",
    "\n",
    "(Abreviatura de *Colaboratory*) es una plataforma gratuita basada en la nube, desarrollada por Google, que permite escribir y ejecutar código Python directamente desde el navegador, sin necesidad de instalar nada en el computador. Su interfaz está basada en Jupyter Notebook, lo que significa que puedes trabajar con celdas de código y de texto (Markdown), visualizar gráficos, manipular datos y documentar tus procesos de forma interactiva."
   ]
  },
  {
   "cell_type": "markdown",
   "metadata": {},
   "source": [
    "```{image} Imagenes/Colab-Logo.png\n",
    ":width: 400px\n",
    ":align: center\n",
    ":alt: numpy\n",
    "```\n",
    "<p style=\"text-align: center; font-size: 8px;\">\n",
    "    <a href=\"https://cdn.shortpixel.ai/spai/q_lossy+w_512+to_webp+ret_img+p_h/algotrading101.com/learn/wp-content/uploads/2021/05/Google-Colab-Guide-1024x683.jpg\" title=\"demo icons\">Imagotipo de Google Colab</a>\n",
    "</p>"
   ]
  },
  {
   "cell_type": "markdown",
   "metadata": {},
   "source": [
    "Colab es especialmente útil para análisis de datos, aprendizaje automático y tareas educativas, ya que ofrece acceso gratuito a recursos computacionales potentes, como GPU y TPU, lo que permite ejecutar modelos complejos de machine learning sin requerir un computador local potente. Además, está totalmente integrado con Google Drive, lo que facilita el guardado automático y el trabajo colaborativo en tiempo real, similar a Google Docs.\n",
    "\n",
    "Es una herramienta práctica y accesible para desarrollar y compartir proyectos en Python desde cualquier dispositivo con conexión a internet."
   ]
  },
  {
   "cell_type": "markdown",
   "metadata": {},
   "source": [
    "### VS Code"
   ]
  },
  {
   "cell_type": "markdown",
   "metadata": {},
   "source": [
    "*Visual Studio Code* es un editor de código fuente ligero, gratuito y de código abierto desarrollado por Microsoft. Está diseñado para ser rápido, versátil y altamente personalizable, lo que lo convierte en una de las herramientas favoritas de programadores de todos los niveles. Aunque no es un entorno de desarrollo completo por sí mismo (como un IDE tradicional), puede convertirse en uno muy potente mediante extensiones."
   ]
  },
  {
   "cell_type": "markdown",
   "metadata": {},
   "source": [
    "```{image} Imagenes/VSCode-Logo.png\n",
    ":width: 400px\n",
    ":align: center\n",
    ":alt: numpy\n",
    "```\n",
    "<p style=\"text-align: center; font-size: 8px;\">\n",
    "    <a href=\"https://www.stickpng.com/img/download/62a79050e42d729d928b1756\" title=\"demo icons\">Imagotipo de VS Code</a>\n",
    "</p>"
   ]
  },
  {
   "cell_type": "markdown",
   "metadata": {},
   "source": [
    "VS Code permite escribir y ejecutar código en múltiples lenguajes de programación, incluyendo Python, JavaScript, C++, HTML y muchos más. Ofrece características como resaltado de sintaxis, autocompletado inteligente, depuración integrada, control de versiones con Git, y terminal incorporada. Para programar en Python, basta con instalar la extensión oficial de Python, que habilita soporte para notebooks, depuración, linting, entornos virtuales y ejecución interactiva del código.\n",
    "\n",
    "Es un editor moderno y flexible que, con las extensiones adecuadas, puede adaptarse a casi cualquier flujo de trabajo de desarrollo, desde scripts simples hasta proyectos complejos de software, incluyendo ciencia de datos, aplicaciones web o sistemas embebidos."
   ]
  },
  {
   "cell_type": "markdown",
   "metadata": {},
   "source": [
    "### Spyder"
   ]
  },
  {
   "cell_type": "markdown",
   "metadata": {},
   "source": [
    "(Scientific Python Development Environment) es un entorno de desarrollo integrado (IDE) diseñado especialmente para científicos, ingenieros, analistas de datos y estudiantes que trabajan con Python. Su diseño recuerda al entorno de MATLAB, lo que lo hace especialmente cómodo para quienes vienen de disciplinas técnicas o numéricas."
   ]
  },
  {
   "cell_type": "markdown",
   "metadata": {},
   "source": [
    "```{image} Imagenes/Spyder-Logo.png\n",
    ":width: 400px\n",
    ":align: center\n",
    ":alt: numpy\n",
    "```\n",
    "<p style=\"text-align: center; font-size: 8px;\">\n",
    "    <a href=\"https://upload.wikimedia.org/wikipedia/commons/archive/7/7e/20250701044221%21Spyder_logo.svg\" title=\"demo icons\">Imagotipo de Spyder</a>\n",
    "</p>"
   ]
  },
  {
   "cell_type": "markdown",
   "metadata": {},
   "source": [
    "Spyder incluye un editor de código con resaltado de sintaxis, autocompletado y depuración; una consola interactiva que permite ejecutar código en tiempo real; un explorador de variables para visualizar datos y estructuras como si fueran hojas de cálculo; y paneles adicionales para inspeccionar archivos, documentación, historial y gráficos. Todo esto lo convierte en una herramienta ideal para análisis de datos, computación científica y desarrollo de algoritmos.\n",
    "\n",
    "Generalmente viene incluido con Anaconda, por lo que está listo para usarse con bibliotecas como NumPy, Pandas, Matplotlib o SciPy sin configuraciones adicionales. En resumen, Spyder es un entorno claro, enfocado y funcional para quienes desean combinar programación con exploración interactiva de datos y resultados numéricos."
   ]
  },
  {
   "cell_type": "markdown",
   "metadata": {},
   "source": [
    "### Pycharm"
   ]
  },
  {
   "cell_type": "markdown",
   "metadata": {},
   "source": [
    "Es un entorno de desarrollo integrado (IDE) especializado en Python, creado por la empresa JetBrains. Está diseñado para facilitar el desarrollo profesional de aplicaciones, automatización, análisis de datos y ciencia computacional. Ofrece una experiencia robusta con herramientas avanzadas como autocompletado inteligente, depuración visual, análisis estático de código, pruebas automáticas, control de versiones integrado (como Git) y soporte para entornos virtuales."
   ]
  },
  {
   "cell_type": "markdown",
   "metadata": {},
   "source": [
    "```{image} Imagenes/Pycharm-logo.png\n",
    ":width: 400px\n",
    ":align: center\n",
    ":alt: numpy\n",
    "```\n",
    "<p style=\"text-align: center; font-size: 8px;\">\n",
    "    <a href=\"https://upload.wikimedia.org/wikipedia/commons/5/5d/JetBrains_PyCharm_Product_Logo.svg\" title=\"demo icons\">Imagotipo de PyCharm</a>\n",
    "</p>"
   ]
  },
  {
   "cell_type": "markdown",
   "metadata": {},
   "source": [
    "Existen dos versiones principales: una **Community Edition**, gratuita y de código abierto, con lo esencial para programar en Python, y una **Professional Edition**, de pago, que incluye características adicionales como soporte para desarrollo web (Django, Flask), bases de datos, ciencia de datos y herramientas colaborativas.\n",
    "\n",
    "PyCharm permite gestionar proyectos grandes de forma ordenada, facilita el trabajo con notebooks, terminales y scripts, e integra herramientas de gestión de paquetes como pip y conda. En resumen, PyCharm es una opción potente y completa para quienes buscan un entorno enfocado en productividad, estructura y herramientas profesionales en el desarrollo con Python."
   ]
  },
  {
   "cell_type": "markdown",
   "metadata": {},
   "source": [
    "### AWS Cloud9 y Azure Notebooks"
   ]
  },
  {
   "cell_type": "markdown",
   "metadata": {},
   "source": [
    "* **AWS Cloud9** es un entorno de desarrollo integrado (IDE) basado en la nube, ofrecido por Amazon Web Services. Permite escribir, ejecutar y depurar código directamente desde el navegador, sin necesidad de instalar nada en el computador local. Cloud9 incluye soporte para múltiples lenguajes (incluido Python), terminal Linux integrada, depurador gráfico, resaltado de sintaxis y control de versiones con Git. Su principal fortaleza está en que se integra profundamente con otros servicios de AWS, lo que facilita el desarrollo de aplicaciones que usen la nube (por ejemplo, APIs, bases de datos o funciones Lambda) desde un solo lugar. Además, el entorno corre sobre servidores virtuales (EC2), lo que permite ajustar recursos según las necesidades del proyecto.\n",
    "\n",
    "* **Azure Notebooks**, por su parte, fue un servicio gratuito ofrecido por Microsoft para trabajar con notebooks Jupyter en la nube, similar a Google Colab. Permitía ejecutar código Python desde el navegador, guardar los proyectos en la nube y compartirlos fácilmente. Aunque fue útil para tareas educativas y prototipos rápidos, Microsoft descontinuó oficialmente Azure Notebooks en 2021, recomendando en su lugar el uso de **Azure Machine Learning Notebooks**, que forman parte de su plataforma de inteligencia artificial en la nube. Estos nuevos notebooks están más enfocados en proyectos de ciencia de datos y aprendizaje automático, ofreciendo mayor potencia y escalabilidad, aunque requieren una configuración más técnica."
   ]
  },
  {
   "cell_type": "markdown",
   "metadata": {},
   "source": [
    "## Apéndice"
   ]
  },
  {
   "cell_type": "markdown",
   "metadata": {},
   "source": [
    "¡Gracias por su participación en el curso! Lo esperamos en una siguiente oportunidad."
   ]
  },
  {
   "cell_type": "markdown",
   "metadata": {},
   "source": [
    "### Documentación\n",
    "\n",
    "[Documentación del software _Python_](https://www.python.org/)  <br>\n",
    "[Documentación del software Anaconda](https://www.anaconda.com/)  <br>\n",
    "[Documentación del software Jupyter](https://jupyter.org/) <br>\n",
    "[Documentación del software Spyder](https://www.spyder-ide.org/) <br>\n",
    "[Documentación del software Visual Studio Code](https://code.visualstudio.com/) <br>\n",
    "[Documentación del servicio Google Colab](https://colab.research.google.com/) <br>"
   ]
  },
  {
   "cell_type": "markdown",
   "metadata": {},
   "source": [
    "### Referencias\n",
    "\n",
    "* Bader, D., Jablonski, J., & Heisler, F. (2021). Python Basics: A Practical Introduction to Python 3. Real Python."
   ]
  },
  {
   "cell_type": "markdown",
   "metadata": {},
   "source": [
    "<i>Taller de Análisis y procesamiento de datos con Open Source</i> © 2025 by <a href=\"https://scholar.google.es/citations?user=PP7CT6IAAAAJ\">Aníbal Montero</a> is licensed under <a href=\"https://creativecommons.org/licenses/by-nc-nd/4.0/\">CC BY-NC-ND 4.0</a><img src=\"https://mirrors.creativecommons.org/presskit/icons/cc.svg\" style=\"max-width: 1em;max-height:1em;margin-left: .2em;\"><img src=\"https://mirrors.creativecommons.org/presskit/icons/by.svg\" style=\"max-width: 1em;max-height:1em;margin-left: .2em;\"><img src=\"https://mirrors.creativecommons.org/presskit/icons/nc.svg\" style=\"max-width: 1em;max-height:1em;margin-left: .2em;\"><img src=\"https://mirrors.creativecommons.org/presskit/icons/nd.svg\" style=\"max-width: 1em;max-height:1em;margin-left: .2em;\">"
   ]
  }
 ],
 "metadata": {
  "kernelspec": {
   "display_name": "Python 3 (ipykernel)",
   "language": "python",
   "name": "python3"
  },
  "language_info": {
   "codemirror_mode": {
    "name": "ipython",
    "version": 3
   },
   "file_extension": ".py",
   "mimetype": "text/x-python",
   "name": "python",
   "nbconvert_exporter": "python",
   "pygments_lexer": "ipython3",
   "version": "3.10.4"
  }
 },
 "nbformat": 4,
 "nbformat_minor": 4
}
