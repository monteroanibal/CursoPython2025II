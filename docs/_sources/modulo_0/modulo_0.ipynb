{
 "cells": [
  {
   "cell_type": "markdown",
   "metadata": {},
   "source": [
    "# Presentación del curso\n",
    "\n",
    "**Taller de Análisis y procesamiento de datos con Open Source**"
   ]
  },
  {
   "cell_type": "markdown",
   "metadata": {},
   "source": [
    "## Objetivo general\n",
    "\n",
    "En el marco del apoyo a la migración a herramientas de estadística y de  manejo de datos de uso libre, el GIT de Investigación y Desarrollo de la DCD ha preparado un curso que permita introducir a nuestros colegas de la Dirección en el uso de Python para realizar los análisis y el procesamiento de datos en el software más versatil a la fecha bajo estas condiciones y propósitos: Python."
   ]
  },
  {
   "cell_type": "markdown",
   "metadata": {},
   "source": [
    "## Contenido\n",
    "\n",
    "Para este taller se ha trazado un contenido dividido en sesiones de dos (2) horas. A continuación, se muestra el contenido barrido a la fecha y la programaci{on para algunas de las siguientesa clases:\n",
    "\n",
    "| Sesión núm. | Fecha | Título | Subtemas | Docente |\n",
    "|------|------|------|------|------|\n",
    "| 1 | 22ago2025 | **Entornos de desarrollo** | Anaconda, Spyder, Jupyter, Visual Studio Code, Google Colab. | **Cristian Bermúdez** |\n",
    "| 2 | 05sep2025 | **Un primer código en Python y R** | Fundamentos y operaciones básicas del lenguaje, tipos de datos. | **Aníbal Montero** |\n",
    "| 3 | 19sep2025 | **Manipulación de datos con numpy** | Arrays, operaciones, exploracion de datos, analítica de datos | **Aníbal Montero** |\n",
    "| 4 | 03oct2025 | **Manipulación de datos con pandas** | Dataframes, operaciones, cruce de datos, analítica de datos | **Aníbal Montero** |\n",
    "| 5 | 17oct2025 | **Visualización de datos** | Uso de las librerías matplotlib, seaborn, ggplot2 | **Steven Cifuentes** |\n",
    "| 6 | 31oct2025 | **Elaboración de mapas** | Uso de las librerías pydeck, leafmap, plotly | **Aníbal Montero** |\n",
    "\n",
    "Se espera realizar la sesión de instalación del entorno de desarrollo en MS Windows para Miniconda."
   ]
  },
  {
   "cell_type": "markdown",
   "metadata": {},
   "source": [
    "```{admonition} Actividad \n",
    ":class: important\n",
    "Nuestra próxima clase se realizará en **03oct2025** en el horario habitual, bajo el título **Manipulación de datos con pandas**.\n",
    "```"
   ]
  },
  {
   "cell_type": "markdown",
   "metadata": {},
   "source": [
    "```{image} Imagenes/rocket.png\n",
    ":width: 175px\n",
    ":align: center\n",
    ":alt: numpy\n",
    "```\n",
    "<p style=\"text-align: center; font-size: 8px;\">\n",
    "    <a href=\"https://www.flaticon.com/free-icons/introduce\" title=\"introduce icons\">Introduce icons created by Vectors Tank - Flaticon</a>\n",
    "</p>"
   ]
  },
  {
   "cell_type": "markdown",
   "metadata": {},
   "source": [
    "## Metodología\n",
    "\n",
    "Cada sesión en general se abordará con la siguiente metodología:\n",
    "\n",
    "1. Se delimitará una problemática específica\n",
    "2. Seguido de esto se abordará con la implementación de código en Python respectiva explicado por el respectivo profesor\n",
    "3. Se incluirán las referencias a las soluciones traidas en clase\n",
    "4. Se realizará un sondeo de los conocimientos adquiridos al final de la sesión"
   ]
  },
  {
   "cell_type": "markdown",
   "metadata": {},
   "source": [
    "## Netiqueta\n",
    "\n",
    "* Usar un lenguaje claro, respetuoso y profesional\n",
    "* Saludar y despedirse en los espacios de interacción\n",
    "* Mantener el respeto en opiniones y debates\n",
    "* Evitar escribir en mayúsculas\n",
    "* Ser breve y preciso en las intervenciones\n",
    "* Compartir solo material relevante y con fuente citada\n",
    "* Evitar contenido ofensivo o inapropiado\n",
    "* Silenciar el micrófono cuando no se interviene\n",
    "* Evitar interrumpir al docente o compañeros\n",
    "* Usar la función de “levantar la mano” o el chat para solicitar la palabra"
   ]
  },
  {
   "cell_type": "markdown",
   "metadata": {},
   "source": [
    "## Profesores"
   ]
  },
  {
   "cell_type": "markdown",
   "metadata": {},
   "source": [
    "```{image} Imagenes/Anibal-modified-modified.png\n",
    ":width: 150px\n",
    ":align: center\n",
    ":alt: numpy\n",
    "```\n",
    "<p style=\"text-align: center; font-size: 13px;\">\n",
    "<strong>Aníbal Montero Leguizamón</strong><br>\n",
    "Msc. Ingeniería de Sistemas<br>\n",
    "Esp. Desarrollo de Bases de Datos<br>\n",
    "Estadístico\n",
    "</p>\n",
    "\n",
    "```{image} Imagenes/Steven-modified-modified.png\n",
    ":width: 150px\n",
    ":align: center\n",
    ":alt: numpy\n",
    "```\n",
    "<p style=\"text-align: center; font-size: 13px;\">\n",
    "<strong>Steven Cifuentes Rugeles</strong><br>\n",
    "Msc. Ciencia de datos<br>\n",
    "Estadístico\n",
    "</p>\n",
    "\n",
    "```{image} Imagenes/Cristian-modified-modified.png\n",
    ":width: 150px\n",
    ":align: center\n",
    ":alt: numpy\n",
    "```\n",
    "<p style=\"text-align: center; font-size: 13px;\">\n",
    "<strong>Cristian Duney Bermúdez</strong><br>\n",
    "Msc. Gestión de las Tecnologías de Información<br>\n",
    "Esp. Docencia Universitaria<br>\n",
    "Esp. Redes de Telecomumnicaciones<br>\n",
    "Ingeniero de Sistemas\n",
    "</p>\n",
    "\n",
    "¡Gracias por su participación en el taller!"
   ]
  },
  {
   "cell_type": "markdown",
   "metadata": {},
   "source": [
    "<i>Taller de Análisis y procesamiento de datos con Open Source</i> © 2025 by <a href=\"https://scholar.google.es/citations?user=PP7CT6IAAAAJ\">Aníbal Montero</a> is licensed under <a href=\"https://creativecommons.org/licenses/by-nc-nd/4.0/\">CC BY-NC-ND 4.0</a><img src=\"https://mirrors.creativecommons.org/presskit/icons/cc.svg\" style=\"max-width: 1em;max-height:1em;margin-left: .2em;\"><img src=\"https://mirrors.creativecommons.org/presskit/icons/by.svg\" style=\"max-width: 1em;max-height:1em;margin-left: .2em;\"><img src=\"https://mirrors.creativecommons.org/presskit/icons/nc.svg\" style=\"max-width: 1em;max-height:1em;margin-left: .2em;\"><img src=\"https://mirrors.creativecommons.org/presskit/icons/nd.svg\" style=\"max-width: 1em;max-height:1em;margin-left: .2em;\">"
   ]
  }
 ],
 "metadata": {
  "kernelspec": {
   "display_name": "Python 3 (ipykernel)",
   "language": "python",
   "name": "python3"
  },
  "language_info": {
   "codemirror_mode": {
    "name": "ipython",
    "version": 3
   },
   "file_extension": ".py",
   "mimetype": "text/x-python",
   "name": "python",
   "nbconvert_exporter": "python",
   "pygments_lexer": "ipython3",
   "version": "3.13.5"
  }
 },
 "nbformat": 4,
 "nbformat_minor": 4
}
